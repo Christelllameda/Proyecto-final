{
 "cells": [
  {
   "cell_type": "markdown",
   "id": "1b29be31",
   "metadata": {},
   "source": [
    "### Para comenzar con el scrapping, importamos las funciones que tenemos en el archivo 'procesos'"
   ]
  },
  {
   "cell_type": "code",
   "execution_count": 1,
   "id": "4423d483",
   "metadata": {},
   "outputs": [],
   "source": [
    "from procesos import *"
   ]
  },
  {
   "cell_type": "code",
   "execution_count": 2,
   "id": "29934582",
   "metadata": {},
   "outputs": [],
   "source": [
    "import warnings\n",
    "warnings.filterwarnings('ignore')\n",
    "import pandas as pd\n",
    "import numpy as np\n",
    "import re"
   ]
  },
  {
   "cell_type": "markdown",
   "id": "f011f0a3",
   "metadata": {},
   "source": [
    "### Establecemos el nombre de las columnas que tendrá el dataframe"
   ]
  },
  {
   "cell_type": "code",
   "execution_count": 3,
   "id": "02ee2f8d",
   "metadata": {},
   "outputs": [],
   "source": [
    "columnas = ['Obra','Status','Ejecución física %','Ejecución financiera %','Estado','Municipio','Dirección','Personas afectadas','Ente responsable','Funcionario responsable','Empresa contratista','Valor total de la obra USD (millones)','Obra financiada por FONDEN','Monto comprometido USD (millones)','Fecha estimada de inicio','Fecha real de inicio','Fecha culminación estimada de la obra','Fecha de paralización']"
   ]
  },
  {
   "cell_type": "markdown",
   "id": "ca6723d7",
   "metadata": {},
   "source": [
    "### Llamamos a la función 'obtener_datos_obra' que realiza el proceso de web scraping (selenium), obtenemos los datos que queremos de la obra y lo convertimos en un dataframe"
   ]
  },
  {
   "cell_type": "code",
   "execution_count": 4,
   "id": "cc3980f7",
   "metadata": {},
   "outputs": [],
   "source": [
    "url = 'https://transparenciave.org/obrasinconclusas/obras_inconclusas/complejo-industrial-gran-mariscal-de-ayacucho-cigma/'\n",
    "complejo_gma = obtener_datos_obra(url)"
   ]
  },
  {
   "cell_type": "code",
   "execution_count": 7,
   "id": "8eb246f0",
   "metadata": {},
   "outputs": [
    {
     "data": {
      "text/html": [
       "<div>\n",
       "<style scoped>\n",
       "    .dataframe tbody tr th:only-of-type {\n",
       "        vertical-align: middle;\n",
       "    }\n",
       "\n",
       "    .dataframe tbody tr th {\n",
       "        vertical-align: top;\n",
       "    }\n",
       "\n",
       "    .dataframe thead th {\n",
       "        text-align: right;\n",
       "    }\n",
       "</style>\n",
       "<table border=\"1\" class=\"dataframe\">\n",
       "  <thead>\n",
       "    <tr style=\"text-align: right;\">\n",
       "      <th></th>\n",
       "      <th>Obra</th>\n",
       "      <th>Status</th>\n",
       "      <th>Ejecución física %</th>\n",
       "      <th>Ejecución financiera %</th>\n",
       "      <th>Estado</th>\n",
       "      <th>Municipio</th>\n",
       "      <th>Dirección</th>\n",
       "      <th>Personas afectadas</th>\n",
       "      <th>Ente responsable</th>\n",
       "      <th>Funcionario responsable</th>\n",
       "      <th>Empresa contratista</th>\n",
       "      <th>Valor total de la obra USD (millones)</th>\n",
       "      <th>Obra financiada por FONDEN</th>\n",
       "      <th>Monto comprometido USD (millones)</th>\n",
       "      <th>Fecha estimada de inicio</th>\n",
       "      <th>Fecha real de inicio</th>\n",
       "      <th>Fecha culminación estimada de la obra</th>\n",
       "      <th>Fecha de paralización</th>\n",
       "    </tr>\n",
       "  </thead>\n",
       "  <tbody>\n",
       "    <tr>\n",
       "      <th>0</th>\n",
       "      <td>COMPLEJO INDUSTRIAL GRAN MARISCAL DE AYACUCHO ...</td>\n",
       "      <td>Paralizada</td>\n",
       "      <td>25%</td>\n",
       "      <td>S/I</td>\n",
       "      <td>Estado Sucre</td>\n",
       "      <td>Valdez</td>\n",
       "      <td>HMMW+XGR, Güiria 6161</td>\n",
       "      <td>Entre 100.001 y 1.000.000</td>\n",
       "      <td>S/I</td>\n",
       "      <td>S/I</td>\n",
       "      <td>S/I</td>\n",
       "      <td>USD 13.000.000.000</td>\n",
       "      <td>S/I</td>\n",
       "      <td>S/I</td>\n",
       "      <td>2007</td>\n",
       "      <td>S/I</td>\n",
       "      <td>2009</td>\n",
       "      <td>S/I</td>\n",
       "    </tr>\n",
       "  </tbody>\n",
       "</table>\n",
       "</div>"
      ],
      "text/plain": [
       "                                                Obra      Status  \\\n",
       "0  COMPLEJO INDUSTRIAL GRAN MARISCAL DE AYACUCHO ...  Paralizada   \n",
       "\n",
       "  Ejecución física % Ejecución financiera %        Estado Municipio  \\\n",
       "0                25%                    S/I  Estado Sucre    Valdez   \n",
       "\n",
       "               Dirección         Personas afectadas Ente responsable  \\\n",
       "0  HMMW+XGR, Güiria 6161  Entre 100.001 y 1.000.000              S/I   \n",
       "\n",
       "  Funcionario responsable Empresa contratista  \\\n",
       "0                     S/I                 S/I   \n",
       "\n",
       "  Valor total de la obra USD (millones) Obra financiada por FONDEN  \\\n",
       "0                    USD 13.000.000.000                        S/I   \n",
       "\n",
       "  Monto comprometido USD (millones) Fecha estimada de inicio  \\\n",
       "0                               S/I                     2007   \n",
       "\n",
       "  Fecha real de inicio Fecha culminación estimada de la obra  \\\n",
       "0                  S/I                                  2009   \n",
       "\n",
       "  Fecha de paralización  \n",
       "0                   S/I  "
      ]
     },
     "execution_count": 7,
     "metadata": {},
     "output_type": "execute_result"
    }
   ],
   "source": [
    "df = pd.DataFrame([complejo_gma]) #convertimos los datos en un dataframe\n",
    "df['Obra financiada por FONDEN'] = 'S/I' #agregamos las columnas que hacen falta para mantener el formato del DF\n",
    "df['Monto comprometido USD (millones)'] = 'S/I'\n",
    "\n",
    "#Reorganizamos el orden de las columnas\n",
    "df = df[[0,1,2,3,4,5,6,7,8,9,10,11,'Obra financiada por FONDEN','Monto comprometido USD (millones)',12,13,14,15]]\n",
    "df.columns = columnas\n",
    "df"
   ]
  },
  {
   "cell_type": "code",
   "execution_count": 8,
   "id": "69403f79",
   "metadata": {},
   "outputs": [],
   "source": [
    "url2 = 'https://transparenciave.org/obrasinconclusas/obras_inconclusas/complejo-petroquimico-moron/'\n",
    "complejo_moron = obtener_datos_obra(url2)"
   ]
  },
  {
   "cell_type": "code",
   "execution_count": 11,
   "id": "cdc96e6d",
   "metadata": {},
   "outputs": [],
   "source": [
    "df2 = pd.DataFrame([complejo_moron]) \n",
    "df2.columns = columnas"
   ]
  },
  {
   "cell_type": "code",
   "execution_count": 12,
   "id": "8839954d",
   "metadata": {},
   "outputs": [],
   "source": [
    "url3 = 'https://transparenciave.org/obrasinconclusas/obras_inconclusas/complejo-petroquimico-puerto-nutrias/'\n",
    "complejo_puerto_nurias = obtener_datos_obra(url3)"
   ]
  },
  {
   "cell_type": "code",
   "execution_count": 15,
   "id": "722cbcb2",
   "metadata": {},
   "outputs": [],
   "source": [
    "df3 = pd.DataFrame([complejo_puerto_nurias]) \n",
    "df3.columns = columnas"
   ]
  },
  {
   "cell_type": "code",
   "execution_count": 16,
   "id": "c7a44f34",
   "metadata": {},
   "outputs": [],
   "source": [
    "url4 = 'https://transparenciave.org/obrasinconclusas/obras_inconclusas/planta-fertilizantes-4/'\n",
    "planta_fert = obtener_datos_obra(url4)"
   ]
  },
  {
   "cell_type": "code",
   "execution_count": 19,
   "id": "2735d6e1",
   "metadata": {},
   "outputs": [],
   "source": [
    "df4 = pd.DataFrame([planta_fert]) \n",
    "df4.columns = columnas"
   ]
  },
  {
   "cell_type": "code",
   "execution_count": 20,
   "id": "e3f2b408",
   "metadata": {},
   "outputs": [],
   "source": [
    "url5 = 'https://transparenciave.org/obrasinconclusas/obras_inconclusas/planta-procesadora-de-etanol/'\n",
    "planta_procesadora = obtener_datos_obra(url5)"
   ]
  },
  {
   "cell_type": "code",
   "execution_count": 24,
   "id": "b84275cd",
   "metadata": {},
   "outputs": [],
   "source": [
    "df5 = pd.DataFrame([planta_procesadora]) \n",
    "df5['Obra financiada por FONDEN'] = 'S/I' #agregamos las columnas que hacen falta para mantener el formato del DF\n",
    "df5['Monto comprometido USD (millones)'] = 'S/I'\n",
    "\n",
    "#Reorganizamos el orden de las columnas\n",
    "df5 = df5[[0,1,2,3,4,5,6,7,8,9,10,11,'Obra financiada por FONDEN','Monto comprometido USD (millones)',12,13,14,15]]\n",
    "df5.columns = columnas"
   ]
  },
  {
   "cell_type": "code",
   "execution_count": 30,
   "id": "c4ae2561",
   "metadata": {},
   "outputs": [],
   "source": [
    "url6 = 'https://transparenciave.org/obrasinconclusas/obras_inconclusas/proyecto-de-conversion-profunda-refineria-puerto-la-cruz/'\n",
    "refineria_pto = obtener_datos_obra(url6)"
   ]
  },
  {
   "cell_type": "code",
   "execution_count": 33,
   "id": "b591c394",
   "metadata": {},
   "outputs": [],
   "source": [
    "df6 = pd.DataFrame([refineria_pto]) \n",
    "\n",
    "df6 = df6.drop(df6.columns[[2, 3]], axis=1) #eliminamos las columnas 2 y 3 que no tienen información\n",
    "\n",
    "df6['Obra financiada por FONDEN'] = 'S/I' #agregamos las columnas que hacen falta para mantener el formato del DF\n",
    "df6['Monto comprometido USD (millones)'] = 'S/I'\n",
    "\n",
    "#Reorganizamos el orden de las columnas\n",
    "df6 = df6[[0,1,4,5,6,7,8,9,10,11,12,13,'Obra financiada por FONDEN','Monto comprometido USD (millones)',14,16,16,17]]\n",
    "df6.columns = columnas"
   ]
  },
  {
   "cell_type": "code",
   "execution_count": 34,
   "id": "dc1e9931",
   "metadata": {},
   "outputs": [],
   "source": [
    "url7 = 'https://transparenciave.org/obrasinconclusas/obras_inconclusas/proyecto-gas-anaco-fase-ii-construccion-de-5-centros-operativos-de-gas-anaco-san-joaquin-santa-rosa-zapato-mata-r-santa-ana-y-aguasay/'\n",
    "proyecto_gas = obtener_datos_obra(url7)"
   ]
  },
  {
   "cell_type": "code",
   "execution_count": 37,
   "id": "b20b9f88",
   "metadata": {},
   "outputs": [],
   "source": [
    "df7 = pd.DataFrame([proyecto_gas]) \n",
    "df7['Obra financiada por FONDEN'] = 'S/I' #agregamos las columnas que hacen falta para mantener el formato del DF\n",
    "df7['Monto comprometido USD (millones)'] = 'S/I'\n",
    "\n",
    "#Reorganizamos el orden de las columnas\n",
    "df7 = df7[[0,1,2,3,4,5,6,7,8,9,10,11,'Obra financiada por FONDEN','Monto comprometido USD (millones)',12,13,14,15]]\n",
    "df7.columns = columnas"
   ]
  },
  {
   "cell_type": "code",
   "execution_count": 38,
   "id": "ad3208a7",
   "metadata": {},
   "outputs": [],
   "source": [
    "url8 = 'https://transparenciave.org/obrasinconclusas/obras_inconclusas/terminal-maritima-de-moron/'\n",
    "terminal_moron = obtener_datos_obra(url8)"
   ]
  },
  {
   "cell_type": "code",
   "execution_count": 40,
   "id": "48090db6",
   "metadata": {},
   "outputs": [
    {
     "data": {
      "text/html": [
       "<div>\n",
       "<style scoped>\n",
       "    .dataframe tbody tr th:only-of-type {\n",
       "        vertical-align: middle;\n",
       "    }\n",
       "\n",
       "    .dataframe tbody tr th {\n",
       "        vertical-align: top;\n",
       "    }\n",
       "\n",
       "    .dataframe thead th {\n",
       "        text-align: right;\n",
       "    }\n",
       "</style>\n",
       "<table border=\"1\" class=\"dataframe\">\n",
       "  <thead>\n",
       "    <tr style=\"text-align: right;\">\n",
       "      <th></th>\n",
       "      <th>Obra</th>\n",
       "      <th>Status</th>\n",
       "      <th>Ejecución física %</th>\n",
       "      <th>Ejecución financiera %</th>\n",
       "      <th>Estado</th>\n",
       "      <th>Municipio</th>\n",
       "      <th>Dirección</th>\n",
       "      <th>Personas afectadas</th>\n",
       "      <th>Ente responsable</th>\n",
       "      <th>Funcionario responsable</th>\n",
       "      <th>Empresa contratista</th>\n",
       "      <th>Valor total de la obra USD (millones)</th>\n",
       "      <th>Obra financiada por FONDEN</th>\n",
       "      <th>Monto comprometido USD (millones)</th>\n",
       "      <th>Fecha estimada de inicio</th>\n",
       "      <th>Fecha real de inicio</th>\n",
       "      <th>Fecha culminación estimada de la obra</th>\n",
       "      <th>Fecha de paralización</th>\n",
       "    </tr>\n",
       "  </thead>\n",
       "  <tbody>\n",
       "    <tr>\n",
       "      <th>0</th>\n",
       "      <td>TERMINAL MARÍTIMA DE MORÓN</td>\n",
       "      <td>Paralizada</td>\n",
       "      <td>13,82%</td>\n",
       "      <td>S/I</td>\n",
       "      <td>Estado Carabobo</td>\n",
       "      <td>Juan José Mora</td>\n",
       "      <td>GRC2+M39, Troncal3, 2051, Carabobo</td>\n",
       "      <td>Entre 100.001 y 1.000.000</td>\n",
       "      <td>Petroquímica de Venezuela (Pequiven) / Ministe...</td>\n",
       "      <td>S/I</td>\n",
       "      <td>S/I</td>\n",
       "      <td>USD 76.382.030.000</td>\n",
       "      <td>Si</td>\n",
       "      <td>USD 72.000.000,00</td>\n",
       "      <td>2013</td>\n",
       "      <td>S/I</td>\n",
       "      <td>2018</td>\n",
       "      <td>S/I</td>\n",
       "    </tr>\n",
       "  </tbody>\n",
       "</table>\n",
       "</div>"
      ],
      "text/plain": [
       "                         Obra      Status Ejecución física %  \\\n",
       "0  TERMINAL MARÍTIMA DE MORÓN  Paralizada             13,82%   \n",
       "\n",
       "  Ejecución financiera %           Estado       Municipio  \\\n",
       "0                    S/I  Estado Carabobo  Juan José Mora   \n",
       "\n",
       "                            Dirección         Personas afectadas  \\\n",
       "0  GRC2+M39, Troncal3, 2051, Carabobo  Entre 100.001 y 1.000.000   \n",
       "\n",
       "                                    Ente responsable Funcionario responsable  \\\n",
       "0  Petroquímica de Venezuela (Pequiven) / Ministe...                     S/I   \n",
       "\n",
       "  Empresa contratista Valor total de la obra USD (millones)  \\\n",
       "0                 S/I                    USD 76.382.030.000   \n",
       "\n",
       "  Obra financiada por FONDEN Monto comprometido USD (millones)  \\\n",
       "0                         Si                 USD 72.000.000,00   \n",
       "\n",
       "  Fecha estimada de inicio Fecha real de inicio  \\\n",
       "0                     2013                  S/I   \n",
       "\n",
       "  Fecha culminación estimada de la obra Fecha de paralización  \n",
       "0                                  2018                   S/I  "
      ]
     },
     "execution_count": 40,
     "metadata": {},
     "output_type": "execute_result"
    }
   ],
   "source": [
    "df8 = pd.DataFrame([terminal_moron]) \n",
    "df8.columns = columnas\n",
    "df8"
   ]
  },
  {
   "cell_type": "markdown",
   "id": "659758ba",
   "metadata": {},
   "source": [
    "### Procedemos a juntar todos los dataframes"
   ]
  },
  {
   "cell_type": "code",
   "execution_count": 49,
   "id": "d01b346e",
   "metadata": {},
   "outputs": [],
   "source": [
    "# Concatena los DataFrames en uno solo\n",
    "data_hidro = pd.concat([df,df2,df3,df4,df5,df6,df7,df8],ignore_index=True)"
   ]
  },
  {
   "cell_type": "markdown",
   "id": "b56beceb",
   "metadata": {},
   "source": [
    "### Para conocer las coordenadas de cada una de las obras, hacemos uso de Geopy"
   ]
  },
  {
   "cell_type": "code",
   "execution_count": 50,
   "id": "fa21d8bc",
   "metadata": {},
   "outputs": [],
   "source": [
    "#Asignamos como dirección el Municipio y Estado de cada obra para conocer sus coordenadas\n",
    "municipio_estado = data_hidro['Municipio'] + ', ' + data_hidro['Estado']\n",
    "lista_municipio_estado = municipio_estado.tolist()"
   ]
  },
  {
   "cell_type": "code",
   "execution_count": 51,
   "id": "97814598",
   "metadata": {},
   "outputs": [],
   "source": [
    "latitudes = obtener_latitudes(lista_municipio_estado) #obtenemos la latitud de la obra"
   ]
  },
  {
   "cell_type": "code",
   "execution_count": 52,
   "id": "49e98cbf",
   "metadata": {},
   "outputs": [],
   "source": [
    "longitudes = obtener_longitudes(lista_municipio_estado) #obtenemos la longitud de la obra"
   ]
  },
  {
   "cell_type": "code",
   "execution_count": 53,
   "id": "0b218d17",
   "metadata": {},
   "outputs": [],
   "source": [
    "data_hidro['Latitud'] = latitudes #agregamos una nueva columna con todos los valores de las latitudes\n",
    "data_hidro['Longitud'] = longitudes #agregamos una nueva columna con todos los valores de las longitudes"
   ]
  },
  {
   "cell_type": "markdown",
   "id": "170a5eff",
   "metadata": {},
   "source": [
    "### Extraemos la parte numérica de la columna 'Valor total de la obra' para tener un dato de tipo entero"
   ]
  },
  {
   "cell_type": "code",
   "execution_count": 55,
   "id": "80eaeeb0",
   "metadata": {},
   "outputs": [],
   "source": [
    "# Aplicar la función a la columna 'Valor total de la obra'\n",
    "data_hidro['Valor total de la obra USD (millones)'] = data_hidro['Valor total de la obra USD (millones)'].apply(extract_numeric_value)\n",
    "\n",
    "data_hidro['Valor total de la obra USD (millones)'] = data_hidro['Valor total de la obra USD (millones)'].str.replace('.', '', regex=True).fillna('0').astype(int)\n",
    "\n",
    "#Dividimos para tener el total de millones en un número mas legible\n",
    "data_hidro['Valor total de la obra USD (millones)'] = (data_hidro['Valor total de la obra USD (millones)'] / 1000000).astype(int)"
   ]
  },
  {
   "cell_type": "markdown",
   "id": "1157c718",
   "metadata": {},
   "source": [
    "### Limpiamos la columna 'Monto comprometido', extraemos la parte numérica, llenamos los valores nulos con '0', transformamos a un tipo de dato float"
   ]
  },
  {
   "cell_type": "code",
   "execution_count": 56,
   "id": "e682056a",
   "metadata": {},
   "outputs": [],
   "source": [
    "data_hidro['Monto comprometido USD (millones)'] = data_hidro['Monto comprometido USD (millones)'].apply(extract_numeric_value)\n",
    "data_hidro['Monto comprometido USD (millones)'] = data_hidro['Monto comprometido USD (millones)'].fillna('0')\n",
    "\n",
    "# Convertir la columna a cadena, eliminar los puntos y reemplazar las comas por puntos\n",
    "data_hidro['Monto comprometido USD (millones)'] = data_hidro['Monto comprometido USD (millones)'].astype(str)\n",
    "data_hidro['Monto comprometido USD (millones)'] = data_hidro['Monto comprometido USD (millones)'].str.replace('.', '').str.replace(',', '.')\n",
    "\n",
    "# Convertir la columna a tipo float\n",
    "data_hidro['Monto comprometido USD (millones)'] = pd.to_numeric(data_hidro['Monto comprometido USD (millones)'], errors='coerce')\n",
    "\n",
    "#Dividimos para tener el total de millones en un número más legible\n",
    "data_hidro['Monto comprometido USD (millones)'] = (data_hidro['Monto comprometido USD (millones)'] / 1000000).astype(int)"
   ]
  },
  {
   "cell_type": "markdown",
   "id": "a8e878b0",
   "metadata": {},
   "source": [
    "### Cambiamos el tipo de dato de la columna 'Fecha estimada de inicio' por datetime y extraemos el año"
   ]
  },
  {
   "cell_type": "code",
   "execution_count": 57,
   "id": "1c0e1157",
   "metadata": {},
   "outputs": [],
   "source": [
    "# Convertir la columna 'Fecha estimada de inicio' a datetime\n",
    "data_hidro['Fecha estimada de inicio'] = pd.to_datetime(data_hidro['Fecha estimada de inicio'], errors='coerce')\n",
    "data_hidro['Fecha estimada de inicio'] = data_hidro['Fecha estimada de inicio'].dt.year"
   ]
  },
  {
   "cell_type": "markdown",
   "id": "07011b97",
   "metadata": {},
   "source": [
    "### Transformamos las columnas 'Ejecución física' y 'Ejecución financiera' en valores de tipo float, para ello llenamos los valores 'S/I' con 0 y extraemos la parte numérica"
   ]
  },
  {
   "cell_type": "code",
   "execution_count": 58,
   "id": "6ac6c82c",
   "metadata": {},
   "outputs": [],
   "source": [
    "data_hidro['Ejecución física %'] = data_hidro['Ejecución física %'].apply(extract_numeric_value)\n",
    "data_hidro['Ejecución física %'] = data_hidro['Ejecución física %'].str.replace(',', '.').replace({None: '0'})\n",
    "\n",
    "# Convertir la columna a tipo float\n",
    "data_hidro['Ejecución física %'] = data_hidro['Ejecución física %'].astype(float)"
   ]
  },
  {
   "cell_type": "code",
   "execution_count": 59,
   "id": "dfb667e6",
   "metadata": {},
   "outputs": [],
   "source": [
    "data_hidro['Ejecución financiera %'] = data_hidro['Ejecución financiera %'].apply(extract_numeric_value)\n",
    "data_hidro['Ejecución financiera %'] = data_hidro['Ejecución financiera %'].str.replace(',', '.').replace({None: '0'})\n",
    "\n",
    "# Convertir la columna a tipo float\n",
    "data_hidro['Ejecución financiera %'] = data_hidro['Ejecución financiera %'].astype(float)"
   ]
  },
  {
   "cell_type": "markdown",
   "id": "4bd70d28",
   "metadata": {},
   "source": [
    "### Añadimos una nueva columna para indicar cuál es el sector correspondiente a la obra"
   ]
  },
  {
   "cell_type": "code",
   "execution_count": 60,
   "id": "2cd0082c",
   "metadata": {},
   "outputs": [],
   "source": [
    "data_hidro['Sector'] = 'Hidrocarburos'"
   ]
  },
  {
   "cell_type": "code",
   "execution_count": 61,
   "id": "7a519ba1",
   "metadata": {},
   "outputs": [],
   "source": [
    "#Reordenamos las columnas\n",
    "nuevo_orden = ['Sector','Obra','Status','Ejecución física %','Ejecución financiera %','Estado','Municipio','Dirección','Personas afectadas','Ente responsable','Funcionario responsable','Empresa contratista','Valor total de la obra USD (millones)','Obra financiada por FONDEN','Monto comprometido USD (millones)','Fecha estimada de inicio','Fecha real de inicio','Fecha culminación estimada de la obra','Fecha de paralización', 'Latitud', 'Longitud']\n",
    "data_hidro = data_hidro[nuevo_orden]"
   ]
  },
  {
   "cell_type": "code",
   "execution_count": 63,
   "id": "1653d74f",
   "metadata": {},
   "outputs": [
    {
     "data": {
      "text/html": [
       "<div>\n",
       "<style scoped>\n",
       "    .dataframe tbody tr th:only-of-type {\n",
       "        vertical-align: middle;\n",
       "    }\n",
       "\n",
       "    .dataframe tbody tr th {\n",
       "        vertical-align: top;\n",
       "    }\n",
       "\n",
       "    .dataframe thead th {\n",
       "        text-align: right;\n",
       "    }\n",
       "</style>\n",
       "<table border=\"1\" class=\"dataframe\">\n",
       "  <thead>\n",
       "    <tr style=\"text-align: right;\">\n",
       "      <th></th>\n",
       "      <th>Sector</th>\n",
       "      <th>Obra</th>\n",
       "      <th>Status</th>\n",
       "      <th>Ejecución física %</th>\n",
       "      <th>Ejecución financiera %</th>\n",
       "      <th>Estado</th>\n",
       "      <th>Municipio</th>\n",
       "      <th>Dirección</th>\n",
       "      <th>Personas afectadas</th>\n",
       "      <th>Ente responsable</th>\n",
       "      <th>...</th>\n",
       "      <th>Empresa contratista</th>\n",
       "      <th>Valor total de la obra USD (millones)</th>\n",
       "      <th>Obra financiada por FONDEN</th>\n",
       "      <th>Monto comprometido USD (millones)</th>\n",
       "      <th>Fecha estimada de inicio</th>\n",
       "      <th>Fecha real de inicio</th>\n",
       "      <th>Fecha culminación estimada de la obra</th>\n",
       "      <th>Fecha de paralización</th>\n",
       "      <th>Latitud</th>\n",
       "      <th>Longitud</th>\n",
       "    </tr>\n",
       "  </thead>\n",
       "  <tbody>\n",
       "    <tr>\n",
       "      <th>0</th>\n",
       "      <td>Hidrocarburos</td>\n",
       "      <td>COMPLEJO INDUSTRIAL GRAN MARISCAL DE AYACUCHO ...</td>\n",
       "      <td>Paralizada</td>\n",
       "      <td>25.0000</td>\n",
       "      <td>0.00</td>\n",
       "      <td>Estado Sucre</td>\n",
       "      <td>Valdez</td>\n",
       "      <td>HMMW+XGR, Güiria 6161</td>\n",
       "      <td>Entre 100.001 y 1.000.000</td>\n",
       "      <td>S/I</td>\n",
       "      <td>...</td>\n",
       "      <td>S/I</td>\n",
       "      <td>13000</td>\n",
       "      <td>S/I</td>\n",
       "      <td>0</td>\n",
       "      <td>2007.0</td>\n",
       "      <td>S/I</td>\n",
       "      <td>2009</td>\n",
       "      <td>S/I</td>\n",
       "      <td>10.632361</td>\n",
       "      <td>-62.230990</td>\n",
       "    </tr>\n",
       "    <tr>\n",
       "      <th>1</th>\n",
       "      <td>Hidrocarburos</td>\n",
       "      <td>COMPLEJO PETROQUÍMICO MORÓN</td>\n",
       "      <td>Paralizada</td>\n",
       "      <td>95.3900</td>\n",
       "      <td>50.19</td>\n",
       "      <td>Estado Carabobo</td>\n",
       "      <td>Juan José Mora</td>\n",
       "      <td>GRC2+M39, Troncal3, 2051, Carabobo</td>\n",
       "      <td>Entre 100.001 y 1.000.000</td>\n",
       "      <td>Petroquímica de Venezuela (Pequiven) / Ministe...</td>\n",
       "      <td>...</td>\n",
       "      <td>S/I</td>\n",
       "      <td>3276</td>\n",
       "      <td>Si</td>\n",
       "      <td>507</td>\n",
       "      <td>2005.0</td>\n",
       "      <td>S/I</td>\n",
       "      <td>2017</td>\n",
       "      <td>S/I</td>\n",
       "      <td>10.441976</td>\n",
       "      <td>-68.277613</td>\n",
       "    </tr>\n",
       "    <tr>\n",
       "      <th>2</th>\n",
       "      <td>Hidrocarburos</td>\n",
       "      <td>COMPLEJO PETROQUÍMICO PUERTO NUTRIAS</td>\n",
       "      <td>Con recursos desembolsados - no iniciada</td>\n",
       "      <td>0.6000</td>\n",
       "      <td>33.14</td>\n",
       "      <td>Estado Barinas</td>\n",
       "      <td>Sosa</td>\n",
       "      <td>Puerto Nutrias</td>\n",
       "      <td>Entre 100.001 y 1.000.000</td>\n",
       "      <td>Petroquímica de Venezuela (Pequiven) / Ministe...</td>\n",
       "      <td>...</td>\n",
       "      <td>S/I</td>\n",
       "      <td>1434</td>\n",
       "      <td>Si</td>\n",
       "      <td>31</td>\n",
       "      <td>2007.0</td>\n",
       "      <td>S/I</td>\n",
       "      <td>2018</td>\n",
       "      <td>S/I</td>\n",
       "      <td>8.297021</td>\n",
       "      <td>-69.290298</td>\n",
       "    </tr>\n",
       "    <tr>\n",
       "      <th>3</th>\n",
       "      <td>Hidrocarburos</td>\n",
       "      <td>PLANTA FERTILIZANTES 4</td>\n",
       "      <td>Paralizada</td>\n",
       "      <td>70.8532</td>\n",
       "      <td>0.00</td>\n",
       "      <td>Estado Carabobo</td>\n",
       "      <td>Juan José Mora</td>\n",
       "      <td>GRC2+M39, Troncal3, 2051, Carabobo</td>\n",
       "      <td>Entre 100.001 y 1.000.000</td>\n",
       "      <td>Petroquímica de Venezuela (Pequiven) / Ministe...</td>\n",
       "      <td>...</td>\n",
       "      <td>S/I</td>\n",
       "      <td>0</td>\n",
       "      <td>Si</td>\n",
       "      <td>1555</td>\n",
       "      <td>2005.0</td>\n",
       "      <td>S/I</td>\n",
       "      <td>2017</td>\n",
       "      <td>S/I</td>\n",
       "      <td>10.441976</td>\n",
       "      <td>-68.277613</td>\n",
       "    </tr>\n",
       "    <tr>\n",
       "      <th>4</th>\n",
       "      <td>Hidrocarburos</td>\n",
       "      <td>PLANTA PROCESADORA DE ETANOL</td>\n",
       "      <td>Paralizada</td>\n",
       "      <td>60.0000</td>\n",
       "      <td>0.00</td>\n",
       "      <td>Estado Barinas</td>\n",
       "      <td>Rojas</td>\n",
       "      <td>Parroquia Santa Rosa</td>\n",
       "      <td>Más de 1.000.001</td>\n",
       "      <td>Corporación Venezolana Agraria</td>\n",
       "      <td>...</td>\n",
       "      <td>S/I</td>\n",
       "      <td>153</td>\n",
       "      <td>S/I</td>\n",
       "      <td>0</td>\n",
       "      <td>NaN</td>\n",
       "      <td>S/I</td>\n",
       "      <td>2012</td>\n",
       "      <td>S/I</td>\n",
       "      <td>8.469959</td>\n",
       "      <td>-69.646336</td>\n",
       "    </tr>\n",
       "    <tr>\n",
       "      <th>5</th>\n",
       "      <td>Hidrocarburos</td>\n",
       "      <td>PROYECTO DE CONVERSIÓN PROFUNDA REFINERÍA PUER...</td>\n",
       "      <td>Paralizada con daños en su infraestructura</td>\n",
       "      <td>80.0000</td>\n",
       "      <td>0.00</td>\n",
       "      <td>Estado Anzoátegui</td>\n",
       "      <td>Sotillo</td>\n",
       "      <td>69CH+7R3, Puerto La Cruz 6023, Anzoátegui</td>\n",
       "      <td>Más de 1.000.001</td>\n",
       "      <td>Petróleos de Venezuela, S.A (Pdvsa)</td>\n",
       "      <td>...</td>\n",
       "      <td>Consorcio Venezuela Número UNO (VONE) (Hyundai...</td>\n",
       "      <td>13856</td>\n",
       "      <td>S/I</td>\n",
       "      <td>0</td>\n",
       "      <td>2010.0</td>\n",
       "      <td>2018</td>\n",
       "      <td>2018</td>\n",
       "      <td>S/I</td>\n",
       "      <td>10.166599</td>\n",
       "      <td>-64.534251</td>\n",
       "    </tr>\n",
       "    <tr>\n",
       "      <th>6</th>\n",
       "      <td>Hidrocarburos</td>\n",
       "      <td>PROYECTO GAS ANACO FASE II. CONSTRUCCIÓN DE 5 ...</td>\n",
       "      <td>Paralizada</td>\n",
       "      <td>54.0000</td>\n",
       "      <td>0.00</td>\n",
       "      <td>Estado Anzoátegui</td>\n",
       "      <td>Anaco</td>\n",
       "      <td>S/I</td>\n",
       "      <td>Más de 1.000.001</td>\n",
       "      <td>S/I</td>\n",
       "      <td>...</td>\n",
       "      <td>Constructora Norberto Odebrecht, C. A.</td>\n",
       "      <td>2741</td>\n",
       "      <td>S/I</td>\n",
       "      <td>0</td>\n",
       "      <td>2004.0</td>\n",
       "      <td>S/I</td>\n",
       "      <td>2016</td>\n",
       "      <td>S/I</td>\n",
       "      <td>9.432191</td>\n",
       "      <td>-64.466834</td>\n",
       "    </tr>\n",
       "    <tr>\n",
       "      <th>7</th>\n",
       "      <td>Hidrocarburos</td>\n",
       "      <td>TERMINAL MARÍTIMA DE MORÓN</td>\n",
       "      <td>Paralizada</td>\n",
       "      <td>13.8200</td>\n",
       "      <td>0.00</td>\n",
       "      <td>Estado Carabobo</td>\n",
       "      <td>Juan José Mora</td>\n",
       "      <td>GRC2+M39, Troncal3, 2051, Carabobo</td>\n",
       "      <td>Entre 100.001 y 1.000.000</td>\n",
       "      <td>Petroquímica de Venezuela (Pequiven) / Ministe...</td>\n",
       "      <td>...</td>\n",
       "      <td>S/I</td>\n",
       "      <td>76382</td>\n",
       "      <td>Si</td>\n",
       "      <td>72</td>\n",
       "      <td>2013.0</td>\n",
       "      <td>S/I</td>\n",
       "      <td>2018</td>\n",
       "      <td>S/I</td>\n",
       "      <td>10.441976</td>\n",
       "      <td>-68.277613</td>\n",
       "    </tr>\n",
       "  </tbody>\n",
       "</table>\n",
       "<p>8 rows × 21 columns</p>\n",
       "</div>"
      ],
      "text/plain": [
       "          Sector                                               Obra  \\\n",
       "0  Hidrocarburos  COMPLEJO INDUSTRIAL GRAN MARISCAL DE AYACUCHO ...   \n",
       "1  Hidrocarburos                        COMPLEJO PETROQUÍMICO MORÓN   \n",
       "2  Hidrocarburos               COMPLEJO PETROQUÍMICO PUERTO NUTRIAS   \n",
       "3  Hidrocarburos                             PLANTA FERTILIZANTES 4   \n",
       "4  Hidrocarburos                       PLANTA PROCESADORA DE ETANOL   \n",
       "5  Hidrocarburos  PROYECTO DE CONVERSIÓN PROFUNDA REFINERÍA PUER...   \n",
       "6  Hidrocarburos  PROYECTO GAS ANACO FASE II. CONSTRUCCIÓN DE 5 ...   \n",
       "7  Hidrocarburos                         TERMINAL MARÍTIMA DE MORÓN   \n",
       "\n",
       "                                       Status  Ejecución física %  \\\n",
       "0                                  Paralizada             25.0000   \n",
       "1                                  Paralizada             95.3900   \n",
       "2    Con recursos desembolsados - no iniciada              0.6000   \n",
       "3                                  Paralizada             70.8532   \n",
       "4                                  Paralizada             60.0000   \n",
       "5  Paralizada con daños en su infraestructura             80.0000   \n",
       "6                                  Paralizada             54.0000   \n",
       "7                                  Paralizada             13.8200   \n",
       "\n",
       "   Ejecución financiera %             Estado       Municipio  \\\n",
       "0                    0.00       Estado Sucre          Valdez   \n",
       "1                   50.19    Estado Carabobo  Juan José Mora   \n",
       "2                   33.14     Estado Barinas            Sosa   \n",
       "3                    0.00    Estado Carabobo  Juan José Mora   \n",
       "4                    0.00     Estado Barinas           Rojas   \n",
       "5                    0.00  Estado Anzoátegui         Sotillo   \n",
       "6                    0.00  Estado Anzoátegui           Anaco   \n",
       "7                    0.00    Estado Carabobo  Juan José Mora   \n",
       "\n",
       "                                   Dirección         Personas afectadas  \\\n",
       "0                      HMMW+XGR, Güiria 6161  Entre 100.001 y 1.000.000   \n",
       "1         GRC2+M39, Troncal3, 2051, Carabobo  Entre 100.001 y 1.000.000   \n",
       "2                             Puerto Nutrias  Entre 100.001 y 1.000.000   \n",
       "3         GRC2+M39, Troncal3, 2051, Carabobo  Entre 100.001 y 1.000.000   \n",
       "4                       Parroquia Santa Rosa           Más de 1.000.001   \n",
       "5  69CH+7R3, Puerto La Cruz 6023, Anzoátegui           Más de 1.000.001   \n",
       "6                                        S/I           Más de 1.000.001   \n",
       "7         GRC2+M39, Troncal3, 2051, Carabobo  Entre 100.001 y 1.000.000   \n",
       "\n",
       "                                    Ente responsable  ...  \\\n",
       "0                                                S/I  ...   \n",
       "1  Petroquímica de Venezuela (Pequiven) / Ministe...  ...   \n",
       "2  Petroquímica de Venezuela (Pequiven) / Ministe...  ...   \n",
       "3  Petroquímica de Venezuela (Pequiven) / Ministe...  ...   \n",
       "4                     Corporación Venezolana Agraria  ...   \n",
       "5                Petróleos de Venezuela, S.A (Pdvsa)  ...   \n",
       "6                                                S/I  ...   \n",
       "7  Petroquímica de Venezuela (Pequiven) / Ministe...  ...   \n",
       "\n",
       "                                 Empresa contratista  \\\n",
       "0                                                S/I   \n",
       "1                                                S/I   \n",
       "2                                                S/I   \n",
       "3                                                S/I   \n",
       "4                                                S/I   \n",
       "5  Consorcio Venezuela Número UNO (VONE) (Hyundai...   \n",
       "6             Constructora Norberto Odebrecht, C. A.   \n",
       "7                                                S/I   \n",
       "\n",
       "  Valor total de la obra USD (millones)  Obra financiada por FONDEN  \\\n",
       "0                                 13000                         S/I   \n",
       "1                                  3276                          Si   \n",
       "2                                  1434                          Si   \n",
       "3                                     0                          Si   \n",
       "4                                   153                         S/I   \n",
       "5                                 13856                         S/I   \n",
       "6                                  2741                         S/I   \n",
       "7                                 76382                          Si   \n",
       "\n",
       "  Monto comprometido USD (millones)  Fecha estimada de inicio  \\\n",
       "0                                 0                    2007.0   \n",
       "1                               507                    2005.0   \n",
       "2                                31                    2007.0   \n",
       "3                              1555                    2005.0   \n",
       "4                                 0                       NaN   \n",
       "5                                 0                    2010.0   \n",
       "6                                 0                    2004.0   \n",
       "7                                72                    2013.0   \n",
       "\n",
       "   Fecha real de inicio Fecha culminación estimada de la obra  \\\n",
       "0                   S/I                                  2009   \n",
       "1                   S/I                                  2017   \n",
       "2                   S/I                                  2018   \n",
       "3                   S/I                                  2017   \n",
       "4                   S/I                                  2012   \n",
       "5                  2018                                  2018   \n",
       "6                   S/I                                  2016   \n",
       "7                   S/I                                  2018   \n",
       "\n",
       "  Fecha de paralización    Latitud   Longitud  \n",
       "0                   S/I  10.632361 -62.230990  \n",
       "1                   S/I  10.441976 -68.277613  \n",
       "2                   S/I   8.297021 -69.290298  \n",
       "3                   S/I  10.441976 -68.277613  \n",
       "4                   S/I   8.469959 -69.646336  \n",
       "5                   S/I  10.166599 -64.534251  \n",
       "6                   S/I   9.432191 -64.466834  \n",
       "7                   S/I  10.441976 -68.277613  \n",
       "\n",
       "[8 rows x 21 columns]"
      ]
     },
     "execution_count": 63,
     "metadata": {},
     "output_type": "execute_result"
    }
   ],
   "source": [
    "data_hidro"
   ]
  },
  {
   "cell_type": "markdown",
   "id": "045ef1b0",
   "metadata": {},
   "source": [
    "### Exportamos nuestro dataframe"
   ]
  },
  {
   "cell_type": "code",
   "execution_count": 65,
   "id": "52a2f2de",
   "metadata": {},
   "outputs": [],
   "source": [
    "data_hidro.to_csv('obras_hidrocarburos.csv', index=False)"
   ]
  },
  {
   "cell_type": "code",
   "execution_count": null,
   "id": "f09fe2d5",
   "metadata": {},
   "outputs": [],
   "source": []
  }
 ],
 "metadata": {
  "kernelspec": {
   "display_name": "Python 3 (ipykernel)",
   "language": "python",
   "name": "python3"
  },
  "language_info": {
   "codemirror_mode": {
    "name": "ipython",
    "version": 3
   },
   "file_extension": ".py",
   "mimetype": "text/x-python",
   "name": "python",
   "nbconvert_exporter": "python",
   "pygments_lexer": "ipython3",
   "version": "3.11.4"
  }
 },
 "nbformat": 4,
 "nbformat_minor": 5
}
