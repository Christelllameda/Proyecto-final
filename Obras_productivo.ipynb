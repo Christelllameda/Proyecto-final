{
 "cells": [
  {
   "cell_type": "markdown",
   "id": "920d48fc",
   "metadata": {},
   "source": [
    "### Para comenzar con el scrapping, importamos las funciones que tenemos en el archivo 'procesos'"
   ]
  },
  {
   "cell_type": "code",
   "execution_count": 39,
   "id": "7dc0ca13",
   "metadata": {},
   "outputs": [],
   "source": [
    "from procesos import *"
   ]
  },
  {
   "cell_type": "code",
   "execution_count": 2,
   "id": "b07482ab",
   "metadata": {},
   "outputs": [],
   "source": [
    "import warnings\n",
    "warnings.filterwarnings('ignore')\n",
    "import pandas as pd\n",
    "import numpy as np\n",
    "import re"
   ]
  },
  {
   "cell_type": "markdown",
   "id": "062f1780",
   "metadata": {},
   "source": [
    "### Establecemos el nombre de las columnas que tendrá el dataframe"
   ]
  },
  {
   "cell_type": "code",
   "execution_count": 3,
   "id": "cb6a31e3",
   "metadata": {},
   "outputs": [],
   "source": [
    "columnas = ['Obra','Status','Ejecución física %','Ejecución financiera %','Estado','Municipio','Dirección','Personas afectadas','Ente responsable','Funcionario responsable','Empresa contratista','Valor total de la obra USD (millones)','Obra financiada por FONDEN','Monto comprometido USD (millones)','Fecha estimada de inicio','Fecha real de inicio','Fecha culminación estimada de la obra','Fecha de paralización']"
   ]
  },
  {
   "cell_type": "markdown",
   "id": "fdf28b71",
   "metadata": {},
   "source": [
    "### Llamamos a la función 'obtener_datos_obra' que realiza el proceso de web scraping (selenium), obtenemos los datos que queremos de la obra y lo convertimos en un dataframe"
   ]
  },
  {
   "cell_type": "code",
   "execution_count": 4,
   "id": "95b92890",
   "metadata": {},
   "outputs": [],
   "source": [
    "url = 'https://transparenciave.org/obrasinconclusas/obras_inconclusas/empresa-socialista-de-riego-planicie-de-maracaibo/'\n",
    "riego_maracaibo = obtener_datos_obra(url)"
   ]
  },
  {
   "cell_type": "code",
   "execution_count": 6,
   "id": "3be94951",
   "metadata": {},
   "outputs": [
    {
     "data": {
      "text/html": [
       "<div>\n",
       "<style scoped>\n",
       "    .dataframe tbody tr th:only-of-type {\n",
       "        vertical-align: middle;\n",
       "    }\n",
       "\n",
       "    .dataframe tbody tr th {\n",
       "        vertical-align: top;\n",
       "    }\n",
       "\n",
       "    .dataframe thead th {\n",
       "        text-align: right;\n",
       "    }\n",
       "</style>\n",
       "<table border=\"1\" class=\"dataframe\">\n",
       "  <thead>\n",
       "    <tr style=\"text-align: right;\">\n",
       "      <th></th>\n",
       "      <th>Obra</th>\n",
       "      <th>Status</th>\n",
       "      <th>Ejecución física %</th>\n",
       "      <th>Ejecución financiera %</th>\n",
       "      <th>Estado</th>\n",
       "      <th>Municipio</th>\n",
       "      <th>Dirección</th>\n",
       "      <th>Personas afectadas</th>\n",
       "      <th>Ente responsable</th>\n",
       "      <th>Funcionario responsable</th>\n",
       "      <th>Empresa contratista</th>\n",
       "      <th>Valor total de la obra USD (millones)</th>\n",
       "      <th>Obra financiada por FONDEN</th>\n",
       "      <th>Monto comprometido USD (millones)</th>\n",
       "      <th>Fecha estimada de inicio</th>\n",
       "      <th>Fecha real de inicio</th>\n",
       "      <th>Fecha culminación estimada de la obra</th>\n",
       "      <th>Fecha de paralización</th>\n",
       "    </tr>\n",
       "  </thead>\n",
       "  <tbody>\n",
       "    <tr>\n",
       "      <th>0</th>\n",
       "      <td>EMPRESA SOCIALISTA DE RIEGO PLANICIE DE MARACAIBO</td>\n",
       "      <td>Paralizada</td>\n",
       "      <td>50%</td>\n",
       "      <td>S/I</td>\n",
       "      <td>Estado Zulia</td>\n",
       "      <td>Jesús Enrique Lossada</td>\n",
       "      <td>Sector El Diluvio, parroquia José Ramón Yépez.</td>\n",
       "      <td>Entre 100.001 y 1.000.000</td>\n",
       "      <td>Instituto Nacional de Desarrollo Rural (INDER)...</td>\n",
       "      <td>S/I</td>\n",
       "      <td>Constructora Norberto Odebrecht, C.A.</td>\n",
       "      <td>USD 142.171.747</td>\n",
       "      <td>Si</td>\n",
       "      <td>USD  58.784.086,53</td>\n",
       "      <td>2003</td>\n",
       "      <td>S/I</td>\n",
       "      <td>2015</td>\n",
       "      <td>S/I</td>\n",
       "    </tr>\n",
       "  </tbody>\n",
       "</table>\n",
       "</div>"
      ],
      "text/plain": [
       "                                                Obra      Status  \\\n",
       "0  EMPRESA SOCIALISTA DE RIEGO PLANICIE DE MARACAIBO  Paralizada   \n",
       "\n",
       "  Ejecución física % Ejecución financiera %        Estado  \\\n",
       "0                50%                    S/I  Estado Zulia   \n",
       "\n",
       "               Municipio                                       Dirección  \\\n",
       "0  Jesús Enrique Lossada  Sector El Diluvio, parroquia José Ramón Yépez.   \n",
       "\n",
       "          Personas afectadas  \\\n",
       "0  Entre 100.001 y 1.000.000   \n",
       "\n",
       "                                    Ente responsable Funcionario responsable  \\\n",
       "0  Instituto Nacional de Desarrollo Rural (INDER)...                     S/I   \n",
       "\n",
       "                     Empresa contratista  \\\n",
       "0  Constructora Norberto Odebrecht, C.A.   \n",
       "\n",
       "  Valor total de la obra USD (millones) Obra financiada por FONDEN  \\\n",
       "0                       USD 142.171.747                         Si   \n",
       "\n",
       "  Monto comprometido USD (millones) Fecha estimada de inicio  \\\n",
       "0                USD  58.784.086,53                     2003   \n",
       "\n",
       "  Fecha real de inicio Fecha culminación estimada de la obra  \\\n",
       "0                  S/I                                  2015   \n",
       "\n",
       "  Fecha de paralización  \n",
       "0                   S/I  "
      ]
     },
     "execution_count": 6,
     "metadata": {},
     "output_type": "execute_result"
    }
   ],
   "source": [
    "df = pd.DataFrame([riego_maracaibo]) #convertimos los datos en un dataframe\n",
    "df = df.drop(df.columns[[2, 3]], axis=1) #eliminamos las columnas 2 y 3 que no tienen información\n",
    "df.columns = columnas\n",
    "\n",
    "df"
   ]
  },
  {
   "cell_type": "markdown",
   "id": "c969c3d8",
   "metadata": {},
   "source": [
    "### Vamos a realizar el mismo procedimiento para las demás obras que tenemos en nuestra página web que estamos scrapeando"
   ]
  },
  {
   "cell_type": "code",
   "execution_count": 7,
   "id": "db8204a2",
   "metadata": {},
   "outputs": [],
   "source": [
    "url2 = 'https://transparenciave.org/obrasinconclusas/obras_inconclusas/planta-procesadora-de-sisal/'\n",
    "planta_sisal = obtener_datos_obra(url2)"
   ]
  },
  {
   "cell_type": "code",
   "execution_count": 11,
   "id": "797ca008",
   "metadata": {},
   "outputs": [],
   "source": [
    "df2 = pd.DataFrame([planta_sisal])\n",
    "df2.columns = columnas"
   ]
  },
  {
   "cell_type": "code",
   "execution_count": 12,
   "id": "02b62e73",
   "metadata": {},
   "outputs": [],
   "source": [
    "url3 = 'https://transparenciave.org/obrasinconclusas/obras_inconclusas/proyecto-agrario-integral-jose-inacio-de-abreu-e-lima/'\n",
    "proy_agrario = obtener_datos_obra(url3)"
   ]
  },
  {
   "cell_type": "code",
   "execution_count": 15,
   "id": "b346620a",
   "metadata": {},
   "outputs": [],
   "source": [
    "df3 = pd.DataFrame([proy_agrario])\n",
    "df3.columns = columnas"
   ]
  },
  {
   "cell_type": "code",
   "execution_count": 16,
   "id": "93c9bba3",
   "metadata": {},
   "outputs": [],
   "source": [
    "url4 = 'https://transparenciave.org/obrasinconclusas/obras_inconclusas/proyecto-agrario-socialista-de-desarrollo-integral-valle-de-quibor/'\n",
    "valle_quibor = obtener_datos_obra(url4)"
   ]
  },
  {
   "cell_type": "code",
   "execution_count": 19,
   "id": "d0af7171",
   "metadata": {},
   "outputs": [],
   "source": [
    "df4 = pd.DataFrame([valle_quibor])\n",
    "df4.columns = columnas"
   ]
  },
  {
   "cell_type": "code",
   "execution_count": 22,
   "id": "2628bfbf",
   "metadata": {},
   "outputs": [],
   "source": [
    "url5 = 'https://transparenciave.org/obrasinconclusas/obras_inconclusas/puerto-de-aguas-profundas-puerto-cabello-fase-i/'\n",
    "aguas_profundas = obtener_datos_obra(url5)"
   ]
  },
  {
   "cell_type": "code",
   "execution_count": 25,
   "id": "944caade",
   "metadata": {},
   "outputs": [],
   "source": [
    "df5 = pd.DataFrame([aguas_profundas])\n",
    "df5.columns = columnas"
   ]
  },
  {
   "cell_type": "code",
   "execution_count": 26,
   "id": "b0d555d7",
   "metadata": {},
   "outputs": [],
   "source": [
    "url6 = 'https://transparenciave.org/obrasinconclusas/obras_inconclusas/zona-industrial-de-carora/'\n",
    "zona_ind = obtener_datos_obra(url6)"
   ]
  },
  {
   "cell_type": "code",
   "execution_count": 30,
   "id": "b1248fa6",
   "metadata": {},
   "outputs": [
    {
     "data": {
      "text/html": [
       "<div>\n",
       "<style scoped>\n",
       "    .dataframe tbody tr th:only-of-type {\n",
       "        vertical-align: middle;\n",
       "    }\n",
       "\n",
       "    .dataframe tbody tr th {\n",
       "        vertical-align: top;\n",
       "    }\n",
       "\n",
       "    .dataframe thead th {\n",
       "        text-align: right;\n",
       "    }\n",
       "</style>\n",
       "<table border=\"1\" class=\"dataframe\">\n",
       "  <thead>\n",
       "    <tr style=\"text-align: right;\">\n",
       "      <th></th>\n",
       "      <th>Obra</th>\n",
       "      <th>Status</th>\n",
       "      <th>Ejecución física %</th>\n",
       "      <th>Ejecución financiera %</th>\n",
       "      <th>Estado</th>\n",
       "      <th>Municipio</th>\n",
       "      <th>Dirección</th>\n",
       "      <th>Personas afectadas</th>\n",
       "      <th>Ente responsable</th>\n",
       "      <th>Funcionario responsable</th>\n",
       "      <th>Empresa contratista</th>\n",
       "      <th>Valor total de la obra USD (millones)</th>\n",
       "      <th>Obra financiada por FONDEN</th>\n",
       "      <th>Monto comprometido USD (millones)</th>\n",
       "      <th>Fecha estimada de inicio</th>\n",
       "      <th>Fecha real de inicio</th>\n",
       "      <th>Fecha culminación estimada de la obra</th>\n",
       "      <th>Fecha de paralización</th>\n",
       "    </tr>\n",
       "  </thead>\n",
       "  <tbody>\n",
       "    <tr>\n",
       "      <th>0</th>\n",
       "      <td>ZONA INDUSTRIAL DE CARORA</td>\n",
       "      <td>Paralizada</td>\n",
       "      <td>55%</td>\n",
       "      <td>55%</td>\n",
       "      <td>Estado Lara</td>\n",
       "      <td>Torres</td>\n",
       "      <td>Carora</td>\n",
       "      <td>Entre 5.001 y 100.000</td>\n",
       "      <td>Compañía Anónima para el Desarrollo Industrial...</td>\n",
       "      <td>S/I</td>\n",
       "      <td>Constructora 421, C.A.</td>\n",
       "      <td>USD 263.125</td>\n",
       "      <td>S/I</td>\n",
       "      <td>S/I</td>\n",
       "      <td>2003</td>\n",
       "      <td>S/I</td>\n",
       "      <td>S/I</td>\n",
       "      <td>S/I</td>\n",
       "    </tr>\n",
       "  </tbody>\n",
       "</table>\n",
       "</div>"
      ],
      "text/plain": [
       "                        Obra      Status Ejecución física %  \\\n",
       "0  ZONA INDUSTRIAL DE CARORA  Paralizada                55%   \n",
       "\n",
       "  Ejecución financiera %       Estado Municipio Dirección  \\\n",
       "0                    55%  Estado Lara    Torres    Carora   \n",
       "\n",
       "      Personas afectadas                                   Ente responsable  \\\n",
       "0  Entre 5.001 y 100.000  Compañía Anónima para el Desarrollo Industrial...   \n",
       "\n",
       "  Funcionario responsable     Empresa contratista  \\\n",
       "0                     S/I  Constructora 421, C.A.   \n",
       "\n",
       "  Valor total de la obra USD (millones) Obra financiada por FONDEN  \\\n",
       "0                           USD 263.125                        S/I   \n",
       "\n",
       "  Monto comprometido USD (millones) Fecha estimada de inicio  \\\n",
       "0                               S/I                     2003   \n",
       "\n",
       "  Fecha real de inicio Fecha culminación estimada de la obra  \\\n",
       "0                  S/I                                   S/I   \n",
       "\n",
       "  Fecha de paralización  \n",
       "0                   S/I  "
      ]
     },
     "execution_count": 30,
     "metadata": {},
     "output_type": "execute_result"
    }
   ],
   "source": [
    "df6 = pd.DataFrame([zona_ind])\n",
    "\n",
    "df6['Obra financiada por FONDEN'] = 'S/I' #agregamos las columnas que hacen falta para mantener el formato del DF\n",
    "df6['Monto comprometido USD (millones)'] = 'S/I'\n",
    "\n",
    "#Reorganizamos el orden de las columnas\n",
    "df6 = df6[[0,1,2,3,4,5,6,7,8,9,10,11,'Obra financiada por FONDEN','Monto comprometido USD (millones)',12,13,14,15]]\n",
    "df6.columns = columnas\n",
    "\n",
    "df6"
   ]
  },
  {
   "cell_type": "markdown",
   "id": "69de80e3",
   "metadata": {},
   "source": [
    "### Procedemos a juntar todos los dataframe"
   ]
  },
  {
   "cell_type": "code",
   "execution_count": 71,
   "id": "d4e77539",
   "metadata": {},
   "outputs": [],
   "source": [
    "# Concatena los DataFrames en uno solo\n",
    "data_prod = pd.concat([df,df2,df3,df4,df5,df6],ignore_index=True)"
   ]
  },
  {
   "cell_type": "markdown",
   "id": "64b3cea6",
   "metadata": {},
   "source": [
    "### Para conocer las coordenadas de cada una de las obras, hacemos uso de Geopy"
   ]
  },
  {
   "cell_type": "code",
   "execution_count": 72,
   "id": "97cc2595",
   "metadata": {},
   "outputs": [],
   "source": [
    "#Asignamos como dirección el Municipio y Estado de cada obra para conocer sus coordenadas\n",
    "municipio_estado = data_prod['Municipio'] + ', ' + data_prod['Estado']\n",
    "lista_municipio_estado = municipio_estado.tolist()"
   ]
  },
  {
   "cell_type": "code",
   "execution_count": 73,
   "id": "844536b8",
   "metadata": {},
   "outputs": [],
   "source": [
    "latitudes = obtener_latitudes(lista_municipio_estado) #obtenemos la latitud de la obra"
   ]
  },
  {
   "cell_type": "code",
   "execution_count": 74,
   "id": "a4f49a83",
   "metadata": {},
   "outputs": [],
   "source": [
    "longitudes = obtener_longitudes(lista_municipio_estado) #obtenemos la longitud de la obra"
   ]
  },
  {
   "cell_type": "code",
   "execution_count": 75,
   "id": "d7510630",
   "metadata": {},
   "outputs": [],
   "source": [
    "data_prod['Latitud'] = latitudes #agregamos una nueva columna con todos los valores de las latitudes\n",
    "data_prod['Longitud'] = longitudes #agregamos una nueva columna con todos los valores de las longitudes"
   ]
  },
  {
   "cell_type": "markdown",
   "id": "30e2652a",
   "metadata": {},
   "source": [
    "### Extraemos la parte numérica de la columna 'Valor total de la obra' para tener un dato de tipo entero"
   ]
  },
  {
   "cell_type": "code",
   "execution_count": 76,
   "id": "6919d595",
   "metadata": {},
   "outputs": [],
   "source": [
    "# Aplicar la función a la columna 'Valor total de la obra'\n",
    "data_prod['Valor total de la obra USD (millones)'] = data_prod['Valor total de la obra USD (millones)'].apply(extract_numeric_value)\n",
    "\n",
    "data_prod['Valor total de la obra USD (millones)'] = data_prod['Valor total de la obra USD (millones)'].str.replace('.', '', regex=True).fillna('0').astype(int)\n",
    "\n",
    "#Dividimos para tener el total de millones en un número mas legible\n",
    "data_prod['Valor total de la obra USD (millones)'] = (data_prod['Valor total de la obra USD (millones)'] / 1000000).astype(int)"
   ]
  },
  {
   "cell_type": "markdown",
   "id": "c4579b9a",
   "metadata": {},
   "source": [
    "### Limpiamos la columna 'Monto comprometido', extraemos la parte numérica, llenamos los valores nulos con '0', transformamos a un tipo de dato float"
   ]
  },
  {
   "cell_type": "code",
   "execution_count": 77,
   "id": "ff4e2a29",
   "metadata": {},
   "outputs": [],
   "source": [
    "data_prod['Monto comprometido USD (millones)'] = data_prod['Monto comprometido USD (millones)'].apply(extract_numeric_value)\n",
    "data_prod['Monto comprometido USD (millones)'] = data_prod['Monto comprometido USD (millones)'].fillna('0')\n",
    "\n",
    "# Convertir la columna a cadena, eliminar los puntos y reemplazar las comas por puntos\n",
    "data_prod['Monto comprometido USD (millones)'] = data_prod['Monto comprometido USD (millones)'].astype(str)\n",
    "data_prod['Monto comprometido USD (millones)'] = data_prod['Monto comprometido USD (millones)'].str.replace('.', '').str.replace(',', '.')\n",
    "\n",
    "# Convertir la columna a tipo float\n",
    "data_prod['Monto comprometido USD (millones)'] = pd.to_numeric(data_prod['Monto comprometido USD (millones)'], errors='coerce')\n",
    "\n",
    "#Dividimos para tener el total de millones en un número más legible\n",
    "data_prod['Monto comprometido USD (millones)'] = (data_prod['Monto comprometido USD (millones)'] / 1000000).astype(int)"
   ]
  },
  {
   "cell_type": "markdown",
   "id": "8f56ebba",
   "metadata": {},
   "source": [
    "### Cambiamos el tipo de dato de la columna 'Fecha estimada de inicio' por datetime y extraemos el año"
   ]
  },
  {
   "cell_type": "code",
   "execution_count": 78,
   "id": "8aeb15ea",
   "metadata": {},
   "outputs": [],
   "source": [
    "# Convertir la columna 'Fecha estimada de inicio' a datetime\n",
    "data_prod['Fecha estimada de inicio'] = pd.to_datetime(data_prod['Fecha estimada de inicio'], errors='coerce')\n",
    "data_prod['Fecha estimada de inicio'] = data_prod['Fecha estimada de inicio'].dt.year"
   ]
  },
  {
   "cell_type": "markdown",
   "id": "c1cd8e20",
   "metadata": {},
   "source": [
    "### Transformamos las columnas 'Ejecución física' y 'Ejecución financiera' en valores de tipo float, para ello llenamos los valores 'S/I' con 0 y extraemos la parte numérica"
   ]
  },
  {
   "cell_type": "code",
   "execution_count": 79,
   "id": "deb175e5",
   "metadata": {},
   "outputs": [],
   "source": [
    "data_prod['Ejecución física %'] = data_prod['Ejecución física %'].apply(extract_numeric_value)\n",
    "data_prod['Ejecución física %'] = data_prod['Ejecución física %'].str.replace(',', '.').replace({None: '0'})\n",
    "\n",
    "# Convertir la columna a tipo float\n",
    "data_prod['Ejecución física %'] = data_prod['Ejecución física %'].astype(float)"
   ]
  },
  {
   "cell_type": "code",
   "execution_count": 80,
   "id": "68677d32",
   "metadata": {},
   "outputs": [],
   "source": [
    "data_prod['Ejecución financiera %'] = data_prod['Ejecución financiera %'].apply(extract_numeric_value)\n",
    "data_prod['Ejecución financiera %'] = data_prod['Ejecución financiera %'].str.replace(',', '.').replace({None: '0'})\n",
    "\n",
    "# Convertir la columna a tipo float\n",
    "data_prod['Ejecución financiera %'] = data_prod['Ejecución financiera %'].astype(float)"
   ]
  },
  {
   "cell_type": "markdown",
   "id": "3977367e",
   "metadata": {},
   "source": [
    "### Añadimos una nueva columna para indicar cuál es el sector correspondiente a la obra"
   ]
  },
  {
   "cell_type": "code",
   "execution_count": 81,
   "id": "ffea7d83",
   "metadata": {},
   "outputs": [],
   "source": [
    "data_prod['Sector'] = 'Productivo'"
   ]
  },
  {
   "cell_type": "code",
   "execution_count": 82,
   "id": "ada48a20",
   "metadata": {},
   "outputs": [],
   "source": [
    "#Reordenamos las columnas\n",
    "nuevo_orden = ['Sector','Obra','Status','Ejecución física %','Ejecución financiera %','Estado','Municipio','Dirección','Personas afectadas','Ente responsable','Funcionario responsable','Empresa contratista','Valor total de la obra USD (millones)','Obra financiada por FONDEN','Monto comprometido USD (millones)','Fecha estimada de inicio','Fecha real de inicio','Fecha culminación estimada de la obra','Fecha de paralización', 'Latitud', 'Longitud']\n",
    "data_prod = data_prod[nuevo_orden]"
   ]
  },
  {
   "cell_type": "code",
   "execution_count": 83,
   "id": "5bbdcccc",
   "metadata": {},
   "outputs": [
    {
     "data": {
      "text/html": [
       "<div>\n",
       "<style scoped>\n",
       "    .dataframe tbody tr th:only-of-type {\n",
       "        vertical-align: middle;\n",
       "    }\n",
       "\n",
       "    .dataframe tbody tr th {\n",
       "        vertical-align: top;\n",
       "    }\n",
       "\n",
       "    .dataframe thead th {\n",
       "        text-align: right;\n",
       "    }\n",
       "</style>\n",
       "<table border=\"1\" class=\"dataframe\">\n",
       "  <thead>\n",
       "    <tr style=\"text-align: right;\">\n",
       "      <th></th>\n",
       "      <th>Sector</th>\n",
       "      <th>Obra</th>\n",
       "      <th>Status</th>\n",
       "      <th>Ejecución física %</th>\n",
       "      <th>Ejecución financiera %</th>\n",
       "      <th>Estado</th>\n",
       "      <th>Municipio</th>\n",
       "      <th>Dirección</th>\n",
       "      <th>Personas afectadas</th>\n",
       "      <th>Ente responsable</th>\n",
       "      <th>...</th>\n",
       "      <th>Empresa contratista</th>\n",
       "      <th>Valor total de la obra USD (millones)</th>\n",
       "      <th>Obra financiada por FONDEN</th>\n",
       "      <th>Monto comprometido USD (millones)</th>\n",
       "      <th>Fecha estimada de inicio</th>\n",
       "      <th>Fecha real de inicio</th>\n",
       "      <th>Fecha culminación estimada de la obra</th>\n",
       "      <th>Fecha de paralización</th>\n",
       "      <th>Latitud</th>\n",
       "      <th>Longitud</th>\n",
       "    </tr>\n",
       "  </thead>\n",
       "  <tbody>\n",
       "    <tr>\n",
       "      <th>0</th>\n",
       "      <td>Productivo</td>\n",
       "      <td>EMPRESA SOCIALISTA DE RIEGO PLANICIE DE MARACAIBO</td>\n",
       "      <td>Paralizada</td>\n",
       "      <td>50.00</td>\n",
       "      <td>0.0</td>\n",
       "      <td>Estado Zulia</td>\n",
       "      <td>Jesús Enrique Lossada</td>\n",
       "      <td>Sector El Diluvio, parroquia José Ramón Yépez.</td>\n",
       "      <td>Entre 100.001 y 1.000.000</td>\n",
       "      <td>Instituto Nacional de Desarrollo Rural (INDER)...</td>\n",
       "      <td>...</td>\n",
       "      <td>Constructora Norberto Odebrecht, C.A.</td>\n",
       "      <td>142</td>\n",
       "      <td>Si</td>\n",
       "      <td>58</td>\n",
       "      <td>2003.0</td>\n",
       "      <td>S/I</td>\n",
       "      <td>2015</td>\n",
       "      <td>S/I</td>\n",
       "      <td>10.590710</td>\n",
       "      <td>-72.075725</td>\n",
       "    </tr>\n",
       "    <tr>\n",
       "      <th>1</th>\n",
       "      <td>Productivo</td>\n",
       "      <td>PLANTA PROCESADORA DE SISAL</td>\n",
       "      <td>Paralizada</td>\n",
       "      <td>10.00</td>\n",
       "      <td>0.0</td>\n",
       "      <td>Estado Lara</td>\n",
       "      <td>Urdaneta</td>\n",
       "      <td>San Miguel</td>\n",
       "      <td>Entre 5.001 y 100.000</td>\n",
       "      <td>Alcaldía del municipio Urdaneta / Gobernación ...</td>\n",
       "      <td>...</td>\n",
       "      <td>Venchisa</td>\n",
       "      <td>2</td>\n",
       "      <td>Si</td>\n",
       "      <td>76</td>\n",
       "      <td>1999.0</td>\n",
       "      <td>2002</td>\n",
       "      <td>S/I</td>\n",
       "      <td>S/I</td>\n",
       "      <td>10.569389</td>\n",
       "      <td>-69.585037</td>\n",
       "    </tr>\n",
       "    <tr>\n",
       "      <th>2</th>\n",
       "      <td>Productivo</td>\n",
       "      <td>PROYECTO AGRARIO INTEGRAL JOSÉ INACIO DE ABREU...</td>\n",
       "      <td>Paralizada</td>\n",
       "      <td>43.51</td>\n",
       "      <td>0.0</td>\n",
       "      <td>Estado Anzoátegui</td>\n",
       "      <td>Aragua</td>\n",
       "      <td>Carretera Nacional El Tigre-Pariaguan ramal 41...</td>\n",
       "      <td>Más de 1.000.001</td>\n",
       "      <td>Instituto Nacional de Desarrollo Rural (INDER)</td>\n",
       "      <td>...</td>\n",
       "      <td>Constructora Norberto Odebrecht, C. A.</td>\n",
       "      <td>2039</td>\n",
       "      <td>Si</td>\n",
       "      <td>568</td>\n",
       "      <td>NaN</td>\n",
       "      <td>S/I</td>\n",
       "      <td>2da fase 31-12-2018</td>\n",
       "      <td>S/I</td>\n",
       "      <td>9.325075</td>\n",
       "      <td>-64.864814</td>\n",
       "    </tr>\n",
       "    <tr>\n",
       "      <th>3</th>\n",
       "      <td>Productivo</td>\n",
       "      <td>PROYECTO AGRARIO SOCIALISTA DE DESARROLLO INTE...</td>\n",
       "      <td>Paralizada</td>\n",
       "      <td>60.00</td>\n",
       "      <td>0.0</td>\n",
       "      <td>Estado Lara</td>\n",
       "      <td>Jiménez</td>\n",
       "      <td>Quibor</td>\n",
       "      <td>Entre 100.001 y 1.000.000</td>\n",
       "      <td>S/I</td>\n",
       "      <td>...</td>\n",
       "      <td>Grupo Queiroz Galvão S.A.</td>\n",
       "      <td>269</td>\n",
       "      <td>Si</td>\n",
       "      <td>511</td>\n",
       "      <td>2009.0</td>\n",
       "      <td>S/I</td>\n",
       "      <td>2016</td>\n",
       "      <td>S/I</td>\n",
       "      <td>10.064215</td>\n",
       "      <td>-69.363809</td>\n",
       "    </tr>\n",
       "    <tr>\n",
       "      <th>4</th>\n",
       "      <td>Productivo</td>\n",
       "      <td>PUERTO DE AGUAS PROFUNDAS PUERTO CABELLO FASE I</td>\n",
       "      <td>Paralizada</td>\n",
       "      <td>28.00</td>\n",
       "      <td>0.0</td>\n",
       "      <td>Estado Carabobo</td>\n",
       "      <td>Puerto Cabello</td>\n",
       "      <td>Sector La Salina</td>\n",
       "      <td>Entre 5.001 y 100.000</td>\n",
       "      <td>Ministerio de Transporte Terrestre</td>\n",
       "      <td>...</td>\n",
       "      <td>China Harbour Engineering Company ltd (CHEC).</td>\n",
       "      <td>1100</td>\n",
       "      <td>Si</td>\n",
       "      <td>25</td>\n",
       "      <td>2014.0</td>\n",
       "      <td>S/I</td>\n",
       "      <td>2017</td>\n",
       "      <td>S/I</td>\n",
       "      <td>10.467793</td>\n",
       "      <td>-68.043668</td>\n",
       "    </tr>\n",
       "    <tr>\n",
       "      <th>5</th>\n",
       "      <td>Productivo</td>\n",
       "      <td>ZONA INDUSTRIAL DE CARORA</td>\n",
       "      <td>Paralizada</td>\n",
       "      <td>55.00</td>\n",
       "      <td>55.0</td>\n",
       "      <td>Estado Lara</td>\n",
       "      <td>Torres</td>\n",
       "      <td>Carora</td>\n",
       "      <td>Entre 5.001 y 100.000</td>\n",
       "      <td>Compañía Anónima para el Desarrollo Industrial...</td>\n",
       "      <td>...</td>\n",
       "      <td>Constructora 421, C.A.</td>\n",
       "      <td>0</td>\n",
       "      <td>S/I</td>\n",
       "      <td>0</td>\n",
       "      <td>2003.0</td>\n",
       "      <td>S/I</td>\n",
       "      <td>S/I</td>\n",
       "      <td>S/I</td>\n",
       "      <td>10.189435</td>\n",
       "      <td>-69.893117</td>\n",
       "    </tr>\n",
       "  </tbody>\n",
       "</table>\n",
       "<p>6 rows × 21 columns</p>\n",
       "</div>"
      ],
      "text/plain": [
       "       Sector                                               Obra      Status  \\\n",
       "0  Productivo  EMPRESA SOCIALISTA DE RIEGO PLANICIE DE MARACAIBO  Paralizada   \n",
       "1  Productivo                        PLANTA PROCESADORA DE SISAL  Paralizada   \n",
       "2  Productivo  PROYECTO AGRARIO INTEGRAL JOSÉ INACIO DE ABREU...  Paralizada   \n",
       "3  Productivo  PROYECTO AGRARIO SOCIALISTA DE DESARROLLO INTE...  Paralizada   \n",
       "4  Productivo    PUERTO DE AGUAS PROFUNDAS PUERTO CABELLO FASE I  Paralizada   \n",
       "5  Productivo                          ZONA INDUSTRIAL DE CARORA  Paralizada   \n",
       "\n",
       "   Ejecución física %  Ejecución financiera %             Estado  \\\n",
       "0               50.00                     0.0       Estado Zulia   \n",
       "1               10.00                     0.0        Estado Lara   \n",
       "2               43.51                     0.0  Estado Anzoátegui   \n",
       "3               60.00                     0.0        Estado Lara   \n",
       "4               28.00                     0.0    Estado Carabobo   \n",
       "5               55.00                    55.0        Estado Lara   \n",
       "\n",
       "               Municipio                                          Dirección  \\\n",
       "0  Jesús Enrique Lossada     Sector El Diluvio, parroquia José Ramón Yépez.   \n",
       "1               Urdaneta                                         San Miguel   \n",
       "2                 Aragua  Carretera Nacional El Tigre-Pariaguan ramal 41...   \n",
       "3                Jiménez                                             Quibor   \n",
       "4         Puerto Cabello                                   Sector La Salina   \n",
       "5                 Torres                                             Carora   \n",
       "\n",
       "          Personas afectadas  \\\n",
       "0  Entre 100.001 y 1.000.000   \n",
       "1      Entre 5.001 y 100.000   \n",
       "2           Más de 1.000.001   \n",
       "3  Entre 100.001 y 1.000.000   \n",
       "4      Entre 5.001 y 100.000   \n",
       "5      Entre 5.001 y 100.000   \n",
       "\n",
       "                                    Ente responsable  ...  \\\n",
       "0  Instituto Nacional de Desarrollo Rural (INDER)...  ...   \n",
       "1  Alcaldía del municipio Urdaneta / Gobernación ...  ...   \n",
       "2     Instituto Nacional de Desarrollo Rural (INDER)  ...   \n",
       "3                                                S/I  ...   \n",
       "4                 Ministerio de Transporte Terrestre  ...   \n",
       "5  Compañía Anónima para el Desarrollo Industrial...  ...   \n",
       "\n",
       "                             Empresa contratista  \\\n",
       "0          Constructora Norberto Odebrecht, C.A.   \n",
       "1                                       Venchisa   \n",
       "2         Constructora Norberto Odebrecht, C. A.   \n",
       "3                      Grupo Queiroz Galvão S.A.   \n",
       "4  China Harbour Engineering Company ltd (CHEC).   \n",
       "5                         Constructora 421, C.A.   \n",
       "\n",
       "  Valor total de la obra USD (millones)  Obra financiada por FONDEN  \\\n",
       "0                                   142                          Si   \n",
       "1                                     2                          Si   \n",
       "2                                  2039                          Si   \n",
       "3                                   269                          Si   \n",
       "4                                  1100                          Si   \n",
       "5                                     0                         S/I   \n",
       "\n",
       "  Monto comprometido USD (millones)  Fecha estimada de inicio  \\\n",
       "0                                58                    2003.0   \n",
       "1                                76                    1999.0   \n",
       "2                               568                       NaN   \n",
       "3                               511                    2009.0   \n",
       "4                                25                    2014.0   \n",
       "5                                 0                    2003.0   \n",
       "\n",
       "   Fecha real de inicio Fecha culminación estimada de la obra  \\\n",
       "0                   S/I                                  2015   \n",
       "1                  2002                                   S/I   \n",
       "2                   S/I                   2da fase 31-12-2018   \n",
       "3                   S/I                                  2016   \n",
       "4                   S/I                                  2017   \n",
       "5                   S/I                                   S/I   \n",
       "\n",
       "  Fecha de paralización    Latitud   Longitud  \n",
       "0                   S/I  10.590710 -72.075725  \n",
       "1                   S/I  10.569389 -69.585037  \n",
       "2                   S/I   9.325075 -64.864814  \n",
       "3                   S/I  10.064215 -69.363809  \n",
       "4                   S/I  10.467793 -68.043668  \n",
       "5                   S/I  10.189435 -69.893117  \n",
       "\n",
       "[6 rows x 21 columns]"
      ]
     },
     "execution_count": 83,
     "metadata": {},
     "output_type": "execute_result"
    }
   ],
   "source": [
    "data_prod"
   ]
  },
  {
   "cell_type": "markdown",
   "id": "b4b4cf60",
   "metadata": {},
   "source": [
    "### Exportamos nuestro dataframe"
   ]
  },
  {
   "cell_type": "code",
   "execution_count": 84,
   "id": "84083c4b",
   "metadata": {},
   "outputs": [],
   "source": [
    "data_prod.to_csv('obras_productivo.csv', index=False)"
   ]
  },
  {
   "cell_type": "code",
   "execution_count": null,
   "id": "f625d677",
   "metadata": {},
   "outputs": [],
   "source": []
  }
 ],
 "metadata": {
  "kernelspec": {
   "display_name": "Python 3 (ipykernel)",
   "language": "python",
   "name": "python3"
  },
  "language_info": {
   "codemirror_mode": {
    "name": "ipython",
    "version": 3
   },
   "file_extension": ".py",
   "mimetype": "text/x-python",
   "name": "python",
   "nbconvert_exporter": "python",
   "pygments_lexer": "ipython3",
   "version": "3.11.4"
  }
 },
 "nbformat": 4,
 "nbformat_minor": 5
}
