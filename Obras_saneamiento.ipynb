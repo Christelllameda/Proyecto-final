{
 "cells": [
  {
   "cell_type": "markdown",
   "id": "0d47b837",
   "metadata": {},
   "source": [
    "### Para comenzar con el scrapping, importamos las funciones que tenemos en el archivo 'procesos'"
   ]
  },
  {
   "cell_type": "code",
   "execution_count": 1,
   "id": "dfdaa365",
   "metadata": {},
   "outputs": [],
   "source": [
    "from procesos import *"
   ]
  },
  {
   "cell_type": "code",
   "execution_count": 2,
   "id": "8d8effb5",
   "metadata": {},
   "outputs": [],
   "source": [
    "import warnings\n",
    "warnings.filterwarnings('ignore')\n",
    "import pandas as pd\n",
    "import numpy as np\n",
    "import re"
   ]
  },
  {
   "cell_type": "markdown",
   "id": "b4045822",
   "metadata": {},
   "source": [
    "### Establecemos el nombre de las columnas que tendrá el dataframe"
   ]
  },
  {
   "cell_type": "code",
   "execution_count": 3,
   "id": "7a423fc4",
   "metadata": {},
   "outputs": [],
   "source": [
    "columnas = ['Obra','Status','Ejecución física %','Ejecución financiera %','Estado','Municipio','Dirección','Personas afectadas','Ente responsable','Funcionario responsable','Empresa contratista','Valor total de la obra USD (millones)','Obra financiada por FONDEN','Monto comprometido USD (millones)','Fecha estimada de inicio','Fecha real de inicio','Fecha culminación estimada de la obra','Fecha de paralización']"
   ]
  },
  {
   "cell_type": "markdown",
   "id": "6ea3c2bd",
   "metadata": {},
   "source": [
    "### Llamamos a la función 'obtener_datos_obra' que realiza el proceso de web scraping (selenium), obtenemos los datos que queremos de la obra y lo convertimos en un dataframe"
   ]
  },
  {
   "cell_type": "code",
   "execution_count": 4,
   "id": "62affa89",
   "metadata": {},
   "outputs": [],
   "source": [
    "url = 'https://transparenciave.org/obrasinconclusas/obras_inconclusas/conexion-colector-aguas-servidas-a-red-principal/'\n",
    "conex_aguas_resid = obtener_datos_obra(url)"
   ]
  },
  {
   "cell_type": "code",
   "execution_count": 6,
   "id": "9382fc95",
   "metadata": {},
   "outputs": [
    {
     "data": {
      "text/html": [
       "<div>\n",
       "<style scoped>\n",
       "    .dataframe tbody tr th:only-of-type {\n",
       "        vertical-align: middle;\n",
       "    }\n",
       "\n",
       "    .dataframe tbody tr th {\n",
       "        vertical-align: top;\n",
       "    }\n",
       "\n",
       "    .dataframe thead th {\n",
       "        text-align: right;\n",
       "    }\n",
       "</style>\n",
       "<table border=\"1\" class=\"dataframe\">\n",
       "  <thead>\n",
       "    <tr style=\"text-align: right;\">\n",
       "      <th></th>\n",
       "      <th>Obra</th>\n",
       "      <th>Status</th>\n",
       "      <th>Ejecución física %</th>\n",
       "      <th>Ejecución financiera %</th>\n",
       "      <th>Estado</th>\n",
       "      <th>Municipio</th>\n",
       "      <th>Dirección</th>\n",
       "      <th>Personas afectadas</th>\n",
       "      <th>Ente responsable</th>\n",
       "      <th>Funcionario responsable</th>\n",
       "      <th>Empresa contratista</th>\n",
       "      <th>Valor total de la obra USD (millones)</th>\n",
       "      <th>Obra financiada por FONDEN</th>\n",
       "      <th>Monto comprometido USD (millones)</th>\n",
       "      <th>Fecha estimada de inicio</th>\n",
       "      <th>Fecha real de inicio</th>\n",
       "      <th>Fecha culminación estimada de la obra</th>\n",
       "      <th>Fecha de paralización</th>\n",
       "    </tr>\n",
       "  </thead>\n",
       "  <tbody>\n",
       "    <tr>\n",
       "      <th>0</th>\n",
       "      <td>CONEXIÓN COLECTOR AGUAS SERVIDAS A RED PRINCIPAL</td>\n",
       "      <td>Operativa sin concluir las obras</td>\n",
       "      <td>70%</td>\n",
       "      <td>S/I</td>\n",
       "      <td>Estado Lara</td>\n",
       "      <td>Iribarren</td>\n",
       "      <td>Barrio Rómulo Gallegos, parroquía El Cují</td>\n",
       "      <td>Entre 5.001 y 100.000</td>\n",
       "      <td>Hidrolara / Gobernación del estado Lara</td>\n",
       "      <td>Henri Falcón</td>\n",
       "      <td>S/I</td>\n",
       "      <td>USD 1.222.222</td>\n",
       "      <td>S/I</td>\n",
       "      <td>S/I</td>\n",
       "      <td>2015</td>\n",
       "      <td>2015</td>\n",
       "      <td>2018</td>\n",
       "      <td>2017</td>\n",
       "    </tr>\n",
       "  </tbody>\n",
       "</table>\n",
       "</div>"
      ],
      "text/plain": [
       "                                               Obra  \\\n",
       "0  CONEXIÓN COLECTOR AGUAS SERVIDAS A RED PRINCIPAL   \n",
       "\n",
       "                             Status Ejecución física % Ejecución financiera %  \\\n",
       "0  Operativa sin concluir las obras                70%                    S/I   \n",
       "\n",
       "        Estado  Municipio                                  Dirección  \\\n",
       "0  Estado Lara  Iribarren  Barrio Rómulo Gallegos, parroquía El Cují   \n",
       "\n",
       "      Personas afectadas                         Ente responsable  \\\n",
       "0  Entre 5.001 y 100.000  Hidrolara / Gobernación del estado Lara   \n",
       "\n",
       "  Funcionario responsable Empresa contratista  \\\n",
       "0            Henri Falcón                 S/I   \n",
       "\n",
       "  Valor total de la obra USD (millones) Obra financiada por FONDEN  \\\n",
       "0                         USD 1.222.222                        S/I   \n",
       "\n",
       "  Monto comprometido USD (millones) Fecha estimada de inicio  \\\n",
       "0                               S/I                     2015   \n",
       "\n",
       "  Fecha real de inicio Fecha culminación estimada de la obra  \\\n",
       "0                 2015                                  2018   \n",
       "\n",
       "  Fecha de paralización  \n",
       "0                  2017  "
      ]
     },
     "execution_count": 6,
     "metadata": {},
     "output_type": "execute_result"
    }
   ],
   "source": [
    "df = pd.DataFrame([conex_aguas_resid]) #convertimos los datos en un dataframe\n",
    "\n",
    "df['Obra financiada por FONDEN'] = 'S/I' #agregamos las columnas que hacen falta para mantener el formato del DF\n",
    "df['Monto comprometido USD (millones)'] = 'S/I'\n",
    "\n",
    "#Reorganizamos el orden de las columnas\n",
    "df = df[[0,1,2,3,4,5,6,7,8,9,10,11,'Obra financiada por FONDEN','Monto comprometido USD (millones)',12,13,14,15]]\n",
    "df.columns = columnas\n",
    "df"
   ]
  },
  {
   "cell_type": "code",
   "execution_count": 14,
   "id": "921abee9",
   "metadata": {},
   "outputs": [],
   "source": [
    "url2 = 'https://transparenciave.org/obrasinconclusas/obras_inconclusas/construccion-planta-de-tratamiento-de-aguas-residuales-el-tanque/'\n",
    "planta_tto = obtener_datos_obra(url2)"
   ]
  },
  {
   "cell_type": "code",
   "execution_count": 16,
   "id": "89e19891",
   "metadata": {},
   "outputs": [],
   "source": [
    "df2 = pd.DataFrame([planta_tto])\n",
    "\n",
    "df2 = df2.drop(df2.columns[[2, 3]], axis=1) #eliminamos las columnas 2 y 3 que no tienen información\n",
    "\n",
    "df2['Obra financiada por FONDEN'] = 'S/I' #agregamos las columnas que hacen falta para mantener el formato del DF\n",
    "df2['Monto comprometido USD (millones)'] = 'S/I'\n",
    "\n",
    "#Reorganizamos el orden de las columnas\n",
    "df2 = df2[[0,1,4,5,6,7,8,9,10,11,12,13,'Obra financiada por FONDEN','Monto comprometido USD (millones)',14,16,16,17]]\n",
    "df2.columns = columnas"
   ]
  },
  {
   "cell_type": "code",
   "execution_count": 18,
   "id": "56f4fc34",
   "metadata": {},
   "outputs": [],
   "source": [
    "url3 = 'https://transparenciave.org/obrasinconclusas/obras_inconclusas/proyecto-de-saneamiento-del-rio-guaire-fases-ii-y-iii/'\n",
    "rio_guiare = obtener_datos_obra(url3)"
   ]
  },
  {
   "cell_type": "code",
   "execution_count": 21,
   "id": "aec367d2",
   "metadata": {},
   "outputs": [],
   "source": [
    "df3 = pd.DataFrame([rio_guiare])\n",
    "df3.columns = columnas"
   ]
  },
  {
   "cell_type": "code",
   "execution_count": 22,
   "id": "b82dd7d7",
   "metadata": {},
   "outputs": [],
   "source": [
    "url4 = 'https://transparenciave.org/obrasinconclusas/obras_inconclusas/relleno-sanitario-canaveral/'\n",
    "canaveral = obtener_datos_obra(url4)"
   ]
  },
  {
   "cell_type": "code",
   "execution_count": 26,
   "id": "37fdd307",
   "metadata": {},
   "outputs": [],
   "source": [
    "df4 = pd.DataFrame([canaveral])\n",
    "\n",
    "df4['Obra financiada por FONDEN'] = 'S/I' #agregamos las columnas que hacen falta para mantener el formato del DF\n",
    "df4['Monto comprometido USD (millones)'] = 'S/I'\n",
    "\n",
    "#Reorganizamos el orden de las columnas\n",
    "df4 = df4[[0,1,2,3,4,5,6,7,8,9,10,11,'Obra financiada por FONDEN','Monto comprometido USD (millones)',12,13,14,15]]\n",
    "df4.columns = columnas"
   ]
  },
  {
   "cell_type": "code",
   "execution_count": 27,
   "id": "8806be21",
   "metadata": {},
   "outputs": [],
   "source": [
    "url5 = 'https://transparenciave.org/obrasinconclusas/obras_inconclusas/saneamiento-integral-del-valle-del-turbio/'\n",
    "valle_turbio = obtener_datos_obra(url5)"
   ]
  },
  {
   "cell_type": "code",
   "execution_count": 29,
   "id": "038dd0b3",
   "metadata": {},
   "outputs": [],
   "source": [
    "df5 = pd.DataFrame([rio_guiare])\n",
    "df5.columns = columnas"
   ]
  },
  {
   "cell_type": "markdown",
   "id": "80bdd0e1",
   "metadata": {},
   "source": [
    "### Procedemos a juntar todos los dataframes"
   ]
  },
  {
   "cell_type": "code",
   "execution_count": 44,
   "id": "0baaa8cd",
   "metadata": {},
   "outputs": [],
   "source": [
    "# Concatena los DataFrames en uno solo\n",
    "data_saneamiento = pd.concat([df,df2,df3,df4,df5],ignore_index=True)"
   ]
  },
  {
   "cell_type": "markdown",
   "id": "2db97034",
   "metadata": {},
   "source": [
    "### Sustituimos en la columna 'Estados' donde aparezca 'Área metropolitana de Caracas', por 'Distrito Capital' que es el verdadero nombre del estado"
   ]
  },
  {
   "cell_type": "code",
   "execution_count": 45,
   "id": "69aece29",
   "metadata": {},
   "outputs": [],
   "source": [
    "data_saneamiento['Estado'] = data_saneamiento['Estado'].replace('Área Metropolitana de Caracas', 'Distrito Capital')"
   ]
  },
  {
   "cell_type": "markdown",
   "id": "f92e822b",
   "metadata": {},
   "source": [
    "### Para conocer las coordenadas de cada una de las obras, hacemos uso de Geopy"
   ]
  },
  {
   "cell_type": "code",
   "execution_count": 46,
   "id": "4703b142",
   "metadata": {},
   "outputs": [],
   "source": [
    "#Asignamos como dirección el Municipio y Estado de cada obra para conocer sus coordenadas\n",
    "municipio_estado = data_saneamiento['Municipio'] + ', ' + data_saneamiento['Estado']\n",
    "lista_municipio_estado = municipio_estado.tolist()"
   ]
  },
  {
   "cell_type": "code",
   "execution_count": 47,
   "id": "0ef8d69a",
   "metadata": {},
   "outputs": [],
   "source": [
    "latitudes = obtener_latitudes(lista_municipio_estado) #obtenemos la latitud de la obra"
   ]
  },
  {
   "cell_type": "code",
   "execution_count": 48,
   "id": "9f57083c",
   "metadata": {},
   "outputs": [],
   "source": [
    "longitudes = obtener_longitudes(lista_municipio_estado) #obtenemos la longitud de la obra"
   ]
  },
  {
   "cell_type": "code",
   "execution_count": 49,
   "id": "57e4c8da",
   "metadata": {},
   "outputs": [],
   "source": [
    "data_saneamiento['Latitud'] = latitudes #agregamos una nueva columna con todos los valores de las latitudes\n",
    "data_saneamiento['Longitud'] = longitudes #agregamos una nueva columna con todos los valores de las longitudes"
   ]
  },
  {
   "cell_type": "markdown",
   "id": "a4342920",
   "metadata": {},
   "source": [
    "### Extraemos la parte numérica de la columna 'Valor total de la obra' para tener un dato de tipo entero"
   ]
  },
  {
   "cell_type": "code",
   "execution_count": 50,
   "id": "e15c10d1",
   "metadata": {},
   "outputs": [],
   "source": [
    "# Aplicar la función a la columna 'Valor total de la obra'\n",
    "data_saneamiento['Valor total de la obra USD (millones)'] = data_saneamiento['Valor total de la obra USD (millones)'].apply(extract_numeric_value)\n",
    "\n",
    "data_saneamiento['Valor total de la obra USD (millones)'] = data_saneamiento['Valor total de la obra USD (millones)'].str.replace('.', '', regex=True).fillna('0').astype(int)\n",
    "\n",
    "#Dividimos para tener el total de millones en un número mas legible\n",
    "data_saneamiento['Valor total de la obra USD (millones)'] = (data_saneamiento['Valor total de la obra USD (millones)'] / 1000000).round(2)"
   ]
  },
  {
   "cell_type": "markdown",
   "id": "2f9cf67a",
   "metadata": {},
   "source": [
    "### Limpiamos la columna 'Monto comprometido', extraemos la parte numérica, llenamos los valores nulos con '0', transformamos a un tipo de dato float"
   ]
  },
  {
   "cell_type": "code",
   "execution_count": 52,
   "id": "01e21b06",
   "metadata": {},
   "outputs": [],
   "source": [
    "data_saneamiento['Monto comprometido USD (millones)'] = data_saneamiento['Monto comprometido USD (millones)'].apply(extract_numeric_value)\n",
    "data_saneamiento['Monto comprometido USD (millones)'] = data_saneamiento['Monto comprometido USD (millones)'].fillna('0')\n",
    "\n",
    "# Convertir la columna a cadena, eliminar los puntos y reemplazar las comas por puntos\n",
    "data_saneamiento['Monto comprometido USD (millones)'] = data_saneamiento['Monto comprometido USD (millones)'].astype(str)\n",
    "data_saneamiento['Monto comprometido USD (millones)'] = data_saneamiento['Monto comprometido USD (millones)'].str.replace('.', '').str.replace(',', '.')\n",
    "\n",
    "# Convertir la columna a tipo float\n",
    "data_saneamiento['Monto comprometido USD (millones)'] = pd.to_numeric(data_saneamiento['Monto comprometido USD (millones)'], errors='coerce')\n",
    "\n",
    "#Dividimos para tener el total de millones en un número más legible\n",
    "data_saneamiento['Monto comprometido USD (millones)'] = (data_saneamiento['Monto comprometido USD (millones)'] / 1000000).astype(int)"
   ]
  },
  {
   "cell_type": "markdown",
   "id": "c04cb69d",
   "metadata": {},
   "source": [
    "### Cambiamos el tipo de dato de la columna 'Fecha estimada de inicio' por datetime y extraemos el año"
   ]
  },
  {
   "cell_type": "code",
   "execution_count": 53,
   "id": "05088bf3",
   "metadata": {},
   "outputs": [],
   "source": [
    "# Convertir la columna 'Fecha estimada de inicio' a datetime\n",
    "data_saneamiento['Fecha estimada de inicio'] = pd.to_datetime(data_saneamiento['Fecha estimada de inicio'], errors='coerce')\n",
    "data_saneamiento['Fecha estimada de inicio'] = data_saneamiento['Fecha estimada de inicio'].dt.year"
   ]
  },
  {
   "cell_type": "markdown",
   "id": "43964abb",
   "metadata": {},
   "source": [
    "### Transformamos las columnas 'Ejecución física' y 'Ejecución financiera' en valores de tipo float, para ello llenamos los valores 'S/I' con 0 y extraemos la parte numérica"
   ]
  },
  {
   "cell_type": "code",
   "execution_count": 55,
   "id": "286307f1",
   "metadata": {},
   "outputs": [],
   "source": [
    "data_saneamiento['Ejecución física %'] = data_saneamiento['Ejecución física %'].apply(extract_numeric_value)\n",
    "data_saneamiento['Ejecución física %'] = data_saneamiento['Ejecución física %'].str.replace(',', '.').replace({None: '0'})\n",
    "\n",
    "# Convertir la columna a tipo float\n",
    "data_saneamiento['Ejecución física %'] = data_saneamiento['Ejecución física %'].astype(float)"
   ]
  },
  {
   "cell_type": "code",
   "execution_count": 56,
   "id": "ebe836b8",
   "metadata": {},
   "outputs": [],
   "source": [
    "data_saneamiento['Ejecución financiera %'] = data_saneamiento['Ejecución financiera %'].apply(extract_numeric_value)\n",
    "data_saneamiento['Ejecución financiera %'] = data_saneamiento['Ejecución financiera %'].str.replace(',', '.').replace({None: '0'})\n",
    "\n",
    "# Convertir la columna a tipo float\n",
    "data_saneamiento['Ejecución financiera %'] = data_saneamiento['Ejecución financiera %'].astype(float)"
   ]
  },
  {
   "cell_type": "markdown",
   "id": "1fcb1908",
   "metadata": {},
   "source": [
    "### Añadimos una nueva columna para indicar cuál es el sector correspondiente a la obra"
   ]
  },
  {
   "cell_type": "code",
   "execution_count": 57,
   "id": "d40bbaf3",
   "metadata": {},
   "outputs": [],
   "source": [
    "data_saneamiento['Sector'] = 'Saneamiento ambiental'"
   ]
  },
  {
   "cell_type": "code",
   "execution_count": 58,
   "id": "c45779f0",
   "metadata": {},
   "outputs": [],
   "source": [
    "#Reordenamos las columnas\n",
    "nuevo_orden = ['Sector','Obra','Status','Ejecución física %','Ejecución financiera %','Estado','Municipio','Dirección','Personas afectadas','Ente responsable','Funcionario responsable','Empresa contratista','Valor total de la obra USD (millones)','Obra financiada por FONDEN','Monto comprometido USD (millones)','Fecha estimada de inicio','Fecha real de inicio','Fecha culminación estimada de la obra','Fecha de paralización', 'Latitud', 'Longitud']\n",
    "data_saneamiento = data_saneamiento[nuevo_orden]"
   ]
  },
  {
   "cell_type": "code",
   "execution_count": 59,
   "id": "4f1b2cae",
   "metadata": {},
   "outputs": [
    {
     "data": {
      "text/html": [
       "<div>\n",
       "<style scoped>\n",
       "    .dataframe tbody tr th:only-of-type {\n",
       "        vertical-align: middle;\n",
       "    }\n",
       "\n",
       "    .dataframe tbody tr th {\n",
       "        vertical-align: top;\n",
       "    }\n",
       "\n",
       "    .dataframe thead th {\n",
       "        text-align: right;\n",
       "    }\n",
       "</style>\n",
       "<table border=\"1\" class=\"dataframe\">\n",
       "  <thead>\n",
       "    <tr style=\"text-align: right;\">\n",
       "      <th></th>\n",
       "      <th>Sector</th>\n",
       "      <th>Obra</th>\n",
       "      <th>Status</th>\n",
       "      <th>Ejecución física %</th>\n",
       "      <th>Ejecución financiera %</th>\n",
       "      <th>Estado</th>\n",
       "      <th>Municipio</th>\n",
       "      <th>Dirección</th>\n",
       "      <th>Personas afectadas</th>\n",
       "      <th>Ente responsable</th>\n",
       "      <th>...</th>\n",
       "      <th>Empresa contratista</th>\n",
       "      <th>Valor total de la obra USD (millones)</th>\n",
       "      <th>Obra financiada por FONDEN</th>\n",
       "      <th>Monto comprometido USD (millones)</th>\n",
       "      <th>Fecha estimada de inicio</th>\n",
       "      <th>Fecha real de inicio</th>\n",
       "      <th>Fecha culminación estimada de la obra</th>\n",
       "      <th>Fecha de paralización</th>\n",
       "      <th>Latitud</th>\n",
       "      <th>Longitud</th>\n",
       "    </tr>\n",
       "  </thead>\n",
       "  <tbody>\n",
       "    <tr>\n",
       "      <th>0</th>\n",
       "      <td>Saneamiento ambiental</td>\n",
       "      <td>CONEXIÓN COLECTOR AGUAS SERVIDAS A RED PRINCIPAL</td>\n",
       "      <td>Operativa sin concluir las obras</td>\n",
       "      <td>70.0</td>\n",
       "      <td>0.0</td>\n",
       "      <td>Estado Lara</td>\n",
       "      <td>Iribarren</td>\n",
       "      <td>Barrio Rómulo Gallegos, parroquía El Cují</td>\n",
       "      <td>Entre 5.001 y 100.000</td>\n",
       "      <td>Hidrolara / Gobernación del estado Lara</td>\n",
       "      <td>...</td>\n",
       "      <td>S/I</td>\n",
       "      <td>1.22</td>\n",
       "      <td>S/I</td>\n",
       "      <td>0</td>\n",
       "      <td>2015.0</td>\n",
       "      <td>2015</td>\n",
       "      <td>2018</td>\n",
       "      <td>2017</td>\n",
       "      <td>10.123217</td>\n",
       "      <td>-69.408749</td>\n",
       "    </tr>\n",
       "    <tr>\n",
       "      <th>1</th>\n",
       "      <td>Saneamiento ambiental</td>\n",
       "      <td>CONSTRUCCIÓN PLANTA DE TRATAMIENTO DE AGUAS RE...</td>\n",
       "      <td>Paralizada</td>\n",
       "      <td>33.0</td>\n",
       "      <td>0.0</td>\n",
       "      <td>Estado Lara</td>\n",
       "      <td>Palavecino</td>\n",
       "      <td>Las cercanías del caserío El Taque, Palavecino...</td>\n",
       "      <td>Más de 1.000.001</td>\n",
       "      <td>Empresa Noroccidental de Mantenimiento y Obras...</td>\n",
       "      <td>...</td>\n",
       "      <td>S/I</td>\n",
       "      <td>63.48</td>\n",
       "      <td>S/I</td>\n",
       "      <td>0</td>\n",
       "      <td>NaN</td>\n",
       "      <td>S/I</td>\n",
       "      <td>S/I</td>\n",
       "      <td>2009</td>\n",
       "      <td>9.987491</td>\n",
       "      <td>-69.233509</td>\n",
       "    </tr>\n",
       "    <tr>\n",
       "      <th>2</th>\n",
       "      <td>Saneamiento ambiental</td>\n",
       "      <td>PROYECTO DE SANEAMIENTO DEL RÍO GUAIRE, FASES ...</td>\n",
       "      <td>Paralizada</td>\n",
       "      <td>41.7</td>\n",
       "      <td>0.0</td>\n",
       "      <td>Distrito Capital</td>\n",
       "      <td>Libertador</td>\n",
       "      <td>Río Guaire</td>\n",
       "      <td>Más de 1.000.001</td>\n",
       "      <td>Ministerio de Atención de las Aguas</td>\n",
       "      <td>...</td>\n",
       "      <td>S/I</td>\n",
       "      <td>2500.00</td>\n",
       "      <td>Si</td>\n",
       "      <td>103</td>\n",
       "      <td>2005.0</td>\n",
       "      <td>2007</td>\n",
       "      <td>2016</td>\n",
       "      <td>S/I</td>\n",
       "      <td>10.501021</td>\n",
       "      <td>-66.960280</td>\n",
       "    </tr>\n",
       "    <tr>\n",
       "      <th>3</th>\n",
       "      <td>Saneamiento ambiental</td>\n",
       "      <td>RELLENO SANITARIO CAÑAVERAL</td>\n",
       "      <td>Paralizada</td>\n",
       "      <td>45.0</td>\n",
       "      <td>0.0</td>\n",
       "      <td>Estado Bolívar</td>\n",
       "      <td>Caroní</td>\n",
       "      <td>7439+X93, 8050</td>\n",
       "      <td>Entre 0-5.000</td>\n",
       "      <td>Ministerio de Ecosocialismo / Secretaría de Am...</td>\n",
       "      <td>...</td>\n",
       "      <td>Pavimentos Delta, C.A. (Pavidelca)</td>\n",
       "      <td>405.08</td>\n",
       "      <td>S/I</td>\n",
       "      <td>0</td>\n",
       "      <td>2014.0</td>\n",
       "      <td>Julio 2016</td>\n",
       "      <td>Noviembre 2016</td>\n",
       "      <td>S/I</td>\n",
       "      <td>8.360815</td>\n",
       "      <td>-62.634737</td>\n",
       "    </tr>\n",
       "    <tr>\n",
       "      <th>4</th>\n",
       "      <td>Saneamiento ambiental</td>\n",
       "      <td>PROYECTO DE SANEAMIENTO DEL RÍO GUAIRE, FASES ...</td>\n",
       "      <td>Paralizada</td>\n",
       "      <td>41.7</td>\n",
       "      <td>0.0</td>\n",
       "      <td>Distrito Capital</td>\n",
       "      <td>Libertador</td>\n",
       "      <td>Río Guaire</td>\n",
       "      <td>Más de 1.000.001</td>\n",
       "      <td>Ministerio de Atención de las Aguas</td>\n",
       "      <td>...</td>\n",
       "      <td>S/I</td>\n",
       "      <td>2500.00</td>\n",
       "      <td>Si</td>\n",
       "      <td>103</td>\n",
       "      <td>2005.0</td>\n",
       "      <td>2007</td>\n",
       "      <td>2016</td>\n",
       "      <td>S/I</td>\n",
       "      <td>10.501021</td>\n",
       "      <td>-66.960280</td>\n",
       "    </tr>\n",
       "  </tbody>\n",
       "</table>\n",
       "<p>5 rows × 21 columns</p>\n",
       "</div>"
      ],
      "text/plain": [
       "                  Sector                                               Obra  \\\n",
       "0  Saneamiento ambiental   CONEXIÓN COLECTOR AGUAS SERVIDAS A RED PRINCIPAL   \n",
       "1  Saneamiento ambiental  CONSTRUCCIÓN PLANTA DE TRATAMIENTO DE AGUAS RE...   \n",
       "2  Saneamiento ambiental  PROYECTO DE SANEAMIENTO DEL RÍO GUAIRE, FASES ...   \n",
       "3  Saneamiento ambiental                        RELLENO SANITARIO CAÑAVERAL   \n",
       "4  Saneamiento ambiental  PROYECTO DE SANEAMIENTO DEL RÍO GUAIRE, FASES ...   \n",
       "\n",
       "                             Status  Ejecución física %  \\\n",
       "0  Operativa sin concluir las obras                70.0   \n",
       "1                        Paralizada                33.0   \n",
       "2                        Paralizada                41.7   \n",
       "3                        Paralizada                45.0   \n",
       "4                        Paralizada                41.7   \n",
       "\n",
       "   Ejecución financiera %            Estado   Municipio  \\\n",
       "0                     0.0       Estado Lara   Iribarren   \n",
       "1                     0.0       Estado Lara  Palavecino   \n",
       "2                     0.0  Distrito Capital  Libertador   \n",
       "3                     0.0    Estado Bolívar      Caroní   \n",
       "4                     0.0  Distrito Capital  Libertador   \n",
       "\n",
       "                                           Dirección     Personas afectadas  \\\n",
       "0          Barrio Rómulo Gallegos, parroquía El Cují  Entre 5.001 y 100.000   \n",
       "1  Las cercanías del caserío El Taque, Palavecino...       Más de 1.000.001   \n",
       "2                                         Río Guaire       Más de 1.000.001   \n",
       "3                                     7439+X93, 8050          Entre 0-5.000   \n",
       "4                                         Río Guaire       Más de 1.000.001   \n",
       "\n",
       "                                    Ente responsable  ...  \\\n",
       "0            Hidrolara / Gobernación del estado Lara  ...   \n",
       "1  Empresa Noroccidental de Mantenimiento y Obras...  ...   \n",
       "2                Ministerio de Atención de las Aguas  ...   \n",
       "3  Ministerio de Ecosocialismo / Secretaría de Am...  ...   \n",
       "4                Ministerio de Atención de las Aguas  ...   \n",
       "\n",
       "                  Empresa contratista Valor total de la obra USD (millones)  \\\n",
       "0                                 S/I                                  1.22   \n",
       "1                                 S/I                                 63.48   \n",
       "2                                 S/I                               2500.00   \n",
       "3  Pavimentos Delta, C.A. (Pavidelca)                                405.08   \n",
       "4                                 S/I                               2500.00   \n",
       "\n",
       "   Obra financiada por FONDEN Monto comprometido USD (millones)  \\\n",
       "0                         S/I                                 0   \n",
       "1                         S/I                                 0   \n",
       "2                          Si                               103   \n",
       "3                         S/I                                 0   \n",
       "4                          Si                               103   \n",
       "\n",
       "   Fecha estimada de inicio  Fecha real de inicio  \\\n",
       "0                    2015.0                  2015   \n",
       "1                       NaN                   S/I   \n",
       "2                    2005.0                  2007   \n",
       "3                    2014.0            Julio 2016   \n",
       "4                    2005.0                  2007   \n",
       "\n",
       "  Fecha culminación estimada de la obra Fecha de paralización    Latitud  \\\n",
       "0                                  2018                  2017  10.123217   \n",
       "1                                   S/I                  2009   9.987491   \n",
       "2                                  2016                   S/I  10.501021   \n",
       "3                        Noviembre 2016                   S/I   8.360815   \n",
       "4                                  2016                   S/I  10.501021   \n",
       "\n",
       "    Longitud  \n",
       "0 -69.408749  \n",
       "1 -69.233509  \n",
       "2 -66.960280  \n",
       "3 -62.634737  \n",
       "4 -66.960280  \n",
       "\n",
       "[5 rows x 21 columns]"
      ]
     },
     "execution_count": 59,
     "metadata": {},
     "output_type": "execute_result"
    }
   ],
   "source": [
    "data_saneamiento"
   ]
  },
  {
   "cell_type": "markdown",
   "id": "9e92c681",
   "metadata": {},
   "source": [
    "### Exportamos nuestro dataframe"
   ]
  },
  {
   "cell_type": "code",
   "execution_count": 60,
   "id": "90f46b11",
   "metadata": {},
   "outputs": [],
   "source": [
    "data_saneamiento.to_csv('obras_saneamiento.csv', index=False)"
   ]
  },
  {
   "cell_type": "code",
   "execution_count": null,
   "id": "ed2d3cfe",
   "metadata": {},
   "outputs": [],
   "source": []
  }
 ],
 "metadata": {
  "kernelspec": {
   "display_name": "Python 3 (ipykernel)",
   "language": "python",
   "name": "python3"
  },
  "language_info": {
   "codemirror_mode": {
    "name": "ipython",
    "version": 3
   },
   "file_extension": ".py",
   "mimetype": "text/x-python",
   "name": "python",
   "nbconvert_exporter": "python",
   "pygments_lexer": "ipython3",
   "version": "3.11.4"
  }
 },
 "nbformat": 4,
 "nbformat_minor": 5
}
