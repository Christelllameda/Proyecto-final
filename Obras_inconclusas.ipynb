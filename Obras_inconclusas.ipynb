{
 "cells": [
  {
   "cell_type": "markdown",
   "id": "583481db",
   "metadata": {},
   "source": [
    "### Importamos librerías"
   ]
  },
  {
   "cell_type": "code",
   "execution_count": 1,
   "id": "6b101a2d",
   "metadata": {},
   "outputs": [],
   "source": [
    "import pandas as pd"
   ]
  },
  {
   "cell_type": "markdown",
   "id": "f8d7d1f4",
   "metadata": {},
   "source": [
    "### Procedemos a abrir todos nuestros archivos con los diferentes sectores de obras inconclusas"
   ]
  },
  {
   "cell_type": "code",
   "execution_count": 18,
   "id": "83f5ebde",
   "metadata": {},
   "outputs": [],
   "source": [
    "transporte = pd.read_csv('data/obras_transporte.csv', encoding='latin1')"
   ]
  },
  {
   "cell_type": "code",
   "execution_count": 19,
   "id": "21b289bf",
   "metadata": {},
   "outputs": [],
   "source": [
    "vialidad = pd.read_csv('data/obras_vialidad.csv', encoding='latin1')"
   ]
  },
  {
   "cell_type": "code",
   "execution_count": 20,
   "id": "b78e60f4",
   "metadata": {},
   "outputs": [],
   "source": [
    "energia = pd.read_csv('data/obras_energia.csv', encoding='latin1')"
   ]
  },
  {
   "cell_type": "code",
   "execution_count": 21,
   "id": "a619a815",
   "metadata": {},
   "outputs": [],
   "source": [
    "agua = pd.read_csv('data/obras_agua.csv', encoding='latin1')"
   ]
  },
  {
   "cell_type": "code",
   "execution_count": 22,
   "id": "610d2c3a",
   "metadata": {},
   "outputs": [],
   "source": [
    "salud = pd.read_csv('data/obras_salud.csv', encoding='latin1')"
   ]
  },
  {
   "cell_type": "code",
   "execution_count": 23,
   "id": "56775971",
   "metadata": {},
   "outputs": [],
   "source": [
    "productivo = pd.read_csv('data/obras_productivo.csv', encoding='latin1')"
   ]
  },
  {
   "cell_type": "code",
   "execution_count": 24,
   "id": "d5237ade",
   "metadata": {},
   "outputs": [],
   "source": [
    "saneamiento = pd.read_csv('data/obras_saneamiento.csv', encoding='latin1')"
   ]
  },
  {
   "cell_type": "code",
   "execution_count": 25,
   "id": "dd45ce52",
   "metadata": {},
   "outputs": [],
   "source": [
    "hidrocarburos = pd.read_csv('data/obras_hidrocarburos.csv', encoding='latin1')"
   ]
  },
  {
   "cell_type": "markdown",
   "id": "b5ebd18e",
   "metadata": {},
   "source": [
    "### Asignamos el nombre de las columnas"
   ]
  },
  {
   "cell_type": "code",
   "execution_count": 26,
   "id": "278a2e2b",
   "metadata": {},
   "outputs": [],
   "source": [
    "columnas = ['Sector','Obra','Status','Ejecución física %','Ejecución financiera %','Estado','Municipio','Dirección','Personas afectadas','Ente responsable','Funcionario responsable','Empresa contratista','Valor total de la obra USD (millones)','Obra financiada por FONDEN','Monto comprometido USD (millones)','Fecha estimada de inicio','Fecha real de inicio','Fecha culminación estimada de la obra','Fecha de paralización','Latitud','Longitud']"
   ]
  },
  {
   "cell_type": "markdown",
   "id": "d572d62d",
   "metadata": {},
   "source": [
    "### Concatenamos todos los sectores de las obras en un solo dataframe y renombramos las columnas"
   ]
  },
  {
   "cell_type": "code",
   "execution_count": 32,
   "id": "d3f68068",
   "metadata": {},
   "outputs": [],
   "source": [
    "data = pd.concat([transporte,vialidad,energia,agua,salud,productivo,saneamiento,hidrocarburos],ignore_index=True)\n",
    "data.columns = columnas"
   ]
  },
  {
   "cell_type": "markdown",
   "id": "2f231b55",
   "metadata": {},
   "source": [
    "### Exportamos nuestro archivo"
   ]
  },
  {
   "cell_type": "code",
   "execution_count": 33,
   "id": "2bfa61ed",
   "metadata": {},
   "outputs": [],
   "source": [
    "data.to_csv('obras_inconclusas.csv', index=False)"
   ]
  },
  {
   "cell_type": "code",
   "execution_count": null,
   "id": "fc2c38fa",
   "metadata": {},
   "outputs": [],
   "source": []
  }
 ],
 "metadata": {
  "kernelspec": {
   "display_name": "Python 3 (ipykernel)",
   "language": "python",
   "name": "python3"
  },
  "language_info": {
   "codemirror_mode": {
    "name": "ipython",
    "version": 3
   },
   "file_extension": ".py",
   "mimetype": "text/x-python",
   "name": "python",
   "nbconvert_exporter": "python",
   "pygments_lexer": "ipython3",
   "version": "3.11.4"
  }
 },
 "nbformat": 4,
 "nbformat_minor": 5
}
