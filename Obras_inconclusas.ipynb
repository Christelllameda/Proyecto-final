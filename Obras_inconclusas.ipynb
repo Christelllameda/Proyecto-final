{
 "cells": [
  {
   "cell_type": "markdown",
   "id": "0e4f32e3",
   "metadata": {},
   "source": [
    "### Procedemos a abrir todos nuestros archivos con los diferentes sectores de obras inconclusas"
   ]
  },
  {
   "cell_type": "code",
   "execution_count": 73,
   "id": "2a1b590d",
   "metadata": {},
   "outputs": [],
   "source": [
    "archivos = ['data/obras_transporte.csv', 'data/obras_vialidad.csv', 'data/obras_energia.csv', \n",
    "            'data/obras_agua.csv', 'data/obras_salud.csv', 'data/obras_productivo.csv', \n",
    "            'data/obras_saneamiento.csv', 'data/obras_hidrocarburos.csv']\n",
    "\n",
    "data = cargar_archivos_csv(archivos)"
   ]
  },
  {
   "cell_type": "markdown",
   "id": "117d678d",
   "metadata": {},
   "source": [
    "### Asignamos el nombre de las columnas"
   ]
  },
  {
   "cell_type": "code",
   "execution_count": 74,
   "id": "278a2e2b",
   "metadata": {},
   "outputs": [],
   "source": [
    "columnas = ['Sector','Obra','Status','Ejecución física %','Ejecución financiera %','Estado','Municipio','Dirección','Personas afectadas','Ente responsable','Funcionario responsable','Empresa contratista','Valor total de la obra USD (millones)','Obra financiada por FONDEN','Monto comprometido USD (millones)','Fecha estimada de inicio','Fecha real de inicio','Fecha culminación estimada de la obra','Fecha de paralización','Latitud','Longitud']"
   ]
  },
  {
   "cell_type": "code",
   "execution_count": 81,
   "id": "323581ee",
   "metadata": {},
   "outputs": [],
   "source": [
    "data['Valor total de la obra USD (millones)'] = data['Valor total de la obra USD (millones)']*1000000"
   ]
  },
  {
   "cell_type": "markdown",
   "id": "3de791e9",
   "metadata": {},
   "source": [
    "### Renombramos las columnas"
   ]
  },
  {
   "cell_type": "code",
   "execution_count": 77,
   "id": "12b2d3e7",
   "metadata": {},
   "outputs": [],
   "source": [
    "data.columns = columnas"
   ]
  },
  {
   "cell_type": "markdown",
   "id": "184d6b74",
   "metadata": {},
   "source": [
    "### Exportamos nuestro archivo"
   ]
  },
  {
   "cell_type": "code",
   "execution_count": 83,
   "id": "2bfa61ed",
   "metadata": {},
   "outputs": [],
   "source": [
    "data.to_csv('obras_inconclusas.csv', index=False)"
   ]
  },
  {
   "cell_type": "code",
   "execution_count": null,
   "id": "90534581",
   "metadata": {},
   "outputs": [],
   "source": []
  }
 ],
 "metadata": {
  "kernelspec": {
   "display_name": "Python 3 (ipykernel)",
   "language": "python",
   "name": "python3"
  },
  "language_info": {
   "codemirror_mode": {
    "name": "ipython",
    "version": 3
   },
   "file_extension": ".py",
   "mimetype": "text/x-python",
   "name": "python",
   "nbconvert_exporter": "python",
   "pygments_lexer": "ipython3",
   "version": "3.11.4"
  }
 },
 "nbformat": 4,
 "nbformat_minor": 5
}
