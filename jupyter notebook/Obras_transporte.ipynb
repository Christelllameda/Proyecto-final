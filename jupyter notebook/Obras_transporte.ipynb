{
 "cells": [
  {
   "cell_type": "code",
   "execution_count": null,
   "id": "891642db",
   "metadata": {},
   "outputs": [],
   "source": [
    "#pip install nbimporter"
   ]
  },
  {
   "cell_type": "code",
   "execution_count": null,
   "id": "9d0c6c06",
   "metadata": {},
   "outputs": [],
   "source": [
    "import warnings\n",
    "warnings.filterwarnings('ignore')"
   ]
  },
  {
   "cell_type": "code",
   "execution_count": null,
   "id": "a01977fd",
   "metadata": {},
   "outputs": [],
   "source": [
    "import pandas as pd\n",
    "import numpy as np\n",
    "from selenium.webdriver.chrome.options import Options\n",
    "from webdriver_manager.chrome import ChromeDriverManager\n",
    "from selenium import webdriver\n",
    "from selenium.webdriver.common.by import By\n",
    "import re"
   ]
  },
  {
   "cell_type": "code",
   "execution_count": null,
   "id": "4dc27257",
   "metadata": {},
   "outputs": [],
   "source": [
    "from geopy.geocoders import Nominatim\n",
    "geolocator = Nominatim(user_agent=\"obras_vzla\")\n",
    "import time "
   ]
  },
  {
   "cell_type": "code",
   "execution_count": null,
   "id": "0ce297cb",
   "metadata": {},
   "outputs": [],
   "source": [
    "#driver configuration\n",
    "opciones=Options()\n",
    "opciones.add_experimental_option('excludeSwitches', ['enable-automation'])\n",
    "opciones.add_experimental_option('useAutomationExtension', False)\n",
    "opciones.headless=False    # si True, no aperece la ventana (headless=no visible)\n",
    "opciones.add_argument('--start-maximized')         # comienza maximizado\n",
    "#opciones.add_argument('user-data-dir=selenium')    # mantiene las cookies\n",
    "#opciones.add_extension('driver_folder/adblock.crx')       # adblocker\n",
    "opciones.add_argument('--incognito')"
   ]
  },
  {
   "cell_type": "markdown",
   "id": "ee967700",
   "metadata": {},
   "source": [
    "### Para comenzar con el scrapping, importamos las funciones que tenemos en el archivo 'procesos'"
   ]
  },
  {
   "cell_type": "code",
   "execution_count": null,
   "id": "cab3e943",
   "metadata": {},
   "outputs": [],
   "source": [
    "from procesos import *"
   ]
  },
  {
   "cell_type": "markdown",
   "id": "5af01e4d",
   "metadata": {},
   "source": [
    "### Establecemos el nombre de las columnas que tendrá el dataframe"
   ]
  },
  {
   "cell_type": "code",
   "execution_count": null,
   "id": "7416d40b",
   "metadata": {},
   "outputs": [],
   "source": [
    "columnas = ['Obra','Status','Ejecución física %','Ejecución financiera %','Estado','Municipio','Dirección','Personas afectadas','Ente responsable','Funcionario responsable','Empresa contratista','Valor total de la obra USD (millones)','Obra financiada por FONDEN','Monto comprometido USD (millones)','Fecha estimada de inicio','Fecha real de inicio','Fecha culminación estimada de la obra','Fecha de paralización']"
   ]
  },
  {
   "cell_type": "markdown",
   "id": "6b246c8c",
   "metadata": {},
   "source": [
    "### Llamamos a la función 'obtener_datos_obra' que realiza el proceso de web scraping (selenium), obtenemos los datos que queremos de la obra y lo convertimos en un dataframe"
   ]
  },
  {
   "cell_type": "code",
   "execution_count": null,
   "id": "ebee9421",
   "metadata": {},
   "outputs": [],
   "source": [
    "url = 'https://transparenciave.org/obrasinconclusas/obras_inconclusas/aeropuerto-internacional-de-barinas/'\n",
    "aeropuerto_barinas = obtener_datos_obra(url)"
   ]
  },
  {
   "cell_type": "code",
   "execution_count": null,
   "id": "1083b1be",
   "metadata": {},
   "outputs": [],
   "source": [
    "df = pd.DataFrame([aeropuerto_barinas], columns=columnas)\n",
    "df"
   ]
  },
  {
   "cell_type": "markdown",
   "id": "5c2d2ca2",
   "metadata": {},
   "source": [
    "### Vamos a realizar el mismo procedimiento para las demás obras que tenemos en nuestra página web que estamos scrapeando"
   ]
  },
  {
   "cell_type": "code",
   "execution_count": null,
   "id": "807dba72",
   "metadata": {},
   "outputs": [],
   "source": [
    "url2 = 'https://transparenciave.org/obrasinconclusas/obras_inconclusas/ampliacion-y-mejoras-del-aeropuerto-jacinto-lara/'\n",
    "aeropuerto_jacinto_lara = obtener_datos_obra(url2)"
   ]
  },
  {
   "cell_type": "markdown",
   "id": "4d58ac5b",
   "metadata": {},
   "source": [
    "### Observamos que este dato no posee el mismo formato que el dataframe anterior, por lo que eliminamos, agregamos y renombramos columnas para que coincidan todos los datos en el dataframe final"
   ]
  },
  {
   "cell_type": "code",
   "execution_count": null,
   "id": "97ebcd76",
   "metadata": {},
   "outputs": [],
   "source": [
    "df2 = pd.DataFrame(aeropuerto_jacinto_lara)\n",
    "df2 = df2.T #intercambiamos las filas y las columnas para tener la disposición de los datos como deseamos\n",
    "df2 = df2.drop(df2.columns[[2, 3]], axis=1) #eliminamos las columnas 2 y 3 que no tienen información\n",
    "\n",
    "df2['Obra financiada por FONDEN'] = 'S/I' #agregamos las columnas que hacen falta para mantener el formato del DF\n",
    "df2['Monto comprometido'] = 'S/I'\n",
    "\n",
    "#Reorganizamos el orden de las columnas\n",
    "df2 = df2[[0,1,4,5,6,7,8,9,10,11,12,13,'Obra financiada por FONDEN','Monto comprometido',14,15,16,17]]\n",
    "df2.columns = columnas"
   ]
  },
  {
   "cell_type": "code",
   "execution_count": null,
   "id": "a3b8b0d7",
   "metadata": {},
   "outputs": [],
   "source": [
    "url3 = 'https://transparenciave.org/obrasinconclusas/obras_inconclusas/astillero-naval-nororiental-astialba/'\n",
    "astillero_naval = obtener_datos_obra(url3)"
   ]
  },
  {
   "cell_type": "code",
   "execution_count": null,
   "id": "cdae9fec",
   "metadata": {},
   "outputs": [],
   "source": [
    "df3 = pd.DataFrame(astillero_naval)\n",
    "df3 = df3.T\n",
    "\n",
    "df3['Obra financiada por FONDEN'] = 'S/I'\n",
    "df3['Monto comprometido'] = 'S/I'\n",
    "\n",
    "df3 = df3[[0,1,2,3,4,5,6,7,8,9,10,11,'Obra financiada por FONDEN','Monto comprometido',12,13,14,15]]\n",
    "df3.columns = columnas"
   ]
  },
  {
   "cell_type": "code",
   "execution_count": null,
   "id": "86d0a486",
   "metadata": {},
   "outputs": [],
   "source": [
    "url4 = 'https://transparenciave.org/obrasinconclusas/obras_inconclusas/construccion-de-linea-2-del-metro-de-maracaibo/'\n",
    "metro_maracaibo = obtener_datos_obra(url4)"
   ]
  },
  {
   "cell_type": "code",
   "execution_count": null,
   "id": "db966821",
   "metadata": {},
   "outputs": [],
   "source": [
    "df4 = pd.DataFrame(metro_maracaibo)\n",
    "df4 = df4.T\n",
    "df4.columns = columnas"
   ]
  },
  {
   "cell_type": "code",
   "execution_count": null,
   "id": "62fb1229",
   "metadata": {},
   "outputs": [],
   "source": [
    "url5 = 'https://transparenciave.org/obrasinconclusas/obras_inconclusas/ferrocarril-puerto-cabello-barquisimeto-rehabilitacion/'\n",
    "ferrocarril_bqto_pto = obtener_datos_obra(url5)"
   ]
  },
  {
   "cell_type": "code",
   "execution_count": null,
   "id": "c57940ea",
   "metadata": {},
   "outputs": [],
   "source": [
    "df5 = pd.DataFrame(ferrocarril_bqto_pto)\n",
    "df5 = df5.T\n",
    "df5.columns = columnas"
   ]
  },
  {
   "cell_type": "code",
   "execution_count": null,
   "id": "9fafe1d2",
   "metadata": {},
   "outputs": [],
   "source": [
    "url6 = 'https://transparenciave.org/obrasinconclusas/obras_inconclusas/ferrocarril-centro-sur-tramo-chaguaramas-las-mercedes-del-llano-cabruta/'\n",
    "ferrocarril_cabruta = obtener_datos_obra(url6)"
   ]
  },
  {
   "cell_type": "code",
   "execution_count": null,
   "id": "7eb1b3a1",
   "metadata": {},
   "outputs": [],
   "source": [
    "df6 = pd.DataFrame(ferrocarril_cabruta)\n",
    "df6 = df6.T\n",
    "\n",
    "df6['Obra financiada por FONDEN'] = 'S/I'\n",
    "df6['Monto comprometido'] = 'S/I'\n",
    "\n",
    "df6 = df6[[0,1,2,3,4,5,6,7,8,9,10,11,'Obra financiada por FONDEN','Monto comprometido',12,13,14,15]]\n",
    "df6.columns = columnas"
   ]
  },
  {
   "cell_type": "code",
   "execution_count": null,
   "id": "bd6c2540",
   "metadata": {},
   "outputs": [],
   "source": [
    "url7 = 'https://transparenciave.org/obrasinconclusas/obras_inconclusas/ferrocarril-centro-sur-tramo-san-juan-de-los-morros-dos-caminos-calabozo-san-fernando-de-apure/'\n",
    "ferrocarril_apure = obtener_datos_obra(url7)"
   ]
  },
  {
   "cell_type": "code",
   "execution_count": null,
   "id": "0c39d23c",
   "metadata": {},
   "outputs": [],
   "source": [
    "df7 = pd.DataFrame(ferrocarril_apure)\n",
    "df7 = df7.T\n",
    "\n",
    "df7['Dirección'] = 'San Fernando de Apure'\n",
    "\n",
    "df7 = df7[[0,1,2,3,4,5,'Dirección',6,7,8,9,10,11,12,13,14,15,16]]\n",
    "df7.columns = columnas"
   ]
  },
  {
   "cell_type": "code",
   "execution_count": null,
   "id": "5fd44f8b",
   "metadata": {},
   "outputs": [],
   "source": [
    "url8 = 'https://transparenciave.org/obrasinconclusas/obras_inconclusas/ferrocarril-norte-llanero-emilio-arevalo-cedeno/'\n",
    "ferrocarril_norte_llanero = obtener_datos_obra(url8)"
   ]
  },
  {
   "cell_type": "code",
   "execution_count": null,
   "id": "2df6749d",
   "metadata": {},
   "outputs": [],
   "source": [
    "df8 = pd.DataFrame(ferrocarril_norte_llanero)\n",
    "df8 = df8.T\n",
    "\n",
    "df8['Obra financiada por FONDEN'] = 'S/I'\n",
    "df8['Monto comprometido'] = 'S/I'\n",
    "\n",
    "df8 = df8[[0,1,2,3,4,5,6,7,8,9,10,11,'Obra financiada por FONDEN','Monto comprometido',12,13,14,15]]\n",
    "df8.columns = columnas"
   ]
  },
  {
   "cell_type": "code",
   "execution_count": null,
   "id": "0585bd5b",
   "metadata": {},
   "outputs": [],
   "source": [
    "url9 = 'https://transparenciave.org/obrasinconclusas/obras_inconclusas/linea-2-metro-de-valencia/'\n",
    "metro_valencia = obtener_datos_obra(url9)"
   ]
  },
  {
   "cell_type": "code",
   "execution_count": null,
   "id": "1bff3f5e",
   "metadata": {},
   "outputs": [],
   "source": [
    "df9 = pd.DataFrame(metro_valencia)\n",
    "df9 = df9.T\n",
    "df9.columns = columnas"
   ]
  },
  {
   "cell_type": "code",
   "execution_count": null,
   "id": "82831903",
   "metadata": {},
   "outputs": [],
   "source": [
    "url10 = 'https://transparenciave.org/obrasinconclusas/obras_inconclusas/metro-caracas-guarenas-guatire-1/'\n",
    "metro_guarenas_guatire = obtener_datos_obra(url10)"
   ]
  },
  {
   "cell_type": "code",
   "execution_count": null,
   "id": "890c7916",
   "metadata": {},
   "outputs": [],
   "source": [
    "df10 = pd.DataFrame(metro_guarenas_guatire)\n",
    "df10 = df10.T\n",
    "df10.columns = columnas"
   ]
  },
  {
   "cell_type": "code",
   "execution_count": null,
   "id": "75f1132e",
   "metadata": {},
   "outputs": [],
   "source": [
    "url11 = 'https://transparenciave.org/obrasinconclusas/obras_inconclusas/metro-de-caracas-linea-5/'\n",
    "metro_caracas = obtener_datos_obra(url11)"
   ]
  },
  {
   "cell_type": "code",
   "execution_count": null,
   "id": "79c23b93",
   "metadata": {},
   "outputs": [],
   "source": [
    "df11 = pd.DataFrame(metro_caracas)\n",
    "df11 = df11.T\n",
    "df11['Monto comprometido'] = 'S/I'\n",
    "df11 = df11[[0,1,2,3,4,5,6,7,8,9,10,11,12,'Monto comprometido',13,14,15,16]]\n",
    "df11.columns = columnas"
   ]
  },
  {
   "cell_type": "code",
   "execution_count": null,
   "id": "37af595c",
   "metadata": {},
   "outputs": [],
   "source": [
    "url12 = 'https://transparenciave.org/obrasinconclusas/obras_inconclusas/metro-de-los-teques-linea-2/'\n",
    "metro_losteques = obtener_datos_obra(url12)"
   ]
  },
  {
   "cell_type": "code",
   "execution_count": null,
   "id": "eaa350b7",
   "metadata": {},
   "outputs": [],
   "source": [
    "df12 = pd.DataFrame(metro_losteques)\n",
    "df12 = df12.T\n",
    "df12.columns = columnas"
   ]
  },
  {
   "cell_type": "code",
   "execution_count": null,
   "id": "690e75a9",
   "metadata": {},
   "outputs": [],
   "source": [
    "url13 = 'https://transparenciave.org/obrasinconclusas/obras_inconclusas/metrocable-mariche-la-dolorita/'\n",
    "metrocable_dolorita = obtener_datos_obra(url13)"
   ]
  },
  {
   "cell_type": "code",
   "execution_count": null,
   "id": "8cf5ea31",
   "metadata": {},
   "outputs": [],
   "source": [
    "df13 = pd.DataFrame(metrocable_dolorita)\n",
    "df13 = df13.T\n",
    "df13.columns = columnas"
   ]
  },
  {
   "cell_type": "code",
   "execution_count": null,
   "id": "4e3ce4f1",
   "metadata": {},
   "outputs": [],
   "source": [
    "url14 = 'https://transparenciave.org/obrasinconclusas/obras_inconclusas/rehabilitacion-linea-1-metro-de-caracas/'\n",
    "metro_caracas_linea1 = obtener_datos_obra(url14)"
   ]
  },
  {
   "cell_type": "code",
   "execution_count": null,
   "id": "60eca56d",
   "metadata": {},
   "outputs": [],
   "source": [
    "df14 = pd.DataFrame(metro_caracas_linea1)\n",
    "df14 = df14.T\n",
    "df14.columns = columnas"
   ]
  },
  {
   "cell_type": "code",
   "execution_count": null,
   "id": "50408295",
   "metadata": {},
   "outputs": [],
   "source": [
    "url15 = 'https://transparenciave.org/obrasinconclusas/obras_inconclusas/sistema-bus-de-transito-rapido-btr-batalla-de-san-felix/'\n",
    "bus_bolivar = obtener_datos_obra(url15)"
   ]
  },
  {
   "cell_type": "code",
   "execution_count": null,
   "id": "8bc48baa",
   "metadata": {},
   "outputs": [],
   "source": [
    "df15 = pd.DataFrame(bus_bolivar)\n",
    "df15 = df15.T\n",
    "\n",
    "df15['Obra financiada por FONDEN'] = 'S/I'\n",
    "df15['Monto comprometido'] = 'S/I'\n",
    "\n",
    "df15 = df15[[0,1,2,3,4,5,6,7,8,9,10,11,'Obra financiada por FONDEN','Monto comprometido',12,13,14,15]]\n",
    "df15.columns = columnas"
   ]
  },
  {
   "cell_type": "code",
   "execution_count": null,
   "id": "ea0c9d4a",
   "metadata": {},
   "outputs": [],
   "source": [
    "url16 = 'https://transparenciave.org/obrasinconclusas/obras_inconclusas/sistema-de-transporte-masivo-transbarca-construccion-de-la-estacion-central-simon-bolivar-ecsb-nuevo-terminal-de-barquisimeto-construccion-canal-de-cirulacion-exclusiva-y-paradas-adquisicion/'\n",
    "transbarca = obtener_datos_obra(url16)"
   ]
  },
  {
   "cell_type": "code",
   "execution_count": null,
   "id": "10b1f8ec",
   "metadata": {},
   "outputs": [],
   "source": [
    "df16 = pd.DataFrame(transbarca)\n",
    "df16 = df16.T\n",
    "df16.columns = columnas\n",
    "df16"
   ]
  },
  {
   "cell_type": "markdown",
   "id": "64fdb5d0",
   "metadata": {},
   "source": [
    "### Procedemos a juntar todos los dataframes"
   ]
  },
  {
   "cell_type": "code",
   "execution_count": null,
   "id": "d2e1e5b5",
   "metadata": {},
   "outputs": [],
   "source": [
    "# Concatena los DataFrames en uno solo\n",
    "data_final = pd.concat([df,df2,df3,df4,df5,df6,df7,df8,df9,df10,df11,df12,df13,df14,df15,df16],ignore_index=True)"
   ]
  },
  {
   "cell_type": "markdown",
   "id": "f3a57872",
   "metadata": {},
   "source": [
    "### Sustituimos en la columna 'Estados' donde aparezca 'Área metropolitana de Caracas', por 'Distrito Capital' que es el verdadero nombre del estado"
   ]
  },
  {
   "cell_type": "code",
   "execution_count": null,
   "id": "b909034c",
   "metadata": {},
   "outputs": [],
   "source": [
    "data_final['Estado'] = data_final['Estado'].replace('Área Metropolitana de Caracas', 'Distrito Capital')"
   ]
  },
  {
   "cell_type": "markdown",
   "id": "e9bd8526",
   "metadata": {},
   "source": [
    "# Para conocer las coordenadas de cada una de las obras, hacemos uso de Geopy"
   ]
  },
  {
   "cell_type": "code",
   "execution_count": null,
   "id": "24275cbf",
   "metadata": {},
   "outputs": [],
   "source": [
    "#Asignamos como dirección el Municipio y Estado de cada obra para conocer sus coordenadas\n",
    "municipio_estado = data_final['Municipio'] + ', ' + data_final['Estado']\n",
    "lista_municipio_estado = municipio_estado.tolist()"
   ]
  },
  {
   "cell_type": "code",
   "execution_count": null,
   "id": "80776ef8",
   "metadata": {},
   "outputs": [],
   "source": [
    "latitudes = obtener_latitudes(lista_municipio_estado) #obtenemos la latitud de la obra"
   ]
  },
  {
   "cell_type": "code",
   "execution_count": null,
   "id": "b72d8cc7",
   "metadata": {},
   "outputs": [],
   "source": [
    "#longitudes = obtener_longitudes(lista_municipio_estado) #obtenemos la longitud de la obra"
   ]
  },
  {
   "cell_type": "code",
   "execution_count": null,
   "id": "8fd4faec",
   "metadata": {},
   "outputs": [],
   "source": [
    "data_final['Latitud'] = latitudes #agregamos una nueva columna con todos los valores de las latitudes\n",
    "data_final['Longitud'] = longitudes #agregamos una nueva columna con todos los valores de las longitudes"
   ]
  },
  {
   "cell_type": "markdown",
   "id": "a76e7dd0",
   "metadata": {},
   "source": [
    "### Observamos que en las columnas 'Latitud' y 'Longitud' tenemos algunos valores nulos, esto se debe a que las obras abarcan mas de un estado, es por ello que procedemos a asignarles las coordenadas de los estados principales donde inician las obras"
   ]
  },
  {
   "cell_type": "code",
   "execution_count": null,
   "id": "d2e47aa4",
   "metadata": {},
   "outputs": [],
   "source": [
    "data_final['Latitud'][4] = 10.47306\n",
    "data_final['Longitud'][4] = -68.0125\n",
    "\n",
    "data_final['Latitud'][6] = 7.88782\n",
    "data_final['Longitud'][6] = -67.47236\n",
    "\n",
    "data_final['Latitud'][7] = 9.4558800 \n",
    "data_final['Longitud'][7] = -64.8292800 \n",
    "\n",
    "data_final['Latitud'][9] = 10.47027\n",
    "data_final['Longitud'][9] = -66.61934\n",
    "\n",
    "data_final['Latitud'][12] = 10.46607\n",
    "data_final['Longitud'][12] = -66.76718"
   ]
  },
  {
   "cell_type": "markdown",
   "id": "05722d67",
   "metadata": {},
   "source": [
    "### Extraemos la parte numérica de la columna 'Valor total de la obra' para tener un dato de tipo entero"
   ]
  },
  {
   "cell_type": "code",
   "execution_count": 3,
   "id": "a5dd91ff",
   "metadata": {},
   "outputs": [],
   "source": [
    "# Aplicar la función a la columna 'Valor total de la obra'\n",
    "data_final['Valor total de la obra USD (millones)'] = data_final['Valor total de la obra USD (millones)'].apply(extract_numeric_value)\n",
    "\n",
    "data_final['Valor total de la obra USD (millones)'] = data_final['Valor total de la obra USD (millones)'].str.replace('.', '', regex=True).fillna('0').astype(int)\n",
    "\n",
    "#Dividimos para tener el total de millones en un número mas legible\n",
    "data_final['Valor total de la obra USD (millones)'] = (data_final['Valor total de la obra USD (millones)'] / 1000000).astype(int)"
   ]
  },
  {
   "cell_type": "markdown",
   "id": "65e6747c",
   "metadata": {},
   "source": [
    "### Limpiamos la columna 'Monto comprometido', extraemos la parte numérica, llenamos los valores nulos con '0', transformamos a un tipo de dato float"
   ]
  },
  {
   "cell_type": "code",
   "execution_count": null,
   "id": "78167856",
   "metadata": {},
   "outputs": [],
   "source": [
    "data_final['Monto comprometido USD (millones)'] = data_final['Monto comprometido USD (millones)'].apply(extract_numeric_value)"
   ]
  },
  {
   "cell_type": "code",
   "execution_count": null,
   "id": "b14c53cf",
   "metadata": {},
   "outputs": [],
   "source": [
    "data_final['Monto comprometido USD (millones)'] = data_final['Monto comprometido USD (millones)'].fillna('0')\n",
    "\n",
    "# Convertir la columna a cadena, eliminar los puntos y reemplazar las comas por puntos\n",
    "data_final['Monto comprometido USD (millones)'] = data_final['Monto comprometido USD (millones)'].astype(str)\n",
    "data_final['Monto comprometido USD (millones)'] = data_final['Monto comprometido USD (millones)'].str.replace('.', '').str.replace(',', '.')\n",
    "\n",
    "# Convertir la columna a tipo float\n",
    "data_final['Monto comprometido USD (millones)'] = pd.to_numeric(data_final['Monto comprometido USD (millones)'], errors='coerce')\n",
    "\n",
    "#Dividimos para tener el total de millones en un número más legible\n",
    "data_final['Monto comprometido USD (millones)'] = (data_final['Monto comprometido USD (millones)'] / 1000000).astype(int)"
   ]
  },
  {
   "cell_type": "markdown",
   "id": "edf7a697",
   "metadata": {},
   "source": [
    "### Cambiamos el tipo de dato de la columna 'Fecha estimada de inicio' por datetime y extraemos el año"
   ]
  },
  {
   "cell_type": "code",
   "execution_count": null,
   "id": "dfabc24c",
   "metadata": {},
   "outputs": [],
   "source": [
    "# Convertir la columna 'Fecha estimada de inicio' a datetime\n",
    "data_final['Fecha estimada de inicio'] = pd.to_datetime(data_final['Fecha estimada de inicio'], errors='coerce')\n",
    "data_final['Fecha estimada de inicio'] = data_final['Fecha estimada de inicio'].dt.year"
   ]
  },
  {
   "cell_type": "markdown",
   "id": "f811fae1",
   "metadata": {},
   "source": [
    "### Transformamos las columnas 'Ejecución física' y 'Ejecución financiera' en valores de tipo float, para ello llenamos los valores 'S/I' con 0 y extraemos la parte numérica "
   ]
  },
  {
   "cell_type": "code",
   "execution_count": null,
   "id": "a435cf12",
   "metadata": {},
   "outputs": [],
   "source": [
    "data_final['Ejecución física %'] = data_final['Ejecución física %'].replace('S/I', np.nan)\n",
    "data_final['Ejecución financiera %'] = data_final['Ejecución financiera %'].replace('S/I', np.nan)"
   ]
  },
  {
   "cell_type": "code",
   "execution_count": null,
   "id": "bd20c2d7",
   "metadata": {},
   "outputs": [],
   "source": [
    "data_final['Ejecución física %'] = data_final['Ejecución física %'].apply(extract_numeric_value)\n",
    "data_final['Ejecución física %'] = data_final['Ejecución física %'].str.replace(',', '.').replace({None: '0'})\n",
    "\n",
    "# Convertir la columna a tipo float\n",
    "data_final['Ejecución física %'] = data_final['Ejecución física %'].astype(float)"
   ]
  },
  {
   "cell_type": "code",
   "execution_count": null,
   "id": "2b742a65",
   "metadata": {},
   "outputs": [],
   "source": [
    "data_final['Ejecución financiera %'] = data_final['Ejecución financiera %'].apply(extract_numeric_value)\n",
    "data_final['Ejecución financiera %'] = data_final['Ejecución financiera %'].str.replace(',', '.').replace({None: '0'})\n",
    "\n",
    "# Convertir la columna a tipo float\n",
    "data_final['Ejecución financiera %'] = data_final['Ejecución financiera %'].astype(float)"
   ]
  },
  {
   "cell_type": "markdown",
   "id": "625fd8dd",
   "metadata": {},
   "source": [
    "### Añadimos una nueva columna para indicar cuál es el sector correspondiente a la obra"
   ]
  },
  {
   "cell_type": "code",
   "execution_count": null,
   "id": "d37e73a1",
   "metadata": {},
   "outputs": [],
   "source": [
    "data_final['Sector'] = 'Transporte'"
   ]
  },
  {
   "cell_type": "code",
   "execution_count": null,
   "id": "e985713d",
   "metadata": {
    "scrolled": true
   },
   "outputs": [],
   "source": [
    "#Reordenamos las columnas\n",
    "nuevo_orden = ['Sector','Obra','Status','Ejecución física %','Ejecución financiera %','Estado','Municipio','Dirección','Personas afectadas','Ente responsable','Funcionario responsable','Empresa contratista','Valor total de la obra USD (millones)','Obra financiada por FONDEN','Monto comprometido USD (millones)','Fecha estimada de inicio','Fecha real de inicio','Fecha culminación estimada de la obra','Fecha de paralización', 'Latitud', 'Longitud']\n",
    "data_final = data_final[nuevo_orden]\n",
    "data_final.head(20)"
   ]
  },
  {
   "cell_type": "markdown",
   "id": "d5226f24",
   "metadata": {},
   "source": [
    "### Exportamos nuestro dataframe "
   ]
  },
  {
   "cell_type": "code",
   "execution_count": null,
   "id": "db6cda11",
   "metadata": {},
   "outputs": [],
   "source": [
    "data_final.to_csv('obras_transporte.csv', index=False)"
   ]
  },
  {
   "cell_type": "code",
   "execution_count": null,
   "id": "ac3ae91a",
   "metadata": {},
   "outputs": [],
   "source": []
  }
 ],
 "metadata": {
  "kernelspec": {
   "display_name": "Python 3 (ipykernel)",
   "language": "python",
   "name": "python3"
  },
  "language_info": {
   "codemirror_mode": {
    "name": "ipython",
    "version": 3
   },
   "file_extension": ".py",
   "mimetype": "text/x-python",
   "name": "python",
   "nbconvert_exporter": "python",
   "pygments_lexer": "ipython3",
   "version": "3.11.4"
  }
 },
 "nbformat": 4,
 "nbformat_minor": 5
}
