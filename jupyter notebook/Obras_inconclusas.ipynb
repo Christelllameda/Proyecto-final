{
 "cells": [
  {
   "cell_type": "code",
   "execution_count": 5,
   "id": "2501acda",
   "metadata": {},
   "outputs": [],
   "source": [
    "from procesos import *"
   ]
  },
  {
   "cell_type": "markdown",
   "id": "0e4f32e3",
   "metadata": {},
   "source": [
    "### Procedemos a abrir todos nuestros archivos con los diferentes sectores de obras inconclusas"
   ]
  },
  {
   "cell_type": "code",
   "execution_count": 6,
   "id": "2a1b590d",
   "metadata": {},
   "outputs": [],
   "source": [
    "archivos = ['data/obras_transporte.csv', 'data/obras_vialidad.csv', 'data/obras_energia.csv', \n",
    "            'data/obras_agua.csv', 'data/obras_salud.csv', 'data/obras_productivo.csv', \n",
    "            'data/obras_saneamiento.csv', 'data/obras_hidrocarburos.csv']\n",
    "\n",
    "data = cargar_archivos_csv(archivos)"
   ]
  },
  {
   "cell_type": "markdown",
   "id": "117d678d",
   "metadata": {},
   "source": [
    "### Asignamos el nombre de las columnas"
   ]
  },
  {
   "cell_type": "code",
   "execution_count": 7,
   "id": "278a2e2b",
   "metadata": {},
   "outputs": [],
   "source": [
    "columnas = ['Sector','Obra','Status','Ejecución física %','Ejecución financiera %','Estado','Municipio','Dirección','Personas afectadas','Ente responsable','Funcionario responsable','Empresa contratista','Valor total de la obra USD','Obra financiada por FONDEN','Monto comprometido USD (millones)','Fecha estimada de inicio','Fecha real de inicio','Fecha culminación estimada de la obra','Fecha de paralización','Latitud','Longitud']"
   ]
  },
  {
   "cell_type": "markdown",
   "id": "3de791e9",
   "metadata": {},
   "source": [
    "### Renombramos las columnas"
   ]
  },
  {
   "cell_type": "code",
   "execution_count": 10,
   "id": "8c7932fb",
   "metadata": {},
   "outputs": [],
   "source": [
    "data.columns = columnas"
   ]
  },
  {
   "cell_type": "code",
   "execution_count": 12,
   "id": "323581ee",
   "metadata": {},
   "outputs": [],
   "source": [
    "data['Valor total de la obra USD'] = data['Valor total de la obra USD']*1000000"
   ]
  },
  {
   "cell_type": "markdown",
   "id": "184d6b74",
   "metadata": {},
   "source": [
    "### Exportamos nuestro archivo"
   ]
  },
  {
   "cell_type": "code",
   "execution_count": 83,
   "id": "2bfa61ed",
   "metadata": {},
   "outputs": [],
   "source": [
    "data.to_csv('obras_inconclusas.csv', index=False)"
   ]
  },
  {
   "cell_type": "code",
   "execution_count": 14,
   "id": "90534581",
   "metadata": {},
   "outputs": [
    {
     "data": {
      "text/plain": [
       "Fecha estimada de inicio\n",
       "2005.0    1.016300e+10\n",
       "2007.0    4.738511e+10\n",
       "2009.0    1.657501e+10\n",
       "2010.0    1.385600e+10\n",
       "2013.0    7.833900e+10\n",
       "Name: Valor total de la obra USD, dtype: float64"
      ]
     },
     "execution_count": 14,
     "metadata": {},
     "output_type": "execute_result"
    }
   ],
   "source": [
    "años = [2005, 2007, 2009, 2010, 2013]\n",
    "filtro_años = data[data['Fecha estimada de inicio'].isin(años)]\n",
    "\n",
    "# Sumar la columna 'PRECIO TRATAMIENTO ($)'\n",
    "filtro_años.groupby('Fecha estimada de inicio')['Valor total de la obra USD'].sum()"
   ]
  },
  {
   "cell_type": "code",
   "execution_count": 15,
   "id": "bcc7aa72",
   "metadata": {},
   "outputs": [
    {
     "data": {
      "text/plain": [
       "166318117788.0"
      ]
     },
     "execution_count": 15,
     "metadata": {},
     "output_type": "execute_result"
    }
   ],
   "source": [
    "filtro_años.groupby('Fecha estimada de inicio')['Valor total de la obra USD'].sum().sum()"
   ]
  },
  {
   "cell_type": "code",
   "execution_count": null,
   "id": "8056439d",
   "metadata": {},
   "outputs": [],
   "source": []
  }
 ],
 "metadata": {
  "kernelspec": {
   "display_name": "Python 3 (ipykernel)",
   "language": "python",
   "name": "python3"
  },
  "language_info": {
   "codemirror_mode": {
    "name": "ipython",
    "version": 3
   },
   "file_extension": ".py",
   "mimetype": "text/x-python",
   "name": "python",
   "nbconvert_exporter": "python",
   "pygments_lexer": "ipython3",
   "version": "3.11.4"
  }
 },
 "nbformat": 4,
 "nbformat_minor": 5
}
