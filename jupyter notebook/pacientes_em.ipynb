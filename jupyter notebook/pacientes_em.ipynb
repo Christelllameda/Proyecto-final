{
 "cells": [
  {
   "cell_type": "code",
   "execution_count": 90,
   "id": "d84825be",
   "metadata": {},
   "outputs": [],
   "source": [
    "import warnings\n",
    "warnings.filterwarnings('ignore')"
   ]
  },
  {
   "cell_type": "code",
   "execution_count": 124,
   "id": "1bc1802e",
   "metadata": {},
   "outputs": [],
   "source": [
    "import pandas as pd\n",
    "import numpy as np"
   ]
  },
  {
   "cell_type": "markdown",
   "id": "8e9afb9c",
   "metadata": {},
   "source": [
    "### Importamos y leemos nuestro archivo, vemos el nombre de las hojas"
   ]
  },
  {
   "cell_type": "code",
   "execution_count": 199,
   "id": "de0ebed6",
   "metadata": {},
   "outputs": [
    {
     "data": {
      "text/plain": [
       "['Diagnóstico Diferencial-Hoja3',\n",
       " 'FORMAS PRIMARIAS Hoja2',\n",
       " 'Datos por fármaco y mes',\n",
       " 'MIELOPATIAS',\n",
       " 'ENFERMEDAD DE DEVIC',\n",
       " 'List todos los pacientes-Hoja1',\n",
       " 'Hoja1']"
      ]
     },
     "execution_count": 199,
     "metadata": {},
     "output_type": "execute_result"
    }
   ],
   "source": [
    "data = pd.ExcelFile('data/BASE DATOS  JULIO - 2013 - ESCLEROSIS MULTIPLE V3.xlsx')\n",
    "\n",
    "data.sheet_names"
   ]
  },
  {
   "cell_type": "markdown",
   "id": "ab28644a",
   "metadata": {},
   "source": [
    "### La hoja que nos interesa es la de 'List todos los pacientes-Hoja1' y es la que asignaremos como dataframe a 'pacientes_em'"
   ]
  },
  {
   "cell_type": "code",
   "execution_count": 200,
   "id": "14e5e1a5",
   "metadata": {},
   "outputs": [
    {
     "data": {
      "text/html": [
       "<div>\n",
       "<style scoped>\n",
       "    .dataframe tbody tr th:only-of-type {\n",
       "        vertical-align: middle;\n",
       "    }\n",
       "\n",
       "    .dataframe tbody tr th {\n",
       "        vertical-align: top;\n",
       "    }\n",
       "\n",
       "    .dataframe thead th {\n",
       "        text-align: right;\n",
       "    }\n",
       "</style>\n",
       "<table border=\"1\" class=\"dataframe\">\n",
       "  <thead>\n",
       "    <tr style=\"text-align: right;\">\n",
       "      <th></th>\n",
       "      <th>Unnamed: 0</th>\n",
       "      <th>EDAD</th>\n",
       "      <th>SEXO</th>\n",
       "      <th>Unnamed: 3</th>\n",
       "      <th>TRATAMIENTO</th>\n",
       "      <th>Unnamed: 5</th>\n",
       "      <th>CENTRO PILOTO</th>\n",
       "      <th>INICIO TTO.</th>\n",
       "    </tr>\n",
       "  </thead>\n",
       "  <tbody>\n",
       "    <tr>\n",
       "      <th>0</th>\n",
       "      <td>NOMBRE DEL PACIENTE</td>\n",
       "      <td>EDAD</td>\n",
       "      <td>SEXO</td>\n",
       "      <td>CEDULA</td>\n",
       "      <td>TRATAMIENTO</td>\n",
       "      <td>AMPYRA</td>\n",
       "      <td>CIUDAD</td>\n",
       "      <td>INICIO TTO.</td>\n",
       "    </tr>\n",
       "    <tr>\n",
       "      <th>1</th>\n",
       "      <td>NaN</td>\n",
       "      <td>45</td>\n",
       "      <td>M</td>\n",
       "      <td>NaN</td>\n",
       "      <td>REBIF</td>\n",
       "      <td>NaN</td>\n",
       "      <td>CARACAS</td>\n",
       "      <td>2002-09-01 00:00:00</td>\n",
       "    </tr>\n",
       "    <tr>\n",
       "      <th>2</th>\n",
       "      <td>NaN</td>\n",
       "      <td>43</td>\n",
       "      <td>F</td>\n",
       "      <td>NaN</td>\n",
       "      <td>BETAFERON</td>\n",
       "      <td>NaN</td>\n",
       "      <td>PTO. LA CRUZ</td>\n",
       "      <td>2001-06-01 00:00:00</td>\n",
       "    </tr>\n",
       "    <tr>\n",
       "      <th>3</th>\n",
       "      <td>NaN</td>\n",
       "      <td>39</td>\n",
       "      <td>F</td>\n",
       "      <td>NaN</td>\n",
       "      <td>BETAFERON</td>\n",
       "      <td>NaN</td>\n",
       "      <td>GUACARA</td>\n",
       "      <td>2010-08-01 00:00:00</td>\n",
       "    </tr>\n",
       "    <tr>\n",
       "      <th>4</th>\n",
       "      <td>NaN</td>\n",
       "      <td>35</td>\n",
       "      <td>F</td>\n",
       "      <td>NaN</td>\n",
       "      <td>AVONEX</td>\n",
       "      <td>NaN</td>\n",
       "      <td>CARACAS</td>\n",
       "      <td>2004-07-01 00:00:00</td>\n",
       "    </tr>\n",
       "  </tbody>\n",
       "</table>\n",
       "</div>"
      ],
      "text/plain": [
       "            Unnamed: 0  EDAD  SEXO Unnamed: 3  TRATAMIENTO Unnamed: 5  \\\n",
       "0  NOMBRE DEL PACIENTE  EDAD  SEXO     CEDULA  TRATAMIENTO     AMPYRA   \n",
       "1                  NaN    45     M        NaN        REBIF        NaN   \n",
       "2                  NaN    43     F        NaN    BETAFERON        NaN   \n",
       "3                  NaN    39     F        NaN    BETAFERON        NaN   \n",
       "4                  NaN    35     F        NaN       AVONEX        NaN   \n",
       "\n",
       "  CENTRO PILOTO          INICIO TTO.  \n",
       "0       CIUDAD           INICIO TTO.  \n",
       "1       CARACAS  2002-09-01 00:00:00  \n",
       "2  PTO. LA CRUZ  2001-06-01 00:00:00  \n",
       "3       GUACARA  2010-08-01 00:00:00  \n",
       "4       CARACAS  2004-07-01 00:00:00  "
      ]
     },
     "execution_count": 200,
     "metadata": {},
     "output_type": "execute_result"
    }
   ],
   "source": [
    "pacientes_em = pd.read_excel('data/BASE DATOS  JULIO - 2013 - ESCLEROSIS MULTIPLE V3.xlsx', 5)\n",
    "\n",
    "pacientes_em.head()"
   ]
  },
  {
   "cell_type": "code",
   "execution_count": 201,
   "id": "6ab4dacd",
   "metadata": {},
   "outputs": [
    {
     "name": "stdout",
     "output_type": "stream",
     "text": [
      "<class 'pandas.core.frame.DataFrame'>\n",
      "RangeIndex: 2099 entries, 0 to 2098\n",
      "Data columns (total 8 columns):\n",
      " #   Column         Non-Null Count  Dtype \n",
      "---  ------         --------------  ----- \n",
      " 0   Unnamed: 0     1 non-null      object\n",
      " 1   EDAD           2085 non-null   object\n",
      " 2   SEXO           2058 non-null   object\n",
      " 3   Unnamed: 3     1 non-null      object\n",
      " 4   TRATAMIENTO    2095 non-null   object\n",
      " 5   Unnamed: 5     2 non-null      object\n",
      " 6   CENTRO PILOTO  2094 non-null   object\n",
      " 7   INICIO TTO.    2085 non-null   object\n",
      "dtypes: object(8)\n",
      "memory usage: 131.3+ KB\n"
     ]
    }
   ],
   "source": [
    "pacientes_em.info()"
   ]
  },
  {
   "cell_type": "markdown",
   "id": "6dbb4502",
   "metadata": {},
   "source": [
    "### Renombramos la columna 'CENTRO PILOTO' como 'CIUDAD'"
   ]
  },
  {
   "cell_type": "code",
   "execution_count": 202,
   "id": "1305a36d",
   "metadata": {},
   "outputs": [],
   "source": [
    "pacientes_em.rename(columns={'CENTRO PILOTO': 'CIUDAD'}, inplace=True)"
   ]
  },
  {
   "cell_type": "markdown",
   "id": "31fd8604",
   "metadata": {},
   "source": [
    "### Eliminamos las columnas 'Unnamed: 0','Unnamed: 3','Unnamed: 5' que no contienen información relevante"
   ]
  },
  {
   "cell_type": "code",
   "execution_count": 203,
   "id": "461a4b71",
   "metadata": {},
   "outputs": [],
   "source": [
    "pacientes_em = pacientes_em.drop(columns=['Unnamed: 0','Unnamed: 3','Unnamed: 5'])"
   ]
  },
  {
   "cell_type": "markdown",
   "id": "0d4a66eb",
   "metadata": {},
   "source": [
    "### Eliminamos la primera fila que es la repetición del nombre de las columnas"
   ]
  },
  {
   "cell_type": "code",
   "execution_count": 204,
   "id": "6d6f893c",
   "metadata": {},
   "outputs": [],
   "source": [
    "pacientes_em = pacientes_em.drop(pacientes_em.index[0])\n",
    "pacientes_em = pacientes_em.reset_index(drop=True)"
   ]
  },
  {
   "cell_type": "markdown",
   "id": "7b717219",
   "metadata": {},
   "source": [
    "### Chequeamos los valores nulos"
   ]
  },
  {
   "cell_type": "code",
   "execution_count": 205,
   "id": "662e372e",
   "metadata": {},
   "outputs": [
    {
     "data": {
      "text/plain": [
       "EDAD           14\n",
       "SEXO           41\n",
       "TRATAMIENTO     4\n",
       "CIUDAD          5\n",
       "INICIO TTO.    14\n",
       "dtype: int64"
      ]
     },
     "execution_count": 205,
     "metadata": {},
     "output_type": "execute_result"
    }
   ],
   "source": [
    "pacientes_em.isnull().sum()"
   ]
  },
  {
   "cell_type": "markdown",
   "id": "563e33e4",
   "metadata": {},
   "source": [
    "### Comenzaremos explorando y limpiando la columna 'TRATAMIENTO' ya que es la mas importante en mi análisis"
   ]
  },
  {
   "cell_type": "code",
   "execution_count": 206,
   "id": "ed86b47b",
   "metadata": {},
   "outputs": [
    {
     "data": {
      "text/plain": [
       "array(['REBIF', 'BETAFERON', 'AVONEX', 'TYSABRI', 'GILENYA', 'COPAXONE',\n",
       "       'NINGUNO', 'TECFIDERA', 'AUBAGIO', nan, 'AVONEX ', 'AZATIOPRINA',\n",
       "       'NO EM', 'LEMTRADA', 'OCREVUS'], dtype=object)"
      ]
     },
     "execution_count": 206,
     "metadata": {},
     "output_type": "execute_result"
    }
   ],
   "source": [
    "pacientes_em['TRATAMIENTO'].unique()"
   ]
  },
  {
   "cell_type": "markdown",
   "id": "921590c5",
   "metadata": {},
   "source": [
    "### Eliminamos las filas con valores nulos en la columna de tratamiento, ya que es un dato fundamental para mi estudio y no me sirve desconocer el tratamiento"
   ]
  },
  {
   "cell_type": "code",
   "execution_count": 207,
   "id": "855a5915",
   "metadata": {},
   "outputs": [
    {
     "data": {
      "text/plain": [
       "Int64Index([475, 1984, 1987, 2016], dtype='int64')"
      ]
     },
     "execution_count": 207,
     "metadata": {},
     "output_type": "execute_result"
    }
   ],
   "source": [
    "pacientes_em[pacientes_em['TRATAMIENTO'].isnull()].index"
   ]
  },
  {
   "cell_type": "code",
   "execution_count": 208,
   "id": "f2251e7b",
   "metadata": {},
   "outputs": [],
   "source": [
    "pacientes_em.drop(index = [475, 1984, 1987, 2016], inplace = True)"
   ]
  },
  {
   "cell_type": "markdown",
   "id": "e51fcc77",
   "metadata": {},
   "source": [
    "### Eliminamos los tratamientos 'TECFIDERA', 'AUBAGIO' y 'AZATIOPRINA' ya que no eran tratamientos que suminitrara la Seguridad Social en Venezuela"
   ]
  },
  {
   "cell_type": "code",
   "execution_count": 209,
   "id": "996911de",
   "metadata": {},
   "outputs": [],
   "source": [
    "valores_a_eliminar = ['TECFIDERA', 'AUBAGIO', 'AZATIOPRINA']\n",
    "pacientes_em = pacientes_em[~pacientes_em['TRATAMIENTO'].isin(valores_a_eliminar)]"
   ]
  },
  {
   "cell_type": "code",
   "execution_count": 210,
   "id": "9a730e6a",
   "metadata": {},
   "outputs": [
    {
     "data": {
      "text/plain": [
       "REBIF        679\n",
       "AVONEX       576\n",
       "BETAFERON    446\n",
       "COPAXONE     206\n",
       "TYSABRI      137\n",
       "GILENYA       23\n",
       "NINGUNO        9\n",
       "LEMTRADA       5\n",
       "OCREVUS        5\n",
       "AVONEX         3\n",
       "NO EM          1\n",
       "Name: TRATAMIENTO, dtype: int64"
      ]
     },
     "execution_count": 210,
     "metadata": {},
     "output_type": "execute_result"
    }
   ],
   "source": [
    "pacientes_em['TRATAMIENTO'].value_counts()"
   ]
  },
  {
   "cell_type": "markdown",
   "id": "da0a2592",
   "metadata": {},
   "source": [
    "### Además, eliminamos los pacientes que no tienen ningún tratamiento y el paciente que no tiene EM"
   ]
  },
  {
   "cell_type": "code",
   "execution_count": 211,
   "id": "8ec2ea1c",
   "metadata": {},
   "outputs": [],
   "source": [
    "valores_a_eliminar = ['NINGUNO', 'NO EM']\n",
    "pacientes_em = pacientes_em[~pacientes_em['TRATAMIENTO'].isin(valores_a_eliminar)]"
   ]
  },
  {
   "cell_type": "code",
   "execution_count": 212,
   "id": "5364b1f3",
   "metadata": {},
   "outputs": [],
   "source": [
    "pacientes_em['TRATAMIENTO'] = pacientes_em['TRATAMIENTO'].replace({'AVONEX ': 'AVONEX'})"
   ]
  },
  {
   "cell_type": "code",
   "execution_count": 213,
   "id": "125b392b",
   "metadata": {},
   "outputs": [
    {
     "data": {
      "text/plain": [
       "REBIF        679\n",
       "AVONEX       579\n",
       "BETAFERON    446\n",
       "COPAXONE     206\n",
       "TYSABRI      137\n",
       "GILENYA       23\n",
       "LEMTRADA       5\n",
       "OCREVUS        5\n",
       "Name: TRATAMIENTO, dtype: int64"
      ]
     },
     "execution_count": 213,
     "metadata": {},
     "output_type": "execute_result"
    }
   ],
   "source": [
    "pacientes_em['TRATAMIENTO'].value_counts()"
   ]
  },
  {
   "cell_type": "code",
   "execution_count": 214,
   "id": "b160457d",
   "metadata": {},
   "outputs": [
    {
     "data": {
      "text/plain": [
       "EDAD           13\n",
       "SEXO           37\n",
       "TRATAMIENTO     0\n",
       "CIUDAD          3\n",
       "INICIO TTO.    11\n",
       "dtype: int64"
      ]
     },
     "execution_count": 214,
     "metadata": {},
     "output_type": "execute_result"
    }
   ],
   "source": [
    "pacientes_em.isnull().sum()"
   ]
  },
  {
   "cell_type": "markdown",
   "id": "76f8eff1",
   "metadata": {},
   "source": [
    "### Vamos a explorar y revisar la columna 'EDAD'"
   ]
  },
  {
   "cell_type": "code",
   "execution_count": 215,
   "id": "94fbf0f3",
   "metadata": {},
   "outputs": [
    {
     "data": {
      "text/plain": [
       "array([45, 43, 39, 35, 46, 12, 8, 29, 21, 13, 26, 30, 53, 33, 42, 31, 48,\n",
       "       16, 25, 36, 34, 24, 51, 50, 23, 44, 54, 65, 28, 38, 14, 41, 17, 55,\n",
       "       19, 40, 32, 61, 52, 37, 7, 27, 56, 22, 5, 62, 66, 49, 9, 18, 58,\n",
       "       47, 72, 57, 71, 59, 6, 15, 63, 60, 64, 20, 73, 10, 67, 79, 4, 11,\n",
       "       69, nan], dtype=object)"
      ]
     },
     "execution_count": 215,
     "metadata": {},
     "output_type": "execute_result"
    }
   ],
   "source": [
    "pacientes_em['EDAD'].unique()"
   ]
  },
  {
   "cell_type": "code",
   "execution_count": 216,
   "id": "00b8cbfb",
   "metadata": {},
   "outputs": [],
   "source": [
    "# Convertir la columna 'EDAD' a tipo entero\n",
    "pacientes_em['EDAD'] = pacientes_em['EDAD'].replace('unknown', np.nan).astype(float).astype('Int64')"
   ]
  },
  {
   "cell_type": "markdown",
   "id": "d78ff459",
   "metadata": {},
   "source": [
    "### Continuamos explorando la columna 'CIUDAD', vemos que hay valores escritos de distintas formas para las mismas ciudades, por lo que limpiaremos esas datos"
   ]
  },
  {
   "cell_type": "code",
   "execution_count": 217,
   "id": "1d38aa5e",
   "metadata": {},
   "outputs": [
    {
     "data": {
      "text/plain": [
       "array(['CARACAS', 'PTO. LA CRUZ', 'GUACARA', 'VALENCIA', 'MARACAY',\n",
       "       'MARACAIBO', 'BARINAS', 'CORO', 'LA VICTORIA', 'BARQUISIMETO',\n",
       "       'PORLAMAR', 'SAN CRISTOBAL', 'PTO.ORDAZ', 'BARCELONA', 'CUMANA',\n",
       "       'SAN FELIPE', 'CIUDAD BOLIVAR', 'MERIDA', 'MATURIN', 'CHARALLAVE',\n",
       "       'CABIMAS', 'PTO. FIJO', 'SAN FERNANDO', 'TRUJILLO',\n",
       "       'OCUMARE DEL TUY', 'SAN JUAN', 'UPATA', 'EL TIGRE', 'LOS TEQUES',\n",
       "       'CARUPANO', 'ANACO', 'LA GUAIRA', 'VALERA', 'SAN JUAN ',\n",
       "       'ACARIGUA', 'SAN ANTONIO', 'PTO. ORDAZ', 'TUCUPITA', 'EL VIGIA',\n",
       "       'YAGUA', 'PTO- FIJO', 'SAN CARLOS', 'EL TIGRITO', 'GUARENAS',\n",
       "       'PUNTO FIJO', 'HDL', 'TURMERO', 'CANTAURA', 'GUANARE', 'PTO FIJO',\n",
       "       'VALLE DE LA PASCUA', 'CAGUA', 'LOS GUAYOS', 'CALABOZO',\n",
       "       'STA. TERESA DEL TUY', 'TINAQUILLO', nan, 'MARCAY', 'GUATIRE',\n",
       "       'PTO.LA CRUZ', 'SAN FELIX', 'PAMPATAR', 'CAICARA DEL ORINOCO',\n",
       "       'TINACO', 'SAN JUAN DE LOS MORROS'], dtype=object)"
      ]
     },
     "execution_count": 217,
     "metadata": {},
     "output_type": "execute_result"
    }
   ],
   "source": [
    "pacientes_em['CIUDAD'].unique()"
   ]
  },
  {
   "cell_type": "code",
   "execution_count": 218,
   "id": "6cb5f808",
   "metadata": {},
   "outputs": [],
   "source": [
    "pacientes_em['CIUDAD'] = pacientes_em['CIUDAD'].replace(\n",
    "                                        {'PTO. LA CRUZ': 'PUERTO LA CRUZ', 'PTO.LA CRUZ': 'PUERTO LA CRUZ',\n",
    "                                        'PTO FIJO': 'PUNTO FIJO','PTO. FIJO': 'PUNTO FIJO',\n",
    "                                        'PTO- FIJO': 'PUNTO FIJO', 'CIACARA DEL ORINOCO': 'CAUCARA DEL ORINOCO', \n",
    "                                        'PTO.ORDAZ':'PUERTO ORDAZ','PTO. ORDAZ' : 'PUERTO ORDAZ',\n",
    "                                        'SAN JUAN ': 'SAN JUAN', 'MARCAY':'MARACAY', 'STA. TERESA DEL TUY': 'SANTA TERESA DEL TUY'})"
   ]
  },
  {
   "cell_type": "code",
   "execution_count": 219,
   "id": "4ccd1cab",
   "metadata": {},
   "outputs": [
    {
     "data": {
      "text/plain": [
       "CARACAS                   907\n",
       "MARACAIBO                 256\n",
       "VALENCIA                  139\n",
       "BARQUISIMETO              111\n",
       "MARACAY                   106\n",
       "SAN CRISTOBAL              71\n",
       "PUERTO ORDAZ               57\n",
       "PUERTO LA CRUZ             54\n",
       "PUNTO FIJO                 47\n",
       "MERIDA                     40\n",
       "MATURIN                    37\n",
       "CIUDAD BOLIVAR             29\n",
       "PORLAMAR                   27\n",
       "LOS TEQUES                 23\n",
       "CORO                       17\n",
       "SAN JUAN                   14\n",
       "LA VICTORIA                13\n",
       "TRUJILLO                   12\n",
       "BARCELONA                  10\n",
       "BARINAS                    10\n",
       "ACARIGUA                    8\n",
       "LA GUAIRA                   8\n",
       "CUMANA                      7\n",
       "SAN FERNANDO                7\n",
       "EL TIGRE                    6\n",
       "SAN FELIPE                  6\n",
       "GUANARE                     4\n",
       "VALERA                      4\n",
       "GUARENAS                    3\n",
       "CAGUA                       3\n",
       "SAN CARLOS                  3\n",
       "EL VIGIA                    2\n",
       "CANTAURA                    2\n",
       "TURMERO                     2\n",
       "EL TIGRITO                  2\n",
       "SANTA TERESA DEL TUY        2\n",
       "TUCUPITA                    2\n",
       "ANACO                       2\n",
       "CARUPANO                    2\n",
       "GUACARA                     2\n",
       "OCUMARE DEL TUY             2\n",
       "CABIMAS                     2\n",
       "SAN ANTONIO                 2\n",
       "YAGUA                       1\n",
       "TINAQUILLO                  1\n",
       "TINACO                      1\n",
       "CAICARA DEL ORINOCO         1\n",
       "PAMPATAR                    1\n",
       "SAN FELIX                   1\n",
       "GUATIRE                     1\n",
       "LOS GUAYOS                  1\n",
       "CHARALLAVE                  1\n",
       "CALABOZO                    1\n",
       "VALLE DE LA PASCUA          1\n",
       "UPATA                       1\n",
       "HDL                         1\n",
       "SAN JUAN DE LOS MORROS      1\n",
       "Name: CIUDAD, dtype: int64"
      ]
     },
     "execution_count": 219,
     "metadata": {},
     "output_type": "execute_result"
    }
   ],
   "source": [
    "pacientes_em['CIUDAD'].value_counts()"
   ]
  },
  {
   "cell_type": "markdown",
   "id": "bc0c53b4",
   "metadata": {},
   "source": [
    "### Asignaremos 'Unknow' a los valores nulos que quedan, no los elimino porque contienen nombres de tratamientos que son fundamentales en mi análisis"
   ]
  },
  {
   "cell_type": "code",
   "execution_count": 220,
   "id": "728a85c2",
   "metadata": {},
   "outputs": [],
   "source": [
    "pacientes_em['SEXO'] = pacientes_em['SEXO'].fillna('unknown')"
   ]
  },
  {
   "cell_type": "code",
   "execution_count": 221,
   "id": "c167c258",
   "metadata": {},
   "outputs": [],
   "source": [
    "pacientes_em['CIUDAD'] = pacientes_em['CIUDAD'].fillna('unknown')"
   ]
  },
  {
   "cell_type": "code",
   "execution_count": 222,
   "id": "a55f8ce5",
   "metadata": {},
   "outputs": [],
   "source": [
    "pacientes_em['INICIO TTO.'] = pacientes_em['INICIO TTO.'].fillna('unknown')"
   ]
  },
  {
   "cell_type": "markdown",
   "id": "31fb280f",
   "metadata": {},
   "source": [
    "### Agregamos una columna nueva llamada 'PRECIO TRATAMIENTO USD' a la cual según el nombre del tratamiento, le asignaremos el costo del mismo"
   ]
  },
  {
   "cell_type": "code",
   "execution_count": 223,
   "id": "c067d887",
   "metadata": {},
   "outputs": [],
   "source": [
    "precios_tratamientos = {'AVONEX': 18000,\n",
    "                        'BETAFERON': 26000,\n",
    "                        'REBIF': 24000,\n",
    "                        'COPAXONE': 14000,\n",
    "                        'TYSABRI': 36000,\n",
    "                        'GILENYA': 32000,\n",
    "                        'LEMTRADA': 80000,\n",
    "                        'OCREVUS': 24000\n",
    "                        }"
   ]
  },
  {
   "cell_type": "code",
   "execution_count": 224,
   "id": "65b1e5ac",
   "metadata": {},
   "outputs": [],
   "source": [
    "pacientes_em['PRECIO TRATAMIENTO ($)'] = pacientes_em['TRATAMIENTO'].map(precios_tratamientos)"
   ]
  },
  {
   "cell_type": "code",
   "execution_count": 225,
   "id": "d45e349f",
   "metadata": {},
   "outputs": [
    {
     "data": {
      "text/html": [
       "<div>\n",
       "<style scoped>\n",
       "    .dataframe tbody tr th:only-of-type {\n",
       "        vertical-align: middle;\n",
       "    }\n",
       "\n",
       "    .dataframe tbody tr th {\n",
       "        vertical-align: top;\n",
       "    }\n",
       "\n",
       "    .dataframe thead th {\n",
       "        text-align: right;\n",
       "    }\n",
       "</style>\n",
       "<table border=\"1\" class=\"dataframe\">\n",
       "  <thead>\n",
       "    <tr style=\"text-align: right;\">\n",
       "      <th></th>\n",
       "      <th>EDAD</th>\n",
       "      <th>SEXO</th>\n",
       "      <th>TRATAMIENTO</th>\n",
       "      <th>CIUDAD</th>\n",
       "      <th>INICIO TTO.</th>\n",
       "      <th>PRECIO TRATAMIENTO ($)</th>\n",
       "    </tr>\n",
       "  </thead>\n",
       "  <tbody>\n",
       "    <tr>\n",
       "      <th>0</th>\n",
       "      <td>45</td>\n",
       "      <td>M</td>\n",
       "      <td>REBIF</td>\n",
       "      <td>CARACAS</td>\n",
       "      <td>2002-09-01 00:00:00</td>\n",
       "      <td>24000</td>\n",
       "    </tr>\n",
       "    <tr>\n",
       "      <th>1</th>\n",
       "      <td>43</td>\n",
       "      <td>F</td>\n",
       "      <td>BETAFERON</td>\n",
       "      <td>PUERTO LA CRUZ</td>\n",
       "      <td>2001-06-01 00:00:00</td>\n",
       "      <td>26000</td>\n",
       "    </tr>\n",
       "    <tr>\n",
       "      <th>2</th>\n",
       "      <td>39</td>\n",
       "      <td>F</td>\n",
       "      <td>BETAFERON</td>\n",
       "      <td>GUACARA</td>\n",
       "      <td>2010-08-01 00:00:00</td>\n",
       "      <td>26000</td>\n",
       "    </tr>\n",
       "    <tr>\n",
       "      <th>3</th>\n",
       "      <td>35</td>\n",
       "      <td>F</td>\n",
       "      <td>AVONEX</td>\n",
       "      <td>CARACAS</td>\n",
       "      <td>2004-07-01 00:00:00</td>\n",
       "      <td>18000</td>\n",
       "    </tr>\n",
       "    <tr>\n",
       "      <th>4</th>\n",
       "      <td>46</td>\n",
       "      <td>M</td>\n",
       "      <td>TYSABRI</td>\n",
       "      <td>VALENCIA</td>\n",
       "      <td>2007-04-01 00:00:00</td>\n",
       "      <td>36000</td>\n",
       "    </tr>\n",
       "  </tbody>\n",
       "</table>\n",
       "</div>"
      ],
      "text/plain": [
       "   EDAD SEXO TRATAMIENTO          CIUDAD          INICIO TTO.  \\\n",
       "0    45    M       REBIF         CARACAS  2002-09-01 00:00:00   \n",
       "1    43    F   BETAFERON  PUERTO LA CRUZ  2001-06-01 00:00:00   \n",
       "2    39    F   BETAFERON         GUACARA  2010-08-01 00:00:00   \n",
       "3    35    F      AVONEX         CARACAS  2004-07-01 00:00:00   \n",
       "4    46    M     TYSABRI        VALENCIA  2007-04-01 00:00:00   \n",
       "\n",
       "   PRECIO TRATAMIENTO ($)  \n",
       "0                   24000  \n",
       "1                   26000  \n",
       "2                   26000  \n",
       "3                   18000  \n",
       "4                   36000  "
      ]
     },
     "execution_count": 225,
     "metadata": {},
     "output_type": "execute_result"
    }
   ],
   "source": [
    "pacientes_em.head()"
   ]
  },
  {
   "cell_type": "code",
   "execution_count": 226,
   "id": "86a7b99c",
   "metadata": {},
   "outputs": [],
   "source": [
    "pacientes_em.reset_index(drop=True, inplace=True)"
   ]
  },
  {
   "cell_type": "code",
   "execution_count": 227,
   "id": "804bc968",
   "metadata": {
    "scrolled": true
   },
   "outputs": [
    {
     "data": {
      "text/plain": [
       "47386000"
      ]
     },
     "execution_count": 227,
     "metadata": {},
     "output_type": "execute_result"
    }
   ],
   "source": [
    "pacientes_em['PRECIO TRATAMIENTO ($)'].sum()"
   ]
  },
  {
   "cell_type": "markdown",
   "id": "8de526ae",
   "metadata": {},
   "source": [
    "### Agregamos la columna 'Estado' para complementar la información"
   ]
  },
  {
   "cell_type": "code",
   "execution_count": 228,
   "id": "f127c2f8",
   "metadata": {},
   "outputs": [],
   "source": [
    "estados = {'CARACAS': 'Estado Distrito Capital', 'PUERTO LA CRUZ': 'Estado Anzoátegui', 'GUACARA': 'Estado Carabobo',\n",
    "                      'VALENCIA': 'Estado Carabobo', 'MARACAY': 'Estado Aragua', 'MARACAIBO': 'Estado Zulia',\n",
    "                      'BARINAS': 'Estado Barinas', 'CORO': 'Estado Falcón', 'LA VICTORIA': 'Estado Aragua',\n",
    "                      'BARQUISIMETO': 'Estado Lara', 'PORLAMAR': 'Estado Nueva Esparta', 'SAN CRISTOBAL': 'Estado Táchira',\n",
    "                      'PUERTO ORDAZ': 'Estado Bolívar', 'BARCELONA': 'Estado Anzoátegui', 'CUMANA': 'Estado Sucre',\n",
    "                      'SAN FELIPE': 'Estado Yaracuy', 'CIUDAD BOLIVAR': 'Estado Bolívar', 'MERIDA': 'Estado Mérida',\n",
    "                      'MATURIN': 'Estado Monagas', 'CHARALLAVE': 'Estado Miranda', 'CABIMAS': 'Estado Zulia',\n",
    "                      'PUNTO FIJO': 'Estado Falcón', 'SAN FERNANDO': 'Estado Apure', 'TRUJILLO': 'Estado Trujillo',\n",
    "                      'OCUMARE DEL TUY': 'Estado Miranda', 'SAN JUAN': 'Estado Guárico', 'UPATA': 'Estado Bolívar',\n",
    "                      'EL TIGRE': 'Estado Anzoátegui', 'LOS TEQUES': 'Estado Miranda', 'CARUPANO': 'Estado Sucre',\n",
    "                      'ANACO': 'Estado Anzoátegui', 'LA GUAIRA': 'Estado La Guaira', 'VALERA': 'Estado Trujillo',\n",
    "                      'ACARIGUA': 'Estado Portuguesa', 'SAN ANTONIO': 'Estado Táchira', 'TUCUPITA': 'Estado Delta Amacuro',\n",
    "                      'EL VIGIA': 'Estado Mérida', 'YAGUA': 'Estado Carabobo', 'SAN CARLOS': 'Estado Cojedes',\n",
    "                      'EL TIGRITO': 'Estado Anzoátegui', 'GUARENAS': 'Estado Miranda', 'TURMERO': 'Estado Aragua',\n",
    "                      'CANTAURA': 'Estado Anzoátegui', 'GUANARE': 'Estado Portuguesa', 'VALLE DE LA PASCUA': 'Estado Guárico',\n",
    "                      'CAGUA': 'Estado Aragua', 'LOS GUAYOS':'Estado Carabobo', 'CALABOZO': 'Estado Guárico',\n",
    "                      'SANTA TERESA DEL TUY': 'Estado Miranda', 'TINAQUILLO': 'Estado Cojedes', 'GUATIRE': 'Estado Miranda',\n",
    "                      'SAN FELIX': 'Estado Bolívar', 'PAMPATAR': 'Estado Nueva Esparta', 'CAICARA DEL ORINOCO': 'Estado Bolívar',\n",
    "                      'TINACO': 'Estado Cojedes', 'SAN JUAN DE LOS MORROS': 'Estado Guárico'\n",
    "                      }"
   ]
  },
  {
   "cell_type": "code",
   "execution_count": 229,
   "id": "470ec462",
   "metadata": {},
   "outputs": [],
   "source": [
    "pacientes_em.insert(4, 'ESTADO', pacientes_em['CIUDAD'].map(estados))"
   ]
  },
  {
   "cell_type": "code",
   "execution_count": 230,
   "id": "d46804fd",
   "metadata": {},
   "outputs": [
    {
     "data": {
      "text/html": [
       "<div>\n",
       "<style scoped>\n",
       "    .dataframe tbody tr th:only-of-type {\n",
       "        vertical-align: middle;\n",
       "    }\n",
       "\n",
       "    .dataframe tbody tr th {\n",
       "        vertical-align: top;\n",
       "    }\n",
       "\n",
       "    .dataframe thead th {\n",
       "        text-align: right;\n",
       "    }\n",
       "</style>\n",
       "<table border=\"1\" class=\"dataframe\">\n",
       "  <thead>\n",
       "    <tr style=\"text-align: right;\">\n",
       "      <th></th>\n",
       "      <th>EDAD</th>\n",
       "      <th>SEXO</th>\n",
       "      <th>TRATAMIENTO</th>\n",
       "      <th>CIUDAD</th>\n",
       "      <th>ESTADO</th>\n",
       "      <th>INICIO TTO.</th>\n",
       "      <th>PRECIO TRATAMIENTO ($)</th>\n",
       "    </tr>\n",
       "  </thead>\n",
       "  <tbody>\n",
       "    <tr>\n",
       "      <th>0</th>\n",
       "      <td>45</td>\n",
       "      <td>M</td>\n",
       "      <td>REBIF</td>\n",
       "      <td>CARACAS</td>\n",
       "      <td>Estado Distrito Capital</td>\n",
       "      <td>2002-09-01 00:00:00</td>\n",
       "      <td>24000</td>\n",
       "    </tr>\n",
       "    <tr>\n",
       "      <th>1</th>\n",
       "      <td>43</td>\n",
       "      <td>F</td>\n",
       "      <td>BETAFERON</td>\n",
       "      <td>PUERTO LA CRUZ</td>\n",
       "      <td>Estado Anzoátegui</td>\n",
       "      <td>2001-06-01 00:00:00</td>\n",
       "      <td>26000</td>\n",
       "    </tr>\n",
       "    <tr>\n",
       "      <th>2</th>\n",
       "      <td>39</td>\n",
       "      <td>F</td>\n",
       "      <td>BETAFERON</td>\n",
       "      <td>GUACARA</td>\n",
       "      <td>Estado Carabobo</td>\n",
       "      <td>2010-08-01 00:00:00</td>\n",
       "      <td>26000</td>\n",
       "    </tr>\n",
       "    <tr>\n",
       "      <th>3</th>\n",
       "      <td>35</td>\n",
       "      <td>F</td>\n",
       "      <td>AVONEX</td>\n",
       "      <td>CARACAS</td>\n",
       "      <td>Estado Distrito Capital</td>\n",
       "      <td>2004-07-01 00:00:00</td>\n",
       "      <td>18000</td>\n",
       "    </tr>\n",
       "    <tr>\n",
       "      <th>4</th>\n",
       "      <td>46</td>\n",
       "      <td>M</td>\n",
       "      <td>TYSABRI</td>\n",
       "      <td>VALENCIA</td>\n",
       "      <td>Estado Carabobo</td>\n",
       "      <td>2007-04-01 00:00:00</td>\n",
       "      <td>36000</td>\n",
       "    </tr>\n",
       "    <tr>\n",
       "      <th>...</th>\n",
       "      <td>...</td>\n",
       "      <td>...</td>\n",
       "      <td>...</td>\n",
       "      <td>...</td>\n",
       "      <td>...</td>\n",
       "      <td>...</td>\n",
       "      <td>...</td>\n",
       "    </tr>\n",
       "    <tr>\n",
       "      <th>2075</th>\n",
       "      <td>&lt;NA&gt;</td>\n",
       "      <td>F</td>\n",
       "      <td>OCREVUS</td>\n",
       "      <td>LA GUAIRA</td>\n",
       "      <td>Estado La Guaira</td>\n",
       "      <td>2019-05-19 00:00:00</td>\n",
       "      <td>24000</td>\n",
       "    </tr>\n",
       "    <tr>\n",
       "      <th>2076</th>\n",
       "      <td>&lt;NA&gt;</td>\n",
       "      <td>M</td>\n",
       "      <td>OCREVUS</td>\n",
       "      <td>MARACAIBO</td>\n",
       "      <td>Estado Zulia</td>\n",
       "      <td>2019-02-01 00:00:00</td>\n",
       "      <td>24000</td>\n",
       "    </tr>\n",
       "    <tr>\n",
       "      <th>2077</th>\n",
       "      <td>&lt;NA&gt;</td>\n",
       "      <td>M</td>\n",
       "      <td>OCREVUS</td>\n",
       "      <td>CARACAS</td>\n",
       "      <td>Estado Distrito Capital</td>\n",
       "      <td>2020-03-20 00:00:00</td>\n",
       "      <td>24000</td>\n",
       "    </tr>\n",
       "    <tr>\n",
       "      <th>2078</th>\n",
       "      <td>&lt;NA&gt;</td>\n",
       "      <td>F</td>\n",
       "      <td>OCREVUS</td>\n",
       "      <td>CARACAS</td>\n",
       "      <td>Estado Distrito Capital</td>\n",
       "      <td>2021-06-21 00:00:00</td>\n",
       "      <td>24000</td>\n",
       "    </tr>\n",
       "    <tr>\n",
       "      <th>2079</th>\n",
       "      <td>&lt;NA&gt;</td>\n",
       "      <td>F</td>\n",
       "      <td>OCREVUS</td>\n",
       "      <td>CARACAS</td>\n",
       "      <td>Estado Distrito Capital</td>\n",
       "      <td>2022-08-22 00:00:00</td>\n",
       "      <td>24000</td>\n",
       "    </tr>\n",
       "  </tbody>\n",
       "</table>\n",
       "<p>2080 rows × 7 columns</p>\n",
       "</div>"
      ],
      "text/plain": [
       "      EDAD SEXO TRATAMIENTO          CIUDAD                   ESTADO  \\\n",
       "0       45    M       REBIF         CARACAS  Estado Distrito Capital   \n",
       "1       43    F   BETAFERON  PUERTO LA CRUZ        Estado Anzoátegui   \n",
       "2       39    F   BETAFERON         GUACARA          Estado Carabobo   \n",
       "3       35    F      AVONEX         CARACAS  Estado Distrito Capital   \n",
       "4       46    M     TYSABRI        VALENCIA          Estado Carabobo   \n",
       "...    ...  ...         ...             ...                      ...   \n",
       "2075  <NA>    F     OCREVUS       LA GUAIRA         Estado La Guaira   \n",
       "2076  <NA>    M     OCREVUS       MARACAIBO             Estado Zulia   \n",
       "2077  <NA>    M     OCREVUS         CARACAS  Estado Distrito Capital   \n",
       "2078  <NA>    F     OCREVUS         CARACAS  Estado Distrito Capital   \n",
       "2079  <NA>    F     OCREVUS         CARACAS  Estado Distrito Capital   \n",
       "\n",
       "              INICIO TTO.  PRECIO TRATAMIENTO ($)  \n",
       "0     2002-09-01 00:00:00                   24000  \n",
       "1     2001-06-01 00:00:00                   26000  \n",
       "2     2010-08-01 00:00:00                   26000  \n",
       "3     2004-07-01 00:00:00                   18000  \n",
       "4     2007-04-01 00:00:00                   36000  \n",
       "...                   ...                     ...  \n",
       "2075  2019-05-19 00:00:00                   24000  \n",
       "2076  2019-02-01 00:00:00                   24000  \n",
       "2077  2020-03-20 00:00:00                   24000  \n",
       "2078  2021-06-21 00:00:00                   24000  \n",
       "2079  2022-08-22 00:00:00                   24000  \n",
       "\n",
       "[2080 rows x 7 columns]"
      ]
     },
     "execution_count": 230,
     "metadata": {},
     "output_type": "execute_result"
    }
   ],
   "source": [
    "pacientes_em"
   ]
  },
  {
   "cell_type": "markdown",
   "id": "74d2c836",
   "metadata": {},
   "source": [
    "### Agregaremos una nueva columna llamada 'AÑO' que será útil para calcular el total de costo de los tratamientos médicos por año"
   ]
  },
  {
   "cell_type": "code",
   "execution_count": 236,
   "id": "e395552d",
   "metadata": {},
   "outputs": [],
   "source": [
    "#Aplicamos la función extraer_año para según la fecha de inicio de tratamiento, nos agregue el año en la nueva columna\n",
    "pacientes_em['AÑO'] = pacientes_em['INICIO TTO.'].apply(lambda x: extraer_año(x) )"
   ]
  },
  {
   "cell_type": "code",
   "execution_count": 237,
   "id": "3ce74eda",
   "metadata": {},
   "outputs": [
    {
     "data": {
      "text/html": [
       "<div>\n",
       "<style scoped>\n",
       "    .dataframe tbody tr th:only-of-type {\n",
       "        vertical-align: middle;\n",
       "    }\n",
       "\n",
       "    .dataframe tbody tr th {\n",
       "        vertical-align: top;\n",
       "    }\n",
       "\n",
       "    .dataframe thead th {\n",
       "        text-align: right;\n",
       "    }\n",
       "</style>\n",
       "<table border=\"1\" class=\"dataframe\">\n",
       "  <thead>\n",
       "    <tr style=\"text-align: right;\">\n",
       "      <th></th>\n",
       "      <th>EDAD</th>\n",
       "      <th>SEXO</th>\n",
       "      <th>TRATAMIENTO</th>\n",
       "      <th>CIUDAD</th>\n",
       "      <th>ESTADO</th>\n",
       "      <th>INICIO TTO.</th>\n",
       "      <th>PRECIO TRATAMIENTO ($)</th>\n",
       "      <th>AÑO</th>\n",
       "    </tr>\n",
       "  </thead>\n",
       "  <tbody>\n",
       "    <tr>\n",
       "      <th>0</th>\n",
       "      <td>45</td>\n",
       "      <td>M</td>\n",
       "      <td>REBIF</td>\n",
       "      <td>CARACAS</td>\n",
       "      <td>Estado Distrito Capital</td>\n",
       "      <td>2002-09-01 00:00:00</td>\n",
       "      <td>24000</td>\n",
       "      <td>2002</td>\n",
       "    </tr>\n",
       "    <tr>\n",
       "      <th>1</th>\n",
       "      <td>43</td>\n",
       "      <td>F</td>\n",
       "      <td>BETAFERON</td>\n",
       "      <td>PUERTO LA CRUZ</td>\n",
       "      <td>Estado Anzoátegui</td>\n",
       "      <td>2001-06-01 00:00:00</td>\n",
       "      <td>26000</td>\n",
       "      <td>2001</td>\n",
       "    </tr>\n",
       "    <tr>\n",
       "      <th>2</th>\n",
       "      <td>39</td>\n",
       "      <td>F</td>\n",
       "      <td>BETAFERON</td>\n",
       "      <td>GUACARA</td>\n",
       "      <td>Estado Carabobo</td>\n",
       "      <td>2010-08-01 00:00:00</td>\n",
       "      <td>26000</td>\n",
       "      <td>2010</td>\n",
       "    </tr>\n",
       "    <tr>\n",
       "      <th>3</th>\n",
       "      <td>35</td>\n",
       "      <td>F</td>\n",
       "      <td>AVONEX</td>\n",
       "      <td>CARACAS</td>\n",
       "      <td>Estado Distrito Capital</td>\n",
       "      <td>2004-07-01 00:00:00</td>\n",
       "      <td>18000</td>\n",
       "      <td>2004</td>\n",
       "    </tr>\n",
       "    <tr>\n",
       "      <th>4</th>\n",
       "      <td>46</td>\n",
       "      <td>M</td>\n",
       "      <td>TYSABRI</td>\n",
       "      <td>VALENCIA</td>\n",
       "      <td>Estado Carabobo</td>\n",
       "      <td>2007-04-01 00:00:00</td>\n",
       "      <td>36000</td>\n",
       "      <td>2007</td>\n",
       "    </tr>\n",
       "    <tr>\n",
       "      <th>...</th>\n",
       "      <td>...</td>\n",
       "      <td>...</td>\n",
       "      <td>...</td>\n",
       "      <td>...</td>\n",
       "      <td>...</td>\n",
       "      <td>...</td>\n",
       "      <td>...</td>\n",
       "      <td>...</td>\n",
       "    </tr>\n",
       "    <tr>\n",
       "      <th>2075</th>\n",
       "      <td>&lt;NA&gt;</td>\n",
       "      <td>F</td>\n",
       "      <td>OCREVUS</td>\n",
       "      <td>LA GUAIRA</td>\n",
       "      <td>Estado La Guaira</td>\n",
       "      <td>2019-05-19 00:00:00</td>\n",
       "      <td>24000</td>\n",
       "      <td>2019</td>\n",
       "    </tr>\n",
       "    <tr>\n",
       "      <th>2076</th>\n",
       "      <td>&lt;NA&gt;</td>\n",
       "      <td>M</td>\n",
       "      <td>OCREVUS</td>\n",
       "      <td>MARACAIBO</td>\n",
       "      <td>Estado Zulia</td>\n",
       "      <td>2019-02-01 00:00:00</td>\n",
       "      <td>24000</td>\n",
       "      <td>2019</td>\n",
       "    </tr>\n",
       "    <tr>\n",
       "      <th>2077</th>\n",
       "      <td>&lt;NA&gt;</td>\n",
       "      <td>M</td>\n",
       "      <td>OCREVUS</td>\n",
       "      <td>CARACAS</td>\n",
       "      <td>Estado Distrito Capital</td>\n",
       "      <td>2020-03-20 00:00:00</td>\n",
       "      <td>24000</td>\n",
       "      <td>2020</td>\n",
       "    </tr>\n",
       "    <tr>\n",
       "      <th>2078</th>\n",
       "      <td>&lt;NA&gt;</td>\n",
       "      <td>F</td>\n",
       "      <td>OCREVUS</td>\n",
       "      <td>CARACAS</td>\n",
       "      <td>Estado Distrito Capital</td>\n",
       "      <td>2021-06-21 00:00:00</td>\n",
       "      <td>24000</td>\n",
       "      <td>2021</td>\n",
       "    </tr>\n",
       "    <tr>\n",
       "      <th>2079</th>\n",
       "      <td>&lt;NA&gt;</td>\n",
       "      <td>F</td>\n",
       "      <td>OCREVUS</td>\n",
       "      <td>CARACAS</td>\n",
       "      <td>Estado Distrito Capital</td>\n",
       "      <td>2022-08-22 00:00:00</td>\n",
       "      <td>24000</td>\n",
       "      <td>2022</td>\n",
       "    </tr>\n",
       "  </tbody>\n",
       "</table>\n",
       "<p>2080 rows × 8 columns</p>\n",
       "</div>"
      ],
      "text/plain": [
       "      EDAD SEXO TRATAMIENTO          CIUDAD                   ESTADO  \\\n",
       "0       45    M       REBIF         CARACAS  Estado Distrito Capital   \n",
       "1       43    F   BETAFERON  PUERTO LA CRUZ        Estado Anzoátegui   \n",
       "2       39    F   BETAFERON         GUACARA          Estado Carabobo   \n",
       "3       35    F      AVONEX         CARACAS  Estado Distrito Capital   \n",
       "4       46    M     TYSABRI        VALENCIA          Estado Carabobo   \n",
       "...    ...  ...         ...             ...                      ...   \n",
       "2075  <NA>    F     OCREVUS       LA GUAIRA         Estado La Guaira   \n",
       "2076  <NA>    M     OCREVUS       MARACAIBO             Estado Zulia   \n",
       "2077  <NA>    M     OCREVUS         CARACAS  Estado Distrito Capital   \n",
       "2078  <NA>    F     OCREVUS         CARACAS  Estado Distrito Capital   \n",
       "2079  <NA>    F     OCREVUS         CARACAS  Estado Distrito Capital   \n",
       "\n",
       "              INICIO TTO.  PRECIO TRATAMIENTO ($)   AÑO  \n",
       "0     2002-09-01 00:00:00                   24000  2002  \n",
       "1     2001-06-01 00:00:00                   26000  2001  \n",
       "2     2010-08-01 00:00:00                   26000  2010  \n",
       "3     2004-07-01 00:00:00                   18000  2004  \n",
       "4     2007-04-01 00:00:00                   36000  2007  \n",
       "...                   ...                     ...   ...  \n",
       "2075  2019-05-19 00:00:00                   24000  2019  \n",
       "2076  2019-02-01 00:00:00                   24000  2019  \n",
       "2077  2020-03-20 00:00:00                   24000  2020  \n",
       "2078  2021-06-21 00:00:00                   24000  2021  \n",
       "2079  2022-08-22 00:00:00                   24000  2022  \n",
       "\n",
       "[2080 rows x 8 columns]"
      ]
     },
     "execution_count": 237,
     "metadata": {},
     "output_type": "execute_result"
    }
   ],
   "source": [
    "pacientes_em"
   ]
  },
  {
   "cell_type": "code",
   "execution_count": 240,
   "id": "5e8792b0",
   "metadata": {},
   "outputs": [
    {
     "data": {
      "text/plain": [
       "AÑO\n",
       "1900     436000\n",
       "1992      18000\n",
       "1993      26000\n",
       "1994      48000\n",
       "1995      74000\n",
       "1996     174000\n",
       "1997     106000\n",
       "1998      98000\n",
       "1999    1620000\n",
       "2000    3200000\n",
       "2001    3064000\n",
       "2002    2536000\n",
       "2003    2916000\n",
       "2004    3420000\n",
       "2005    4134000\n",
       "2006    3364000\n",
       "2007    4356000\n",
       "2008    4198000\n",
       "2009    3176000\n",
       "2010    3102000\n",
       "2011    2592000\n",
       "2012    2474000\n",
       "2013    1960000\n",
       "2017      80000\n",
       "2018      80000\n",
       "2019      48000\n",
       "2020      24000\n",
       "2021      24000\n",
       "2022      24000\n",
       "2023      14000\n",
       "Name: PRECIO TRATAMIENTO ($), dtype: int64"
      ]
     },
     "execution_count": 240,
     "metadata": {},
     "output_type": "execute_result"
    }
   ],
   "source": [
    "# Luego, agrupamos por año para saber el costo en tratamientos por año\n",
    "pacientes_em.groupby(pacientes_em['AÑO'])['PRECIO TRATAMIENTO ($)'].sum()"
   ]
  },
  {
   "cell_type": "code",
   "execution_count": 242,
   "id": "f89c2062",
   "metadata": {},
   "outputs": [
    {
     "data": {
      "text/plain": [
       "AÑO\n",
       "2005    4134000\n",
       "2007    4356000\n",
       "2009    3176000\n",
       "2010    3102000\n",
       "2013    1960000\n",
       "Name: PRECIO TRATAMIENTO ($), dtype: int64"
      ]
     },
     "execution_count": 242,
     "metadata": {},
     "output_type": "execute_result"
    }
   ],
   "source": [
    "años = [2005, 2007, 2009, 2010, 2013]\n",
    "filtro_años = pacientes_em[pacientes_em['AÑO'].isin(años)]\n",
    "\n",
    "# Sumar la columna 'PRECIO TRATAMIENTO ($)'\n",
    "filtro_años.groupby('AÑO')['PRECIO TRATAMIENTO ($)'].sum()"
   ]
  },
  {
   "cell_type": "code",
   "execution_count": 244,
   "id": "5c801a29",
   "metadata": {},
   "outputs": [
    {
     "data": {
      "text/plain": [
       "16728000"
      ]
     },
     "execution_count": 244,
     "metadata": {},
     "output_type": "execute_result"
    }
   ],
   "source": [
    "tratamiento = filtro_años.groupby('AÑO')['PRECIO TRATAMIENTO ($)'].sum().sum()\n",
    "construc = 78339000000\n",
    "tratamiento"
   ]
  },
  {
   "cell_type": "code",
   "execution_count": 245,
   "id": "0758075f",
   "metadata": {},
   "outputs": [],
   "source": [
    "tratamiento = 1960000"
   ]
  },
  {
   "cell_type": "code",
   "execution_count": 246,
   "id": "c7446c5a",
   "metadata": {},
   "outputs": [
    {
     "data": {
      "text/plain": [
       "0.0025018840718827036"
      ]
     },
     "execution_count": 246,
     "metadata": {},
     "output_type": "execute_result"
    }
   ],
   "source": [
    "total_pastaca = tratamiento+construc\n",
    "porcenta_tratamiento = tratamiento/total_pastaca*100\n",
    "porcenta_tratamiento"
   ]
  },
  {
   "cell_type": "markdown",
   "id": "73ca95d8",
   "metadata": {},
   "source": [
    "### Exportamos nuestro archivo"
   ]
  },
  {
   "cell_type": "code",
   "execution_count": 247,
   "id": "4a5934fe",
   "metadata": {},
   "outputs": [],
   "source": [
    "pacientes_em.to_excel('pacientes_em.xlsx', index=False)"
   ]
  },
  {
   "cell_type": "code",
   "execution_count": null,
   "id": "70138cc5",
   "metadata": {},
   "outputs": [],
   "source": []
  }
 ],
 "metadata": {
  "kernelspec": {
   "display_name": "Python 3 (ipykernel)",
   "language": "python",
   "name": "python3"
  },
  "language_info": {
   "codemirror_mode": {
    "name": "ipython",
    "version": 3
   },
   "file_extension": ".py",
   "mimetype": "text/x-python",
   "name": "python",
   "nbconvert_exporter": "python",
   "pygments_lexer": "ipython3",
   "version": "3.11.4"
  }
 },
 "nbformat": 4,
 "nbformat_minor": 5
}
