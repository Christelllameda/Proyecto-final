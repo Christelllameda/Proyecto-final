{
 "cells": [
  {
   "cell_type": "markdown",
   "id": "a9497d38",
   "metadata": {},
   "source": [
    "### Para comenzar con el scrapping, importamos las funciones que tenemos en el archivo 'procesos'"
   ]
  },
  {
   "cell_type": "code",
   "execution_count": 1,
   "id": "ea65fd7d",
   "metadata": {},
   "outputs": [],
   "source": [
    "from procesos import *"
   ]
  },
  {
   "cell_type": "code",
   "execution_count": 2,
   "id": "ff8098b7",
   "metadata": {},
   "outputs": [],
   "source": [
    "import warnings\n",
    "warnings.filterwarnings('ignore')\n",
    "import pandas as pd\n",
    "import numpy as np\n",
    "import re"
   ]
  },
  {
   "cell_type": "markdown",
   "id": "077b7748",
   "metadata": {},
   "source": [
    "### Establecemos el nombre de las columnas que tendrá el dataframe"
   ]
  },
  {
   "cell_type": "code",
   "execution_count": 3,
   "id": "c898307a",
   "metadata": {},
   "outputs": [],
   "source": [
    "columnas = ['Obra','Status','Ejecución física %','Ejecución financiera %','Estado','Municipio','Dirección','Personas afectadas','Ente responsable','Funcionario responsable','Empresa contratista','Valor total de la obra USD (millones)','Obra financiada por FONDEN','Monto comprometido USD (millones)','Fecha estimada de inicio','Fecha real de inicio','Fecha culminación estimada de la obra','Fecha de paralización']"
   ]
  },
  {
   "cell_type": "markdown",
   "id": "c145be42",
   "metadata": {},
   "source": [
    "### Llamamos a la función 'obtener_datos_obra' que realiza el proceso de web scraping (selenium), obtenemos los datos que queremos de la obra y lo convertimos en un dataframe"
   ]
  },
  {
   "cell_type": "code",
   "execution_count": 4,
   "id": "5183f04d",
   "metadata": {},
   "outputs": [],
   "source": [
    "url = 'https://transparenciave.org/obrasinconclusas/obras_inconclusas/planta-potabilizadora-el-brillante/'\n",
    "planta_el_brillante = obtener_datos_obra(url)"
   ]
  },
  {
   "cell_type": "code",
   "execution_count": 5,
   "id": "eddd515b",
   "metadata": {},
   "outputs": [],
   "source": [
    "df = pd.DataFrame([planta_el_brillante]) #convertimos los datos en un dataframe\n",
    "\n",
    "df = df.drop(df.columns[[2, 3]], axis=1) #eliminamos las columnas 2 y 3 que no tienen información\n",
    "\n",
    "df['Obra financiada por FONDEN'] = 'S/I' #agregamos las columnas que hacen falta para mantener el formato del DF\n",
    "df['Monto comprometido USD (millones)'] = 'S/I'\n",
    "\n",
    "#Reorganizamos el orden de las columnas\n",
    "df = df[[0,1,4,5,6,7,8,9,10,11,12,13,'Obra financiada por FONDEN','Monto comprometido USD (millones)',14,16,16,17]]\n",
    "df.columns = columnas"
   ]
  },
  {
   "cell_type": "markdown",
   "id": "32f07779",
   "metadata": {},
   "source": [
    "### Vamos a realizar el mismo procedimiento para las demás obras que tenemos en nuestra página web que estamos scrapeando"
   ]
  },
  {
   "cell_type": "code",
   "execution_count": 6,
   "id": "7cbb56fd",
   "metadata": {},
   "outputs": [],
   "source": [
    "url2 ='https://transparenciave.org/obrasinconclusas/obras_inconclusas/proyecto-tuy-iv-vialidad-tunel-de-desvio-estacion-de-bombeo-tuberia-construccion-de-la-presa-cuira-y-tendido-electrico/'\n",
    "proyecto_tuy_iv = obtener_datos_obra(url2)"
   ]
  },
  {
   "cell_type": "code",
   "execution_count": 7,
   "id": "7f70d016",
   "metadata": {},
   "outputs": [],
   "source": [
    "df2 = pd.DataFrame([proyecto_tuy_iv])\n",
    "df2.columns = columnas"
   ]
  },
  {
   "cell_type": "code",
   "execution_count": 8,
   "id": "1e7953af",
   "metadata": {},
   "outputs": [],
   "source": [
    "url3 = 'https://transparenciave.org/obrasinconclusas/obras_inconclusas/sistema-de-riego-rio-tocuyo-aregue-las-huertas-la-otra-banda/'\n",
    "sistema_riego = obtener_datos_obra(url3)"
   ]
  },
  {
   "cell_type": "code",
   "execution_count": 12,
   "id": "1b19f96c",
   "metadata": {},
   "outputs": [],
   "source": [
    "df3 = pd.DataFrame([sistema_riego])\n",
    "\n",
    "df3 = df3.drop(df3.columns[[2, 3]], axis=1) \n",
    "\n",
    "df3['Obra financiada por FONDEN'] = 'S/I' #agregamos las columnas que hacen falta para mantener el formato del DF\n",
    "df3['Monto comprometido USD (millones)'] = 'S/I'\n",
    "\n",
    "#Reorganizamos el orden de las columnas\n",
    "df3 = df3[[0,1,4,5,6,7,8,9,10,11,12,13,'Obra financiada por FONDEN','Monto comprometido USD (millones)',14,16,16,17]]\n",
    "df3.columns = columnas"
   ]
  },
  {
   "cell_type": "code",
   "execution_count": 17,
   "id": "911d3973",
   "metadata": {},
   "outputs": [],
   "source": [
    "url4 = 'https://transparenciave.org/obrasinconclusas/obras_inconclusas/sustitucion-de-tuberia-7-km-represa-los-quediches-de-48-pulgadas/'\n",
    "tuberia = obtener_datos_obra(url4)"
   ]
  },
  {
   "cell_type": "code",
   "execution_count": 21,
   "id": "6f0a6db4",
   "metadata": {},
   "outputs": [],
   "source": [
    "df4 = pd.DataFrame([tuberia])\n",
    "\n",
    "df4['Obra financiada por FONDEN'] = 'S/I' #agregamos las columnas que hacen falta para mantener el formato del DF\n",
    "df4['Monto comprometido USD (millones)'] = 'S/I'\n",
    "\n",
    "#Reorganizamos el orden de las columnas\n",
    "df4 = df4[[0,1,2,3,4,5,6,7,8,9,10,11,'Obra financiada por FONDEN','Monto comprometido USD (millones)',12,13,14,15]]\n",
    "df4.columns = columnas"
   ]
  },
  {
   "cell_type": "markdown",
   "id": "471ae63d",
   "metadata": {},
   "source": [
    "### Procedemos a juntar todos los dataframes"
   ]
  },
  {
   "cell_type": "code",
   "execution_count": 22,
   "id": "cc4e7bea",
   "metadata": {},
   "outputs": [],
   "source": [
    "# Concatena los DataFrames en uno solo\n",
    "data_agua = pd.concat([df,df2,df3,df4],ignore_index=True)"
   ]
  },
  {
   "cell_type": "markdown",
   "id": "fe3efd91",
   "metadata": {},
   "source": [
    "### Para conocer las coordenadas de cada una de las obras, hacemos uso de Geopy"
   ]
  },
  {
   "cell_type": "code",
   "execution_count": 24,
   "id": "352fde27",
   "metadata": {},
   "outputs": [],
   "source": [
    "#Asignamos como dirección el Municipio y Estado de cada obra para conocer sus coordenadas\n",
    "municipio_estado = data_agua['Municipio'] + ', ' + data_agua['Estado']\n",
    "lista_municipio_estado = municipio_estado.tolist()"
   ]
  },
  {
   "cell_type": "code",
   "execution_count": 25,
   "id": "3227255f",
   "metadata": {},
   "outputs": [],
   "source": [
    "latitudes = obtener_latitudes(lista_municipio_estado) #obtenemos la latitud de la obra"
   ]
  },
  {
   "cell_type": "code",
   "execution_count": 26,
   "id": "32163937",
   "metadata": {},
   "outputs": [],
   "source": [
    "longitudes = obtener_longitudes(lista_municipio_estado) #obtenemos la longitud de la obra"
   ]
  },
  {
   "cell_type": "code",
   "execution_count": 27,
   "id": "3854e431",
   "metadata": {},
   "outputs": [],
   "source": [
    "data_agua['Latitud'] = latitudes #agregamos una nueva columna con todos los valores de las latitudes\n",
    "data_agua['Longitud'] = longitudes #agregamos una nueva columna con todos los valores de las longitudes"
   ]
  },
  {
   "cell_type": "markdown",
   "id": "a1141b30",
   "metadata": {},
   "source": [
    "### Extraemos la parte numérica de la columna 'Valor total de la obra' para tener un dato de tipo entero"
   ]
  },
  {
   "cell_type": "code",
   "execution_count": 33,
   "id": "59dad130",
   "metadata": {},
   "outputs": [],
   "source": [
    "# Aplicar la función a la columna 'Valor total de la obra'\n",
    "data_agua['Valor total de la obra USD (millones)'] = data_agua['Valor total de la obra USD (millones)'].apply(extract_numeric_value)\n",
    "\n",
    "data_agua['Valor total de la obra USD (millones)'] = data_agua['Valor total de la obra USD (millones)'].str.replace('.', '', regex=True).fillna('0').astype(int)\n",
    "\n",
    "#Dividimos para tener el total de millones en un número mas legible\n",
    "data_agua['Valor total de la obra USD (millones)'] = (data_agua['Valor total de la obra USD (millones)'] / 1000000).astype(int)"
   ]
  },
  {
   "cell_type": "markdown",
   "id": "40397ac0",
   "metadata": {},
   "source": [
    "### Limpiamos la columna 'Monto comprometido', extraemos la parte numérica, llenamos los valores nulos con '0', transformamos a un tipo de dato float"
   ]
  },
  {
   "cell_type": "code",
   "execution_count": 35,
   "id": "2e4a6a2c",
   "metadata": {},
   "outputs": [],
   "source": [
    "data_agua['Monto comprometido USD (millones)'] = data_agua['Monto comprometido USD (millones)'].apply(extract_numeric_value)\n",
    "data_agua['Monto comprometido USD (millones)'] = data_agua['Monto comprometido USD (millones)'].fillna('0')\n",
    "\n",
    "# Convertir la columna a cadena, eliminar los puntos y reemplazar las comas por puntos\n",
    "data_agua['Monto comprometido USD (millones)'] = data_agua['Monto comprometido USD (millones)'].astype(str)\n",
    "data_agua['Monto comprometido USD (millones)'] = data_agua['Monto comprometido USD (millones)'].str.replace('.', '').str.replace(',', '.')\n",
    "\n",
    "# Convertir la columna a tipo float\n",
    "data_agua['Monto comprometido USD (millones)'] = pd.to_numeric(data_agua['Monto comprometido USD (millones)'], errors='coerce')\n",
    "\n",
    "#Dividimos para tener el total de millones en un número más legible\n",
    "data_agua['Monto comprometido USD (millones)'] = (data_agua['Monto comprometido USD (millones)'] / 1000000).astype(int)"
   ]
  },
  {
   "cell_type": "markdown",
   "id": "c7be11e3",
   "metadata": {},
   "source": [
    "### Cambiamos el tipo de dato de la columna 'Fecha estimada de inicio' por datetime y extraemos el año"
   ]
  },
  {
   "cell_type": "code",
   "execution_count": 36,
   "id": "82ed9724",
   "metadata": {},
   "outputs": [],
   "source": [
    "# Convertir la columna 'Fecha estimada de inicio' a datetime\n",
    "data_agua['Fecha estimada de inicio'] = pd.to_datetime(data_agua['Fecha estimada de inicio'], errors='coerce')\n",
    "data_agua['Fecha estimada de inicio'] = data_agua['Fecha estimada de inicio'].dt.year"
   ]
  },
  {
   "cell_type": "markdown",
   "id": "e5e85b30",
   "metadata": {},
   "source": [
    "### Transformamos las columnas 'Ejecución física' y 'Ejecución financiera' en valores de tipo float, para ello llenamos los valores 'S/I' con 0 y extraemos la parte numérica"
   ]
  },
  {
   "cell_type": "code",
   "execution_count": 37,
   "id": "ecc26076",
   "metadata": {},
   "outputs": [],
   "source": [
    "data_agua['Ejecución física %'] = data_agua['Ejecución física %'].apply(extract_numeric_value)\n",
    "data_agua['Ejecución física %'] = data_agua['Ejecución física %'].str.replace(',', '.').replace({None: '0'})\n",
    "\n",
    "# Convertir la columna a tipo float\n",
    "data_agua['Ejecución física %'] = data_agua['Ejecución física %'].astype(float)"
   ]
  },
  {
   "cell_type": "code",
   "execution_count": 39,
   "id": "b66d8f6d",
   "metadata": {},
   "outputs": [],
   "source": [
    "data_agua['Ejecución financiera %'] = data_agua['Ejecución financiera %'].apply(extract_numeric_value)\n",
    "data_agua['Ejecución financiera %'] = data_agua['Ejecución financiera %'].str.replace(',', '.').replace({None: '0'})\n",
    "\n",
    "# Convertir la columna a tipo float\n",
    "data_agua['Ejecución financiera %'] = data_agua['Ejecución financiera %'].astype(float)"
   ]
  },
  {
   "cell_type": "markdown",
   "id": "98461004",
   "metadata": {},
   "source": [
    "### Añadimos una nueva columna para indicar cuál es el sector correspondiente a la obra"
   ]
  },
  {
   "cell_type": "code",
   "execution_count": 40,
   "id": "3dfe07a7",
   "metadata": {},
   "outputs": [],
   "source": [
    "data_agua['Sector'] = 'Agua'"
   ]
  },
  {
   "cell_type": "code",
   "execution_count": 41,
   "id": "eb88924c",
   "metadata": {},
   "outputs": [],
   "source": [
    "#Reordenamos las columnas\n",
    "nuevo_orden = ['Sector','Obra','Status','Ejecución física %','Ejecución financiera %','Estado','Municipio','Dirección','Personas afectadas','Ente responsable','Funcionario responsable','Empresa contratista','Valor total de la obra USD (millones)','Obra financiada por FONDEN','Monto comprometido USD (millones)','Fecha estimada de inicio','Fecha real de inicio','Fecha culminación estimada de la obra','Fecha de paralización', 'Latitud', 'Longitud']\n",
    "data_agua = data_agua[nuevo_orden]"
   ]
  },
  {
   "cell_type": "code",
   "execution_count": 42,
   "id": "0d1022f5",
   "metadata": {},
   "outputs": [
    {
     "data": {
      "text/html": [
       "<div>\n",
       "<style scoped>\n",
       "    .dataframe tbody tr th:only-of-type {\n",
       "        vertical-align: middle;\n",
       "    }\n",
       "\n",
       "    .dataframe tbody tr th {\n",
       "        vertical-align: top;\n",
       "    }\n",
       "\n",
       "    .dataframe thead th {\n",
       "        text-align: right;\n",
       "    }\n",
       "</style>\n",
       "<table border=\"1\" class=\"dataframe\">\n",
       "  <thead>\n",
       "    <tr style=\"text-align: right;\">\n",
       "      <th></th>\n",
       "      <th>Sector</th>\n",
       "      <th>Obra</th>\n",
       "      <th>Status</th>\n",
       "      <th>Ejecución física %</th>\n",
       "      <th>Ejecución financiera %</th>\n",
       "      <th>Estado</th>\n",
       "      <th>Municipio</th>\n",
       "      <th>Dirección</th>\n",
       "      <th>Personas afectadas</th>\n",
       "      <th>Ente responsable</th>\n",
       "      <th>...</th>\n",
       "      <th>Empresa contratista</th>\n",
       "      <th>Valor total de la obra USD (millones)</th>\n",
       "      <th>Obra financiada por FONDEN</th>\n",
       "      <th>Monto comprometido USD (millones)</th>\n",
       "      <th>Fecha estimada de inicio</th>\n",
       "      <th>Fecha real de inicio</th>\n",
       "      <th>Fecha culminación estimada de la obra</th>\n",
       "      <th>Fecha de paralización</th>\n",
       "      <th>Latitud</th>\n",
       "      <th>Longitud</th>\n",
       "    </tr>\n",
       "  </thead>\n",
       "  <tbody>\n",
       "    <tr>\n",
       "      <th>0</th>\n",
       "      <td>Agua</td>\n",
       "      <td>PLANTA POTABILIZADORA EL BRILLANTE</td>\n",
       "      <td>Paralizada</td>\n",
       "      <td>78.0</td>\n",
       "      <td>0.0</td>\n",
       "      <td>Estado Zulia</td>\n",
       "      <td>Guajira</td>\n",
       "      <td>Sector Guasare</td>\n",
       "      <td>Entre 5.001 y 100.000</td>\n",
       "      <td>Vicepresidencia Sectorial de Obras Públicas y ...</td>\n",
       "      <td>...</td>\n",
       "      <td>S/I</td>\n",
       "      <td>180</td>\n",
       "      <td>S/I</td>\n",
       "      <td>0</td>\n",
       "      <td>2016.0</td>\n",
       "      <td>Segundo trimestre del año 2016</td>\n",
       "      <td>Segundo trimestre del año 2016</td>\n",
       "      <td>2017</td>\n",
       "      <td>10.692780</td>\n",
       "      <td>-71.634994</td>\n",
       "    </tr>\n",
       "    <tr>\n",
       "      <th>1</th>\n",
       "      <td>Agua</td>\n",
       "      <td>PROYECTO TUY IV (VIALIDAD, TÚNEL DE DESVIO, ES...</td>\n",
       "      <td>Paralizada</td>\n",
       "      <td>67.0</td>\n",
       "      <td>0.0</td>\n",
       "      <td>Estado Miranda</td>\n",
       "      <td>Acevedo</td>\n",
       "      <td>Pueblo de Panaquire</td>\n",
       "      <td>Más de 1.000.001</td>\n",
       "      <td>Hidrológica de la Región Capital C.A (HIDROCAP...</td>\n",
       "      <td>...</td>\n",
       "      <td>Camargo Correa</td>\n",
       "      <td>1016</td>\n",
       "      <td>Si</td>\n",
       "      <td>0</td>\n",
       "      <td>2009.0</td>\n",
       "      <td>S/I</td>\n",
       "      <td>2017</td>\n",
       "      <td>S/I</td>\n",
       "      <td>10.408194</td>\n",
       "      <td>-66.294991</td>\n",
       "    </tr>\n",
       "    <tr>\n",
       "      <th>2</th>\n",
       "      <td>Agua</td>\n",
       "      <td>SISTEMA DE RIEGO RÍO TOCUYO, AREGUE, LAS HUERT...</td>\n",
       "      <td>Paralizada con daños en su infraestructura</td>\n",
       "      <td>0.0</td>\n",
       "      <td>50.0</td>\n",
       "      <td>Estado Lara</td>\n",
       "      <td>Torres</td>\n",
       "      <td>Parroquia Camacaro y Chiquinquirá (Aregue), La...</td>\n",
       "      <td>Entre 0-5.000</td>\n",
       "      <td>HIDROLARA</td>\n",
       "      <td>...</td>\n",
       "      <td>Meolca C.A.</td>\n",
       "      <td>355</td>\n",
       "      <td>S/I</td>\n",
       "      <td>0</td>\n",
       "      <td>2002.0</td>\n",
       "      <td>S/I</td>\n",
       "      <td>S/I</td>\n",
       "      <td>2006-2007</td>\n",
       "      <td>10.189435</td>\n",
       "      <td>-69.893117</td>\n",
       "    </tr>\n",
       "    <tr>\n",
       "      <th>3</th>\n",
       "      <td>Agua</td>\n",
       "      <td>SUSTITUCIÓN DE TUBERÍA 7 KM REPRESA LOS QUEDIC...</td>\n",
       "      <td>Operativa con daños en su infraestructura</td>\n",
       "      <td>92.0</td>\n",
       "      <td>0.0</td>\n",
       "      <td>Estado Lara</td>\n",
       "      <td>Torres</td>\n",
       "      <td>Caserío Burere</td>\n",
       "      <td>Entre 100.001 y 1.000.000</td>\n",
       "      <td>Empresa Noroccidental de Mantenimiento y Obras...</td>\n",
       "      <td>...</td>\n",
       "      <td>S/I</td>\n",
       "      <td>13</td>\n",
       "      <td>S/I</td>\n",
       "      <td>0</td>\n",
       "      <td>NaN</td>\n",
       "      <td>Diciembre 2014</td>\n",
       "      <td>2015</td>\n",
       "      <td>2014 / Reinicia 2015</td>\n",
       "      <td>10.189435</td>\n",
       "      <td>-69.893117</td>\n",
       "    </tr>\n",
       "  </tbody>\n",
       "</table>\n",
       "<p>4 rows × 21 columns</p>\n",
       "</div>"
      ],
      "text/plain": [
       "  Sector                                               Obra  \\\n",
       "0   Agua                 PLANTA POTABILIZADORA EL BRILLANTE   \n",
       "1   Agua  PROYECTO TUY IV (VIALIDAD, TÚNEL DE DESVIO, ES...   \n",
       "2   Agua  SISTEMA DE RIEGO RÍO TOCUYO, AREGUE, LAS HUERT...   \n",
       "3   Agua  SUSTITUCIÓN DE TUBERÍA 7 KM REPRESA LOS QUEDIC...   \n",
       "\n",
       "                                       Status  Ejecución física %  \\\n",
       "0                                  Paralizada                78.0   \n",
       "1                                  Paralizada                67.0   \n",
       "2  Paralizada con daños en su infraestructura                 0.0   \n",
       "3   Operativa con daños en su infraestructura                92.0   \n",
       "\n",
       "   Ejecución financiera %          Estado Municipio  \\\n",
       "0                     0.0    Estado Zulia   Guajira   \n",
       "1                     0.0  Estado Miranda   Acevedo   \n",
       "2                    50.0     Estado Lara    Torres   \n",
       "3                     0.0     Estado Lara    Torres   \n",
       "\n",
       "                                           Dirección  \\\n",
       "0                                     Sector Guasare   \n",
       "1                                Pueblo de Panaquire   \n",
       "2  Parroquia Camacaro y Chiquinquirá (Aregue), La...   \n",
       "3                                     Caserío Burere   \n",
       "\n",
       "          Personas afectadas  \\\n",
       "0      Entre 5.001 y 100.000   \n",
       "1           Más de 1.000.001   \n",
       "2              Entre 0-5.000   \n",
       "3  Entre 100.001 y 1.000.000   \n",
       "\n",
       "                                    Ente responsable  ... Empresa contratista  \\\n",
       "0  Vicepresidencia Sectorial de Obras Públicas y ...  ...                 S/I   \n",
       "1  Hidrológica de la Región Capital C.A (HIDROCAP...  ...      Camargo Correa   \n",
       "2                                          HIDROLARA  ...         Meolca C.A.   \n",
       "3  Empresa Noroccidental de Mantenimiento y Obras...  ...                 S/I   \n",
       "\n",
       "  Valor total de la obra USD (millones)  Obra financiada por FONDEN  \\\n",
       "0                                   180                         S/I   \n",
       "1                                  1016                          Si   \n",
       "2                                   355                         S/I   \n",
       "3                                    13                         S/I   \n",
       "\n",
       "  Monto comprometido USD (millones)  Fecha estimada de inicio  \\\n",
       "0                                 0                    2016.0   \n",
       "1                                 0                    2009.0   \n",
       "2                                 0                    2002.0   \n",
       "3                                 0                       NaN   \n",
       "\n",
       "             Fecha real de inicio Fecha culminación estimada de la obra  \\\n",
       "0  Segundo trimestre del año 2016        Segundo trimestre del año 2016   \n",
       "1                             S/I                                  2017   \n",
       "2                             S/I                                   S/I   \n",
       "3                  Diciembre 2014                                  2015   \n",
       "\n",
       "  Fecha de paralización    Latitud   Longitud  \n",
       "0                  2017  10.692780 -71.634994  \n",
       "1                   S/I  10.408194 -66.294991  \n",
       "2             2006-2007  10.189435 -69.893117  \n",
       "3  2014 / Reinicia 2015  10.189435 -69.893117  \n",
       "\n",
       "[4 rows x 21 columns]"
      ]
     },
     "execution_count": 42,
     "metadata": {},
     "output_type": "execute_result"
    }
   ],
   "source": [
    "data_agua"
   ]
  },
  {
   "cell_type": "markdown",
   "id": "081ca8e2",
   "metadata": {},
   "source": [
    "### Exportamos nuestro dataframe"
   ]
  },
  {
   "cell_type": "code",
   "execution_count": 43,
   "id": "6ff71d49",
   "metadata": {},
   "outputs": [],
   "source": [
    "data_agua.to_csv('obras_agua.csv', index=False)"
   ]
  },
  {
   "cell_type": "code",
   "execution_count": null,
   "id": "e73a759e",
   "metadata": {},
   "outputs": [],
   "source": []
  }
 ],
 "metadata": {
  "kernelspec": {
   "display_name": "Python 3 (ipykernel)",
   "language": "python",
   "name": "python3"
  },
  "language_info": {
   "codemirror_mode": {
    "name": "ipython",
    "version": 3
   },
   "file_extension": ".py",
   "mimetype": "text/x-python",
   "name": "python",
   "nbconvert_exporter": "python",
   "pygments_lexer": "ipython3",
   "version": "3.11.4"
  }
 },
 "nbformat": 4,
 "nbformat_minor": 5
}
