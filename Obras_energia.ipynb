{
 "cells": [
  {
   "cell_type": "markdown",
   "id": "d4602620",
   "metadata": {},
   "source": [
    "### Para comenzar con el scrapping, importamos las funciones que tenemos en el archivo 'procesos'"
   ]
  },
  {
   "cell_type": "code",
   "execution_count": 5,
   "id": "6cce5475",
   "metadata": {},
   "outputs": [],
   "source": [
    "from procesos import *"
   ]
  },
  {
   "cell_type": "code",
   "execution_count": 6,
   "id": "08416e76",
   "metadata": {},
   "outputs": [],
   "source": [
    "import warnings\n",
    "warnings.filterwarnings('ignore')\n",
    "import pandas as pd\n",
    "import numpy as np\n",
    "import re"
   ]
  },
  {
   "cell_type": "markdown",
   "id": "72939adc",
   "metadata": {},
   "source": [
    "### Establecemos el nombre de las columnas que tendrá el dataframe"
   ]
  },
  {
   "cell_type": "code",
   "execution_count": 24,
   "id": "5f07b042",
   "metadata": {},
   "outputs": [],
   "source": [
    "columnas = ['Obra','Status','Ejecución física %','Ejecución financiera %','Estado','Municipio','Dirección','Personas afectadas','Ente responsable','Funcionario responsable','Empresa contratista','Valor total de la obra USD (millones)','Obra financiada por FONDEN','Monto comprometido USD (millones)','Fecha estimada de inicio','Fecha real de inicio','Fecha culminación estimada de la obra','Fecha de paralización']"
   ]
  },
  {
   "cell_type": "markdown",
   "id": "4f2c18a4",
   "metadata": {},
   "source": [
    "### Llamamos a la función 'obtener_datos_obra' que realiza el proceso de web scraping (selenium), obtenemos los datos que queremos de la obra y lo convertimos en un dataframe"
   ]
  },
  {
   "cell_type": "code",
   "execution_count": 80,
   "id": "fac1513e",
   "metadata": {},
   "outputs": [],
   "source": [
    "url = 'https://transparenciave.org/obrasinconclusas/obras_inconclusas/hidroelectrica-manuel-piar-tocoma/'\n",
    "manuel_piar = obtener_datos_obra(url)"
   ]
  },
  {
   "cell_type": "code",
   "execution_count": 81,
   "id": "f9bf92f0",
   "metadata": {},
   "outputs": [],
   "source": [
    "df = pd.DataFrame([manuel_piar]) #convertimos los datos en un dataframe"
   ]
  },
  {
   "cell_type": "code",
   "execution_count": 82,
   "id": "249cd1ed",
   "metadata": {},
   "outputs": [
    {
     "data": {
      "text/html": [
       "<div>\n",
       "<style scoped>\n",
       "    .dataframe tbody tr th:only-of-type {\n",
       "        vertical-align: middle;\n",
       "    }\n",
       "\n",
       "    .dataframe tbody tr th {\n",
       "        vertical-align: top;\n",
       "    }\n",
       "\n",
       "    .dataframe thead th {\n",
       "        text-align: right;\n",
       "    }\n",
       "</style>\n",
       "<table border=\"1\" class=\"dataframe\">\n",
       "  <thead>\n",
       "    <tr style=\"text-align: right;\">\n",
       "      <th></th>\n",
       "      <th>Obra</th>\n",
       "      <th>Status</th>\n",
       "      <th>Ejecución física %</th>\n",
       "      <th>Ejecución financiera %</th>\n",
       "      <th>Estado</th>\n",
       "      <th>Municipio</th>\n",
       "      <th>Dirección</th>\n",
       "      <th>Personas afectadas</th>\n",
       "      <th>Ente responsable</th>\n",
       "      <th>Funcionario responsable</th>\n",
       "      <th>Empresa contratista</th>\n",
       "      <th>Valor total de la obra USD (millones)</th>\n",
       "      <th>Obra financiada por FONDEN</th>\n",
       "      <th>Monto comprometido USD (millones)</th>\n",
       "      <th>Fecha estimada de inicio</th>\n",
       "      <th>Fecha real de inicio</th>\n",
       "      <th>Fecha culminación estimada de la obra</th>\n",
       "      <th>Fecha de paralización</th>\n",
       "    </tr>\n",
       "  </thead>\n",
       "  <tbody>\n",
       "    <tr>\n",
       "      <th>0</th>\n",
       "      <td>HIDROELÉCTRICA MANUEL PIAR- TOCOMA</td>\n",
       "      <td>Paralizada</td>\n",
       "      <td>87,19%</td>\n",
       "      <td>S/I</td>\n",
       "      <td>Estado Bolívar</td>\n",
       "      <td>Bolívar</td>\n",
       "      <td>En el estado Bolívar, a 80 km. aguas arriba de...</td>\n",
       "      <td>Más de 1.000.001</td>\n",
       "      <td>Corporación Eléctrica Nacional (Corpoelec)</td>\n",
       "      <td>Hipólito Izquierdo</td>\n",
       "      <td>Consorcio OIV Tocoma (CBPO Engenharia Ltda./ C...</td>\n",
       "      <td>USD 8.896.268.823</td>\n",
       "      <td>S/I</td>\n",
       "      <td>S/I</td>\n",
       "      <td>19/03/2007</td>\n",
       "      <td>S/I</td>\n",
       "      <td>1era 01/06/2014 2da 31/03/2018</td>\n",
       "      <td>S/I</td>\n",
       "    </tr>\n",
       "  </tbody>\n",
       "</table>\n",
       "</div>"
      ],
      "text/plain": [
       "                                 Obra      Status Ejecución física %  \\\n",
       "0  HIDROELÉCTRICA MANUEL PIAR- TOCOMA  Paralizada             87,19%   \n",
       "\n",
       "  Ejecución financiera %          Estado Municipio  \\\n",
       "0                    S/I  Estado Bolívar   Bolívar   \n",
       "\n",
       "                                           Dirección Personas afectadas  \\\n",
       "0  En el estado Bolívar, a 80 km. aguas arriba de...   Más de 1.000.001   \n",
       "\n",
       "                             Ente responsable Funcionario responsable  \\\n",
       "0  Corporación Eléctrica Nacional (Corpoelec)      Hipólito Izquierdo   \n",
       "\n",
       "                                 Empresa contratista  \\\n",
       "0  Consorcio OIV Tocoma (CBPO Engenharia Ltda./ C...   \n",
       "\n",
       "  Valor total de la obra USD (millones) Obra financiada por FONDEN  \\\n",
       "0                     USD 8.896.268.823                        S/I   \n",
       "\n",
       "  Monto comprometido USD (millones) Fecha estimada de inicio  \\\n",
       "0                               S/I               19/03/2007   \n",
       "\n",
       "  Fecha real de inicio Fecha culminación estimada de la obra  \\\n",
       "0                  S/I        1era 01/06/2014 2da 31/03/2018   \n",
       "\n",
       "  Fecha de paralización  \n",
       "0                   S/I  "
      ]
     },
     "execution_count": 82,
     "metadata": {},
     "output_type": "execute_result"
    }
   ],
   "source": [
    "#Reorganizamos el orden de las columnas\n",
    "df['Obra financiada por FONDEN'] = 'S/I' #agregamos las columnas que hacen falta para mantener el formato del DF\n",
    "df['Monto comprometido USD (millones)'] = 'S/I'\n",
    "\n",
    "#Reorganizamos el orden de las columnas\n",
    "df = df[[0,1,2,3,4,5,6,7,8,9,10,11,'Obra financiada por FONDEN','Monto comprometido USD (millones)',12,13,14,15]]\n",
    "df.columns = columnas\n",
    "df"
   ]
  },
  {
   "cell_type": "markdown",
   "id": "f1b429d0",
   "metadata": {},
   "source": [
    "### Vamos a realizar el mismo procedimiento para las demás obras que tenemos en nuestra página web que estamos scrapeando"
   ]
  },
  {
   "cell_type": "code",
   "execution_count": 83,
   "id": "86a53e02",
   "metadata": {},
   "outputs": [],
   "source": [
    "url2 = 'https://transparenciave.org/obrasinconclusas/obras_inconclusas/inversion-en-la-planta-india-urquia-perteneciente-al-complejo-generador-termocentro/'\n",
    "india_urquia = obtener_datos_obra(url2)"
   ]
  },
  {
   "cell_type": "code",
   "execution_count": 84,
   "id": "59f78b8f",
   "metadata": {},
   "outputs": [],
   "source": [
    "df2 = pd.DataFrame([india_urquia])\n",
    "df2.columns = columnas"
   ]
  },
  {
   "cell_type": "code",
   "execution_count": 85,
   "id": "565283dd",
   "metadata": {},
   "outputs": [],
   "source": [
    "url3 = 'https://transparenciave.org/obrasinconclusas/obras_inconclusas/parque-eolico-de-la-guajira/'\n",
    "parque_eolico = obtener_datos_obra(url3)"
   ]
  },
  {
   "cell_type": "code",
   "execution_count": 86,
   "id": "94b3443c",
   "metadata": {},
   "outputs": [],
   "source": [
    "df3 = pd.DataFrame([parque_eolico])\n",
    "\n",
    "df3 = df3.drop(df3.columns[[2, 3]], axis=1) #eliminamos las columnas 2 y 3 que no tienen información\n",
    "\n",
    "df3['Obra financiada por FONDEN'] = 'S/I' #agregamos las columnas que hacen falta para mantener el formato del DF\n",
    "df3['Monto comprometido USD (millones)'] = 'S/I'\n",
    "\n",
    "#Reorganizamos el orden de las columnas\n",
    "df3 = df3[[0,1,4,5,6,7,8,9,10,11,12,13,'Obra financiada por FONDEN','Monto comprometido USD (millones)',14,16,16,17]]\n",
    "df3.columns = columnas"
   ]
  },
  {
   "cell_type": "code",
   "execution_count": 87,
   "id": "675d7e53",
   "metadata": {},
   "outputs": [],
   "source": [
    "url4 = 'https://transparenciave.org/obrasinconclusas/obras_inconclusas/parque-eolico-paraguana/'\n",
    "parque_eolico_paraguana = obtener_datos_obra(url4)"
   ]
  },
  {
   "cell_type": "code",
   "execution_count": 88,
   "id": "53c08f3b",
   "metadata": {},
   "outputs": [],
   "source": [
    "df4 = pd.DataFrame([parque_eolico_paraguana])\n",
    "\n",
    "df4['Obra financiada por FONDEN'] = 'S/I' #agregamos las columnas que hacen falta para mantener el formato del DF\n",
    "df4['Monto comprometido USD (millones)'] = 'S/I'\n",
    "\n",
    "#Reorganizamos el orden de las columnas\n",
    "df4 = df4[[0,1,2,3,4,5,6,7,8,9,10,11,'Obra financiada por FONDEN','Monto comprometido USD (millones)',12,13,14,15]]\n",
    "df4.columns = columnas"
   ]
  },
  {
   "cell_type": "code",
   "execution_count": 89,
   "id": "81c08ca8",
   "metadata": {},
   "outputs": [],
   "source": [
    "url5 = 'https://transparenciave.org/obrasinconclusas/obras_inconclusas/proyecto-san-geronimo-cabruta-consolidacion-de-la-red-san-geronimo-puerto-ayacucho/'\n",
    "geronimo_cabruta = obtener_datos_obra(url5)"
   ]
  },
  {
   "cell_type": "code",
   "execution_count": 90,
   "id": "34c83118",
   "metadata": {},
   "outputs": [],
   "source": [
    "df5 = pd.DataFrame([geronimo_cabruta])\n",
    "df5.columns = columnas"
   ]
  },
  {
   "cell_type": "code",
   "execution_count": 91,
   "id": "29995298",
   "metadata": {},
   "outputs": [],
   "source": [
    "url6 = 'https://transparenciave.org/obrasinconclusas/obras_inconclusas/sistema-hidraulico-yacambu-quibor/'\n",
    "yacambu_quibor = obtener_datos_obra(url6)"
   ]
  },
  {
   "cell_type": "code",
   "execution_count": 92,
   "id": "7e3084c4",
   "metadata": {},
   "outputs": [],
   "source": [
    "df6 = pd.DataFrame([yacambu_quibor])\n",
    "df6.columns = columnas"
   ]
  },
  {
   "cell_type": "markdown",
   "id": "93c18c1d",
   "metadata": {},
   "source": [
    "### Procedemos a juntar todos los dataframes"
   ]
  },
  {
   "cell_type": "code",
   "execution_count": 93,
   "id": "120d8bd0",
   "metadata": {},
   "outputs": [],
   "source": [
    "# Concatena los DataFrames en uno solo\n",
    "data_energia = pd.concat([df,df2,df3,df4,df5,df6],ignore_index=True)"
   ]
  },
  {
   "cell_type": "markdown",
   "id": "0728ff90",
   "metadata": {},
   "source": [
    "### Para conocer las coordenadas de cada una de las obras, hacemos uso de Geopy"
   ]
  },
  {
   "cell_type": "code",
   "execution_count": 94,
   "id": "0bffef68",
   "metadata": {},
   "outputs": [],
   "source": [
    "#Asignamos como dirección el Municipio y Estado de cada obra para conocer sus coordenadas\n",
    "municipio_estado = data_energia['Municipio'] + ', ' + data_energia['Estado']\n",
    "lista_municipio_estado = municipio_estado.tolist()"
   ]
  },
  {
   "cell_type": "code",
   "execution_count": 95,
   "id": "850b3c2b",
   "metadata": {},
   "outputs": [],
   "source": [
    "latitudes = obtener_latitudes(lista_municipio_estado) #obtenemos la latitud de la obra"
   ]
  },
  {
   "cell_type": "code",
   "execution_count": 96,
   "id": "21770991",
   "metadata": {},
   "outputs": [],
   "source": [
    "longitudes = obtener_longitudes(lista_municipio_estado) #obtenemos la longitud de la obra"
   ]
  },
  {
   "cell_type": "code",
   "execution_count": 97,
   "id": "4a1170c6",
   "metadata": {},
   "outputs": [],
   "source": [
    "data_energia['Latitud'] = latitudes #agregamos una nueva columna con todos los valores de las latitudes\n",
    "data_energia['Longitud'] = longitudes #agregamos una nueva columna con todos los valores de las longitudes"
   ]
  },
  {
   "cell_type": "markdown",
   "id": "e06e39d8",
   "metadata": {},
   "source": [
    "### Observamos que en las columnas 'Latitud' y 'Longitud' tenemos algunos valores nulos, esto se debe a que las obras abarcan mas de un estado, es por ello que procedemos a asignarles las coordenadas de los estados principales donde inician las obras"
   ]
  },
  {
   "cell_type": "code",
   "execution_count": 98,
   "id": "dd500a9e",
   "metadata": {},
   "outputs": [],
   "source": [
    "data_energia['Latitud'][4] = 9.9666667\n",
    "data_energia['Longitud'][4] = --67.4666667"
   ]
  },
  {
   "cell_type": "markdown",
   "id": "1712b8d1",
   "metadata": {},
   "source": [
    "### Extraemos la parte numérica de la columna 'Valor total de la obra' para tener un dato de tipo entero"
   ]
  },
  {
   "cell_type": "code",
   "execution_count": 99,
   "id": "5a579b66",
   "metadata": {},
   "outputs": [],
   "source": [
    "# Aplicar la función a la columna 'Valor total de la obra'\n",
    "data_energia['Valor total de la obra USD (millones)'] = data_energia['Valor total de la obra USD (millones)'].apply(extract_numeric_value)\n",
    "\n",
    "data_energia['Valor total de la obra USD (millones)'] = data_energia['Valor total de la obra USD (millones)'].str.replace('.', '', regex=True).fillna('0').astype(int)\n",
    "\n",
    "#Dividimos para tener el total de millones en un número mas legible\n",
    "data_energia['Valor total de la obra USD (millones)'] = (data_energia['Valor total de la obra USD (millones)'] / 1000000).astype(int)"
   ]
  },
  {
   "cell_type": "markdown",
   "id": "65547af0",
   "metadata": {},
   "source": [
    "### Limpiamos la columna 'Monto comprometido', extraemos la parte numérica, llenamos los valores nulos con '0', transformamos a un tipo de dato float "
   ]
  },
  {
   "cell_type": "code",
   "execution_count": 100,
   "id": "5771bbd7",
   "metadata": {},
   "outputs": [],
   "source": [
    "data_energia['Monto comprometido USD (millones)'] = data_energia['Monto comprometido USD (millones)'].apply(extract_numeric_value)\n",
    "data_energia['Monto comprometido USD (millones)'] = data_energia['Monto comprometido USD (millones)'].fillna('0')\n",
    "\n",
    "# Convertir la columna a cadena, eliminar los puntos y reemplazar las comas por puntos\n",
    "data_energia['Monto comprometido USD (millones)'] = data_energia['Monto comprometido USD (millones)'].astype(str)\n",
    "data_energia['Monto comprometido USD (millones)'] = data_energia['Monto comprometido USD (millones)'].str.replace('.', '').str.replace(',', '.')\n",
    "\n",
    "# Convertir la columna a tipo float\n",
    "data_energia['Monto comprometido USD (millones)'] = pd.to_numeric(data_energia['Monto comprometido USD (millones)'], errors='coerce')\n",
    "\n",
    "#Dividimos para tener el total de millones en un número más legible\n",
    "data_energia['Monto comprometido USD (millones)'] = (data_energia['Monto comprometido USD (millones)'] / 1000000).astype(int)"
   ]
  },
  {
   "cell_type": "markdown",
   "id": "7920911f",
   "metadata": {},
   "source": [
    "### Cambiamos el tipo de dato de la columna 'Fecha estimada de inicio' por datetime y extraemos el año"
   ]
  },
  {
   "cell_type": "code",
   "execution_count": 101,
   "id": "c772a343",
   "metadata": {},
   "outputs": [],
   "source": [
    "# Convertir la columna 'Fecha estimada de inicio' a datetime\n",
    "data_energia['Fecha estimada de inicio'] = pd.to_datetime(data_energia['Fecha estimada de inicio'], errors='coerce')\n",
    "data_energia['Fecha estimada de inicio'] = data_energia['Fecha estimada de inicio'].dt.year"
   ]
  },
  {
   "cell_type": "markdown",
   "id": "84cba032",
   "metadata": {},
   "source": [
    "### Transformamos las columnas 'Ejecución física' y 'Ejecución financiera' en valores de tipo float, para ello llenamos los valores 'S/I' con 0 y extraemos la parte numérica"
   ]
  },
  {
   "cell_type": "code",
   "execution_count": 102,
   "id": "5aea90a0",
   "metadata": {},
   "outputs": [],
   "source": [
    "data_energia['Ejecución física %'] = data_energia['Ejecución física %'].apply(extract_numeric_value)\n",
    "data_energia['Ejecución física %'] = data_energia['Ejecución física %'].str.replace(',', '.').replace({None: '0'})\n",
    "\n",
    "# Convertir la columna a tipo float\n",
    "data_energia['Ejecución física %'] = data_energia['Ejecución física %'].astype(float)"
   ]
  },
  {
   "cell_type": "code",
   "execution_count": 103,
   "id": "a8af35e0",
   "metadata": {},
   "outputs": [],
   "source": [
    "data_energia['Ejecución financiera %'] = data_energia['Ejecución financiera %'].apply(extract_numeric_value)\n",
    "data_energia['Ejecución financiera %'] = data_energia['Ejecución financiera %'].str.replace(',', '.').replace({None: '0'})\n",
    "\n",
    "# Convertir la columna a tipo float\n",
    "data_energia['Ejecución financiera %'] = data_energia['Ejecución financiera %'].astype(float)"
   ]
  },
  {
   "cell_type": "markdown",
   "id": "1e19e4b6",
   "metadata": {},
   "source": [
    "### Añadimos una nueva columna para indicar cuál es el sector correspondiente a la obra"
   ]
  },
  {
   "cell_type": "code",
   "execution_count": 104,
   "id": "25ae5a98",
   "metadata": {},
   "outputs": [],
   "source": [
    "data_energia['Sector'] = 'Energía'"
   ]
  },
  {
   "cell_type": "code",
   "execution_count": 106,
   "id": "d8b7c810",
   "metadata": {},
   "outputs": [],
   "source": [
    "#Reordenamos las columnas\n",
    "nuevo_orden = ['Sector','Obra','Status','Ejecución física %','Ejecución financiera %','Estado','Municipio','Dirección','Personas afectadas','Ente responsable','Funcionario responsable','Empresa contratista','Valor total de la obra USD (millones)','Obra financiada por FONDEN','Monto comprometido USD (millones)','Fecha estimada de inicio','Fecha real de inicio','Fecha culminación estimada de la obra','Fecha de paralización', 'Latitud', 'Longitud']\n",
    "data_energia = data_energia[nuevo_orden]"
   ]
  },
  {
   "cell_type": "code",
   "execution_count": 107,
   "id": "3b775e08",
   "metadata": {},
   "outputs": [
    {
     "data": {
      "text/html": [
       "<div>\n",
       "<style scoped>\n",
       "    .dataframe tbody tr th:only-of-type {\n",
       "        vertical-align: middle;\n",
       "    }\n",
       "\n",
       "    .dataframe tbody tr th {\n",
       "        vertical-align: top;\n",
       "    }\n",
       "\n",
       "    .dataframe thead th {\n",
       "        text-align: right;\n",
       "    }\n",
       "</style>\n",
       "<table border=\"1\" class=\"dataframe\">\n",
       "  <thead>\n",
       "    <tr style=\"text-align: right;\">\n",
       "      <th></th>\n",
       "      <th>Sector</th>\n",
       "      <th>Obra</th>\n",
       "      <th>Status</th>\n",
       "      <th>Ejecución física %</th>\n",
       "      <th>Ejecución financiera %</th>\n",
       "      <th>Estado</th>\n",
       "      <th>Municipio</th>\n",
       "      <th>Dirección</th>\n",
       "      <th>Personas afectadas</th>\n",
       "      <th>Ente responsable</th>\n",
       "      <th>...</th>\n",
       "      <th>Empresa contratista</th>\n",
       "      <th>Valor total de la obra USD (millones)</th>\n",
       "      <th>Obra financiada por FONDEN</th>\n",
       "      <th>Monto comprometido USD (millones)</th>\n",
       "      <th>Fecha estimada de inicio</th>\n",
       "      <th>Fecha real de inicio</th>\n",
       "      <th>Fecha culminación estimada de la obra</th>\n",
       "      <th>Fecha de paralización</th>\n",
       "      <th>Latitud</th>\n",
       "      <th>Longitud</th>\n",
       "    </tr>\n",
       "  </thead>\n",
       "  <tbody>\n",
       "    <tr>\n",
       "      <th>0</th>\n",
       "      <td>Energía</td>\n",
       "      <td>HIDROELÉCTRICA MANUEL PIAR- TOCOMA</td>\n",
       "      <td>Paralizada</td>\n",
       "      <td>87.19</td>\n",
       "      <td>0.0</td>\n",
       "      <td>Estado Bolívar</td>\n",
       "      <td>Bolívar</td>\n",
       "      <td>En el estado Bolívar, a 80 km. aguas arriba de...</td>\n",
       "      <td>Más de 1.000.001</td>\n",
       "      <td>Corporación Eléctrica Nacional (Corpoelec)</td>\n",
       "      <td>...</td>\n",
       "      <td>Consorcio OIV Tocoma (CBPO Engenharia Ltda./ C...</td>\n",
       "      <td>8896</td>\n",
       "      <td>S/I</td>\n",
       "      <td>0</td>\n",
       "      <td>2007.0</td>\n",
       "      <td>S/I</td>\n",
       "      <td>1era 01/06/2014 2da 31/03/2018</td>\n",
       "      <td>S/I</td>\n",
       "      <td>8.273929</td>\n",
       "      <td>-62.736852</td>\n",
       "    </tr>\n",
       "    <tr>\n",
       "      <th>1</th>\n",
       "      <td>Energía</td>\n",
       "      <td>INVERSIÓN EN LA PLANTA INDIA URQUÍA PERTENECIE...</td>\n",
       "      <td>Paralizada</td>\n",
       "      <td>80.00</td>\n",
       "      <td>0.0</td>\n",
       "      <td>Estado Miranda</td>\n",
       "      <td>Municipio Paz Castillo</td>\n",
       "      <td>78Q9+RPM, Santa Lucía 1214</td>\n",
       "      <td>Más de 1.000.001</td>\n",
       "      <td>Corporación Eléctrica Nacional (Corpoelec) / M...</td>\n",
       "      <td>...</td>\n",
       "      <td>S/I</td>\n",
       "      <td>2178</td>\n",
       "      <td>Si</td>\n",
       "      <td>571</td>\n",
       "      <td>2009.0</td>\n",
       "      <td>S/I</td>\n",
       "      <td>2013</td>\n",
       "      <td>S/I</td>\n",
       "      <td>10.317713</td>\n",
       "      <td>-66.658116</td>\n",
       "    </tr>\n",
       "    <tr>\n",
       "      <th>2</th>\n",
       "      <td>Energía</td>\n",
       "      <td>PARQUE EÓLICO DE LA GUAJIRA</td>\n",
       "      <td>Paralizada</td>\n",
       "      <td>33.33</td>\n",
       "      <td>0.0</td>\n",
       "      <td>Estado Zulia</td>\n",
       "      <td>Guajira</td>\n",
       "      <td>Sector Zulia Mar, parroquia Sinamaica. Municip...</td>\n",
       "      <td>Más de 1.000.001</td>\n",
       "      <td>Corporación Eléctrica Nacional (Corpoelec) / P...</td>\n",
       "      <td>...</td>\n",
       "      <td>Industrias Metalúrgicas Pescarmona Sociedad An...</td>\n",
       "      <td>225</td>\n",
       "      <td>S/I</td>\n",
       "      <td>0</td>\n",
       "      <td>NaN</td>\n",
       "      <td>2013</td>\n",
       "      <td>2013</td>\n",
       "      <td>2014</td>\n",
       "      <td>10.692780</td>\n",
       "      <td>-71.634994</td>\n",
       "    </tr>\n",
       "    <tr>\n",
       "      <th>3</th>\n",
       "      <td>Energía</td>\n",
       "      <td>PARQUE EÓLICO PARAGUANÁ</td>\n",
       "      <td>Paralizada</td>\n",
       "      <td>32.00</td>\n",
       "      <td>0.0</td>\n",
       "      <td>Estado Fálcon</td>\n",
       "      <td>Los Taques</td>\n",
       "      <td>Santa Cruz de Los Taques, en la península de P...</td>\n",
       "      <td>Más de 1.000.001</td>\n",
       "      <td>Petróleos de Venezuela S.A. (Pdvsa) / Corporac...</td>\n",
       "      <td>...</td>\n",
       "      <td>S/I</td>\n",
       "      <td>180</td>\n",
       "      <td>S/I</td>\n",
       "      <td>0</td>\n",
       "      <td>2009.0</td>\n",
       "      <td>S/I</td>\n",
       "      <td>2011</td>\n",
       "      <td>S/I</td>\n",
       "      <td>11.824583</td>\n",
       "      <td>-70.251788</td>\n",
       "    </tr>\n",
       "    <tr>\n",
       "      <th>4</th>\n",
       "      <td>Energía</td>\n",
       "      <td>CONSOLIDACIÓN DE LA RED SAN GERÓNIMO-PUERTO AY...</td>\n",
       "      <td>Paralizada</td>\n",
       "      <td>8.76</td>\n",
       "      <td>0.0</td>\n",
       "      <td>Estado Guárico</td>\n",
       "      <td>Juan José Rondón/ Leonardo Infante</td>\n",
       "      <td>Municipios Juan José Rondón y Leonardo Infante</td>\n",
       "      <td>Más de 1.000.001</td>\n",
       "      <td>Corporación Eléctrica Nacional (Corpoelec) / M...</td>\n",
       "      <td>...</td>\n",
       "      <td>S/I</td>\n",
       "      <td>35</td>\n",
       "      <td>Si</td>\n",
       "      <td>170</td>\n",
       "      <td>2008.0</td>\n",
       "      <td>S/I</td>\n",
       "      <td>2010</td>\n",
       "      <td>S/I</td>\n",
       "      <td>9.966667</td>\n",
       "      <td>67.466667</td>\n",
       "    </tr>\n",
       "    <tr>\n",
       "      <th>5</th>\n",
       "      <td>Energía</td>\n",
       "      <td>SISTEMA HIDRÁULICO YACAMBÚ – QUIBOR</td>\n",
       "      <td>Paralizada</td>\n",
       "      <td>0.00</td>\n",
       "      <td>0.0</td>\n",
       "      <td>Estado Lara</td>\n",
       "      <td>Jiménez</td>\n",
       "      <td>V8GX+57J, Carr. San José, 3061</td>\n",
       "      <td>Más de 1.000.001</td>\n",
       "      <td>Sistema Hidráulico Yacambú-Quíbor (SHYQ)</td>\n",
       "      <td>...</td>\n",
       "      <td>Consorcio Yacambú 2008 /Empresa Noroccidental ...</td>\n",
       "      <td>879</td>\n",
       "      <td>Si</td>\n",
       "      <td>32</td>\n",
       "      <td>1999.0</td>\n",
       "      <td>S/I</td>\n",
       "      <td>2012</td>\n",
       "      <td>S/I</td>\n",
       "      <td>10.064215</td>\n",
       "      <td>-69.363809</td>\n",
       "    </tr>\n",
       "  </tbody>\n",
       "</table>\n",
       "<p>6 rows × 21 columns</p>\n",
       "</div>"
      ],
      "text/plain": [
       "    Sector                                               Obra      Status  \\\n",
       "0  Energía                 HIDROELÉCTRICA MANUEL PIAR- TOCOMA  Paralizada   \n",
       "1  Energía  INVERSIÓN EN LA PLANTA INDIA URQUÍA PERTENECIE...  Paralizada   \n",
       "2  Energía                        PARQUE EÓLICO DE LA GUAJIRA  Paralizada   \n",
       "3  Energía                            PARQUE EÓLICO PARAGUANÁ  Paralizada   \n",
       "4  Energía  CONSOLIDACIÓN DE LA RED SAN GERÓNIMO-PUERTO AY...  Paralizada   \n",
       "5  Energía                SISTEMA HIDRÁULICO YACAMBÚ – QUIBOR  Paralizada   \n",
       "\n",
       "   Ejecución física %  Ejecución financiera %          Estado  \\\n",
       "0               87.19                     0.0  Estado Bolívar   \n",
       "1               80.00                     0.0  Estado Miranda   \n",
       "2               33.33                     0.0    Estado Zulia   \n",
       "3               32.00                     0.0   Estado Fálcon   \n",
       "4                8.76                     0.0  Estado Guárico   \n",
       "5                0.00                     0.0     Estado Lara   \n",
       "\n",
       "                            Municipio  \\\n",
       "0                             Bolívar   \n",
       "1              Municipio Paz Castillo   \n",
       "2                             Guajira   \n",
       "3                          Los Taques   \n",
       "4  Juan José Rondón/ Leonardo Infante   \n",
       "5                             Jiménez   \n",
       "\n",
       "                                           Dirección Personas afectadas  \\\n",
       "0  En el estado Bolívar, a 80 km. aguas arriba de...   Más de 1.000.001   \n",
       "1                         78Q9+RPM, Santa Lucía 1214   Más de 1.000.001   \n",
       "2  Sector Zulia Mar, parroquia Sinamaica. Municip...   Más de 1.000.001   \n",
       "3  Santa Cruz de Los Taques, en la península de P...   Más de 1.000.001   \n",
       "4     Municipios Juan José Rondón y Leonardo Infante   Más de 1.000.001   \n",
       "5                     V8GX+57J, Carr. San José, 3061   Más de 1.000.001   \n",
       "\n",
       "                                    Ente responsable  ...  \\\n",
       "0         Corporación Eléctrica Nacional (Corpoelec)  ...   \n",
       "1  Corporación Eléctrica Nacional (Corpoelec) / M...  ...   \n",
       "2  Corporación Eléctrica Nacional (Corpoelec) / P...  ...   \n",
       "3  Petróleos de Venezuela S.A. (Pdvsa) / Corporac...  ...   \n",
       "4  Corporación Eléctrica Nacional (Corpoelec) / M...  ...   \n",
       "5           Sistema Hidráulico Yacambú-Quíbor (SHYQ)  ...   \n",
       "\n",
       "                                 Empresa contratista  \\\n",
       "0  Consorcio OIV Tocoma (CBPO Engenharia Ltda./ C...   \n",
       "1                                                S/I   \n",
       "2  Industrias Metalúrgicas Pescarmona Sociedad An...   \n",
       "3                                                S/I   \n",
       "4                                                S/I   \n",
       "5  Consorcio Yacambú 2008 /Empresa Noroccidental ...   \n",
       "\n",
       "  Valor total de la obra USD (millones)  Obra financiada por FONDEN  \\\n",
       "0                                  8896                         S/I   \n",
       "1                                  2178                          Si   \n",
       "2                                   225                         S/I   \n",
       "3                                   180                         S/I   \n",
       "4                                    35                          Si   \n",
       "5                                   879                          Si   \n",
       "\n",
       "  Monto comprometido USD (millones)  Fecha estimada de inicio  \\\n",
       "0                                 0                    2007.0   \n",
       "1                               571                    2009.0   \n",
       "2                                 0                       NaN   \n",
       "3                                 0                    2009.0   \n",
       "4                               170                    2008.0   \n",
       "5                                32                    1999.0   \n",
       "\n",
       "   Fecha real de inicio Fecha culminación estimada de la obra  \\\n",
       "0                   S/I        1era 01/06/2014 2da 31/03/2018   \n",
       "1                   S/I                                  2013   \n",
       "2                  2013                                  2013   \n",
       "3                   S/I                                  2011   \n",
       "4                   S/I                                  2010   \n",
       "5                   S/I                                  2012   \n",
       "\n",
       "  Fecha de paralización    Latitud   Longitud  \n",
       "0                   S/I   8.273929 -62.736852  \n",
       "1                   S/I  10.317713 -66.658116  \n",
       "2                  2014  10.692780 -71.634994  \n",
       "3                   S/I  11.824583 -70.251788  \n",
       "4                   S/I   9.966667  67.466667  \n",
       "5                   S/I  10.064215 -69.363809  \n",
       "\n",
       "[6 rows x 21 columns]"
      ]
     },
     "execution_count": 107,
     "metadata": {},
     "output_type": "execute_result"
    }
   ],
   "source": [
    "data_energia"
   ]
  },
  {
   "cell_type": "markdown",
   "id": "b79ef23a",
   "metadata": {},
   "source": [
    "### Exportamos nuestro dataframe"
   ]
  },
  {
   "cell_type": "code",
   "execution_count": 108,
   "id": "31b44844",
   "metadata": {},
   "outputs": [],
   "source": [
    "data_energia.to_csv('obras_energia.csv', index=False)"
   ]
  }
 ],
 "metadata": {
  "kernelspec": {
   "display_name": "Python 3 (ipykernel)",
   "language": "python",
   "name": "python3"
  },
  "language_info": {
   "codemirror_mode": {
    "name": "ipython",
    "version": 3
   },
   "file_extension": ".py",
   "mimetype": "text/x-python",
   "name": "python",
   "nbconvert_exporter": "python",
   "pygments_lexer": "ipython3",
   "version": "3.11.4"
  }
 },
 "nbformat": 4,
 "nbformat_minor": 5
}
