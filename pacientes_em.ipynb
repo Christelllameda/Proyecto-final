{
 "cells": [
  {
   "cell_type": "code",
   "execution_count": 1,
   "id": "d84825be",
   "metadata": {},
   "outputs": [],
   "source": [
    "import warnings\n",
    "warnings.filterwarnings('ignore')"
   ]
  },
  {
   "cell_type": "code",
   "execution_count": 2,
   "id": "1bc1802e",
   "metadata": {},
   "outputs": [],
   "source": [
    "import pandas as pd"
   ]
  },
  {
   "cell_type": "code",
   "execution_count": 3,
   "id": "45255c8f",
   "metadata": {},
   "outputs": [
    {
     "data": {
      "text/html": [
       "<div>\n",
       "<style scoped>\n",
       "    .dataframe tbody tr th:only-of-type {\n",
       "        vertical-align: middle;\n",
       "    }\n",
       "\n",
       "    .dataframe tbody tr th {\n",
       "        vertical-align: top;\n",
       "    }\n",
       "\n",
       "    .dataframe thead th {\n",
       "        text-align: right;\n",
       "    }\n",
       "</style>\n",
       "<table border=\"1\" class=\"dataframe\">\n",
       "  <thead>\n",
       "    <tr style=\"text-align: right;\">\n",
       "      <th></th>\n",
       "      <th>Unnamed: 0</th>\n",
       "      <th>EDAD</th>\n",
       "      <th>SEXO</th>\n",
       "      <th>Unnamed: 3</th>\n",
       "      <th>TRATAMIENTO</th>\n",
       "      <th>Unnamed: 5</th>\n",
       "      <th>CENTRO PILOTO</th>\n",
       "      <th>INICIO TTO.</th>\n",
       "    </tr>\n",
       "  </thead>\n",
       "  <tbody>\n",
       "    <tr>\n",
       "      <th>0</th>\n",
       "      <td>NOMBRE DEL PACIENTE</td>\n",
       "      <td>EDAD</td>\n",
       "      <td>SEXO</td>\n",
       "      <td>CEDULA</td>\n",
       "      <td>TRATAMIENTO</td>\n",
       "      <td>AMPYRA</td>\n",
       "      <td>CIUDAD</td>\n",
       "      <td>INICIO TTO.</td>\n",
       "    </tr>\n",
       "    <tr>\n",
       "      <th>1</th>\n",
       "      <td>NaN</td>\n",
       "      <td>45</td>\n",
       "      <td>M</td>\n",
       "      <td>NaN</td>\n",
       "      <td>REBIF</td>\n",
       "      <td>NaN</td>\n",
       "      <td>CARACAS</td>\n",
       "      <td>2002-09-01 00:00:00</td>\n",
       "    </tr>\n",
       "    <tr>\n",
       "      <th>2</th>\n",
       "      <td>NaN</td>\n",
       "      <td>43</td>\n",
       "      <td>F</td>\n",
       "      <td>NaN</td>\n",
       "      <td>BETAFERON</td>\n",
       "      <td>NaN</td>\n",
       "      <td>PTO. LA CRUZ</td>\n",
       "      <td>2001-06-01 00:00:00</td>\n",
       "    </tr>\n",
       "    <tr>\n",
       "      <th>3</th>\n",
       "      <td>NaN</td>\n",
       "      <td>39</td>\n",
       "      <td>F</td>\n",
       "      <td>NaN</td>\n",
       "      <td>BETAFERON</td>\n",
       "      <td>NaN</td>\n",
       "      <td>GUACARA</td>\n",
       "      <td>2010-08-01 00:00:00</td>\n",
       "    </tr>\n",
       "    <tr>\n",
       "      <th>4</th>\n",
       "      <td>NaN</td>\n",
       "      <td>35</td>\n",
       "      <td>F</td>\n",
       "      <td>NaN</td>\n",
       "      <td>AVONEX</td>\n",
       "      <td>NaN</td>\n",
       "      <td>CARACAS</td>\n",
       "      <td>2004-07-01 00:00:00</td>\n",
       "    </tr>\n",
       "    <tr>\n",
       "      <th>...</th>\n",
       "      <td>...</td>\n",
       "      <td>...</td>\n",
       "      <td>...</td>\n",
       "      <td>...</td>\n",
       "      <td>...</td>\n",
       "      <td>...</td>\n",
       "      <td>...</td>\n",
       "      <td>...</td>\n",
       "    </tr>\n",
       "    <tr>\n",
       "      <th>2094</th>\n",
       "      <td>NaN</td>\n",
       "      <td>NaN</td>\n",
       "      <td>NaN</td>\n",
       "      <td>NaN</td>\n",
       "      <td>OCREVUS</td>\n",
       "      <td>NaN</td>\n",
       "      <td>NaN</td>\n",
       "      <td>NaN</td>\n",
       "    </tr>\n",
       "    <tr>\n",
       "      <th>2095</th>\n",
       "      <td>NaN</td>\n",
       "      <td>NaN</td>\n",
       "      <td>NaN</td>\n",
       "      <td>NaN</td>\n",
       "      <td>OCREVUS</td>\n",
       "      <td>NaN</td>\n",
       "      <td>NaN</td>\n",
       "      <td>NaN</td>\n",
       "    </tr>\n",
       "    <tr>\n",
       "      <th>2096</th>\n",
       "      <td>NaN</td>\n",
       "      <td>NaN</td>\n",
       "      <td>NaN</td>\n",
       "      <td>NaN</td>\n",
       "      <td>OCREVUS</td>\n",
       "      <td>NaN</td>\n",
       "      <td>NaN</td>\n",
       "      <td>NaN</td>\n",
       "    </tr>\n",
       "    <tr>\n",
       "      <th>2097</th>\n",
       "      <td>NaN</td>\n",
       "      <td>NaN</td>\n",
       "      <td>NaN</td>\n",
       "      <td>NaN</td>\n",
       "      <td>OCREVUS</td>\n",
       "      <td>NaN</td>\n",
       "      <td>NaN</td>\n",
       "      <td>NaN</td>\n",
       "    </tr>\n",
       "    <tr>\n",
       "      <th>2098</th>\n",
       "      <td>NaN</td>\n",
       "      <td>NaN</td>\n",
       "      <td>NaN</td>\n",
       "      <td>NaN</td>\n",
       "      <td>OCREVUS</td>\n",
       "      <td>NaN</td>\n",
       "      <td>NaN</td>\n",
       "      <td>NaN</td>\n",
       "    </tr>\n",
       "  </tbody>\n",
       "</table>\n",
       "<p>2099 rows × 8 columns</p>\n",
       "</div>"
      ],
      "text/plain": [
       "               Unnamed: 0  EDAD  SEXO Unnamed: 3  TRATAMIENTO Unnamed: 5  \\\n",
       "0     NOMBRE DEL PACIENTE  EDAD  SEXO     CEDULA  TRATAMIENTO     AMPYRA   \n",
       "1                     NaN    45     M        NaN        REBIF        NaN   \n",
       "2                     NaN    43     F        NaN    BETAFERON        NaN   \n",
       "3                     NaN    39     F        NaN    BETAFERON        NaN   \n",
       "4                     NaN    35     F        NaN       AVONEX        NaN   \n",
       "...                   ...   ...   ...        ...          ...        ...   \n",
       "2094                  NaN   NaN   NaN        NaN      OCREVUS        NaN   \n",
       "2095                  NaN   NaN   NaN        NaN      OCREVUS        NaN   \n",
       "2096                  NaN   NaN   NaN        NaN      OCREVUS        NaN   \n",
       "2097                  NaN   NaN   NaN        NaN      OCREVUS        NaN   \n",
       "2098                  NaN   NaN   NaN        NaN      OCREVUS        NaN   \n",
       "\n",
       "     CENTRO PILOTO          INICIO TTO.  \n",
       "0          CIUDAD           INICIO TTO.  \n",
       "1          CARACAS  2002-09-01 00:00:00  \n",
       "2     PTO. LA CRUZ  2001-06-01 00:00:00  \n",
       "3          GUACARA  2010-08-01 00:00:00  \n",
       "4          CARACAS  2004-07-01 00:00:00  \n",
       "...            ...                  ...  \n",
       "2094           NaN                  NaN  \n",
       "2095           NaN                  NaN  \n",
       "2096           NaN                  NaN  \n",
       "2097           NaN                  NaN  \n",
       "2098           NaN                  NaN  \n",
       "\n",
       "[2099 rows x 8 columns]"
      ]
     },
     "execution_count": 3,
     "metadata": {},
     "output_type": "execute_result"
    }
   ],
   "source": [
    "nombre_archivo = 'data/BASE DATOS  JULIO - 2013 - ESCLEROSIS MULTIPLE V3.xlsx'\n",
    "\n",
    "nombre_hoja = 'List todos los pacientes-Hoja1'\n",
    "\n",
    "# Lee el archivo .xls y carga la hoja especificada en un DataFrame\n",
    "data = pd.read_excel(nombre_archivo, sheet_name=nombre_hoja)\n",
    "\n",
    "data"
   ]
  },
  {
   "cell_type": "code",
   "execution_count": 4,
   "id": "6ab4dacd",
   "metadata": {},
   "outputs": [
    {
     "name": "stdout",
     "output_type": "stream",
     "text": [
      "<class 'pandas.core.frame.DataFrame'>\n",
      "RangeIndex: 2099 entries, 0 to 2098\n",
      "Data columns (total 8 columns):\n",
      " #   Column         Non-Null Count  Dtype \n",
      "---  ------         --------------  ----- \n",
      " 0   Unnamed: 0     1 non-null      object\n",
      " 1   EDAD           2085 non-null   object\n",
      " 2   SEXO           2049 non-null   object\n",
      " 3   Unnamed: 3     1 non-null      object\n",
      " 4   TRATAMIENTO    2095 non-null   object\n",
      " 5   Unnamed: 5     2 non-null      object\n",
      " 6   CENTRO PILOTO  2087 non-null   object\n",
      " 7   INICIO TTO.    2081 non-null   object\n",
      "dtypes: object(8)\n",
      "memory usage: 131.3+ KB\n"
     ]
    }
   ],
   "source": [
    "data.info()"
   ]
  },
  {
   "cell_type": "code",
   "execution_count": 5,
   "id": "1305a36d",
   "metadata": {},
   "outputs": [],
   "source": [
    "data.rename(columns={'CENTRO PILOTO': 'CIUDAD'}, inplace=True)"
   ]
  },
  {
   "cell_type": "code",
   "execution_count": 6,
   "id": "461a4b71",
   "metadata": {},
   "outputs": [],
   "source": [
    "data = data.drop(columns=['Unnamed: 0','Unnamed: 3','Unnamed: 5'])"
   ]
  },
  {
   "cell_type": "code",
   "execution_count": 7,
   "id": "6d6f893c",
   "metadata": {},
   "outputs": [],
   "source": [
    "data = data.drop(data.index[0])\n",
    "data = data.reset_index(drop=True)"
   ]
  },
  {
   "cell_type": "markdown",
   "id": "7b717219",
   "metadata": {},
   "source": [
    "### Chequeamos los valores nulos"
   ]
  },
  {
   "cell_type": "code",
   "execution_count": 8,
   "id": "662e372e",
   "metadata": {},
   "outputs": [
    {
     "data": {
      "text/plain": [
       "EDAD           14\n",
       "SEXO           50\n",
       "TRATAMIENTO     4\n",
       "CIUDAD         12\n",
       "INICIO TTO.    18\n",
       "dtype: int64"
      ]
     },
     "execution_count": 8,
     "metadata": {},
     "output_type": "execute_result"
    }
   ],
   "source": [
    "data.isnull().sum()"
   ]
  },
  {
   "cell_type": "code",
   "execution_count": 9,
   "id": "b160457d",
   "metadata": {},
   "outputs": [
    {
     "data": {
      "text/plain": [
       "Int64Index([475, 1351, 1829, 1977, 1984, 2091, 2092, 2093, 2094, 2095, 2096,\n",
       "            2097],\n",
       "           dtype='int64')"
      ]
     },
     "execution_count": 9,
     "metadata": {},
     "output_type": "execute_result"
    }
   ],
   "source": [
    "data[data['CIUDAD'].isnull()].index"
   ]
  },
  {
   "cell_type": "code",
   "execution_count": 10,
   "id": "20e4de7f",
   "metadata": {},
   "outputs": [
    {
     "data": {
      "text/plain": [
       "EDAD           NaN\n",
       "SEXO           NaN\n",
       "TRATAMIENTO    NaN\n",
       "CIUDAD         NaN\n",
       "INICIO TTO.    NaN\n",
       "Name: 1984, dtype: object"
      ]
     },
     "execution_count": 10,
     "metadata": {},
     "output_type": "execute_result"
    }
   ],
   "source": [
    "data.loc[1984]"
   ]
  },
  {
   "cell_type": "code",
   "execution_count": 11,
   "id": "94fbf0f3",
   "metadata": {},
   "outputs": [
    {
     "data": {
      "text/plain": [
       "array(['CARACAS', 'PTO. LA CRUZ', 'GUACARA', 'VALENCIA', 'MARACAY',\n",
       "       'MARACAIBO', 'BARINAS', 'CORO', 'LA VICTORIA', 'BARQUISIMETO',\n",
       "       'PORLAMAR', 'SAN CRISTOBAL', 'PTO.ORDAZ', 'BARCELONA', 'CUMANA',\n",
       "       'SAN FELIPE', 'TUREN', 'CIUDAD BOLIVAR', 'MERIDA', 'MATURIN',\n",
       "       'CHARALLAVE', 'CABIMAS', 'PTO. FIJO', 'SAN FERNANDO', 'TRUJILLO',\n",
       "       'OCUMARE DEL TUY', 'SAN JUAN', 'UPATA', 'EL TIGRE', 'LOS TEQUES',\n",
       "       'CARUPANO', 'ANACO', 'LA GUAIRA', 'VALERA', 'SAN JUAN ',\n",
       "       'ACARIGUA', 'SAN ANTONIO', 'PTO. ORDAZ', 'TUCUPITA', 'EL VIGIA',\n",
       "       'YAGUA', nan, 'PTO- FIJO', 'SAN CARLOS', 'EL TIGRITO', 'GUARENAS',\n",
       "       'PUNTO FIJO', 'HDL', 'TURMERO', 'CANTAURA', 'GUANARE', 'PTO FIJO',\n",
       "       'VALLE DE LA PASCUA', 'CAGUA', 'LOS GUAYOS', 'CALABOZO',\n",
       "       'STA. TERESA DEL TUY', 'TINAQUILLO', 'MARCAY', 'GUATIRE',\n",
       "       'PTO.LA CRUZ', 'SAN FELIX', 'PAMPATAR', 'CIACARA DEL ORINOCO',\n",
       "       'TINACO', 'SAN JUAN DE LOS MORROS'], dtype=object)"
      ]
     },
     "execution_count": 11,
     "metadata": {},
     "output_type": "execute_result"
    }
   ],
   "source": [
    "data['CIUDAD'].unique()"
   ]
  },
  {
   "cell_type": "code",
   "execution_count": 12,
   "id": "6cb5f808",
   "metadata": {},
   "outputs": [],
   "source": [
    "data['CIUDAD'] = data['CIUDAD'].replace({'PTO. LA CRUZ': 'PUERTO LA CRUZ', 'PTO.LA CRUZ': 'PUERTO LA CRUZ',\n",
    "                                        'PTO FIJO': 'PUNTO FIJO','PTO. FIJO': 'PUNTO FIJO',\n",
    "                                        'PTO- FIJO': 'PUNTO FIJO', 'CIACARA DEL ORINOCO': 'CAUCARA DEL ORINOCO', \n",
    "                                        'PTO.ORDAZ':'PUERTO ORDAZ','PTO. ORDAZ' : 'PUERTO ORDAZ',\n",
    "                                        'SAN JUAN ': 'SAN JUAN', 'MARCAY':'MARACAY'})"
   ]
  },
  {
   "cell_type": "code",
   "execution_count": 25,
   "id": "4ccd1cab",
   "metadata": {},
   "outputs": [
    {
     "data": {
      "text/plain": [
       "CARACAS                   910\n",
       "MARACAIBO                 256\n",
       "VALENCIA                  141\n",
       "BARQUISIMETO              111\n",
       "MARACAY                   107\n",
       "SAN CRISTOBAL              72\n",
       "PUERTO ORDAZ               57\n",
       "PUERTO LA CRUZ             54\n",
       "PUNTO FIJO                 47\n",
       "MERIDA                     40\n",
       "MATURIN                    37\n",
       "CIUDAD BOLIVAR             29\n",
       "PORLAMAR                   27\n",
       "LOS TEQUES                 23\n",
       "CORO                       17\n",
       "SAN JUAN                   14\n",
       "LA VICTORIA                13\n",
       "TRUJILLO                   12\n",
       "BARINAS                    10\n",
       "BARCELONA                  10\n",
       "ACARIGUA                    8\n",
       "SAN FERNANDO                7\n",
       "CUMANA                      7\n",
       "LA GUAIRA                   7\n",
       "SAN FELIPE                  6\n",
       "EL TIGRE                    6\n",
       "GUANARE                     4\n",
       "VALERA                      4\n",
       "SAN CARLOS                  3\n",
       "CAGUA                       3\n",
       "GUARENAS                    3\n",
       "CANTAURA                    2\n",
       "EL TIGRITO                  2\n",
       "TURMERO                     2\n",
       "STA. TERESA DEL TUY         2\n",
       "EL VIGIA                    2\n",
       "TUCUPITA                    2\n",
       "SAN ANTONIO                 2\n",
       "ANACO                       2\n",
       "CARUPANO                    2\n",
       "GUACARA                     2\n",
       "OCUMARE DEL TUY             2\n",
       "CABIMAS                     2\n",
       "TUREN                       1\n",
       "TINACO                      1\n",
       "CAUCARA DEL ORINOCO         1\n",
       "PAMPATAR                    1\n",
       "SAN FELIX                   1\n",
       "GUATIRE                     1\n",
       "TINAQUILLO                  1\n",
       "CHARALLAVE                  1\n",
       "CALABOZO                    1\n",
       "LOS GUAYOS                  1\n",
       "YAGUA                       1\n",
       "VALLE DE LA PASCUA          1\n",
       "UPATA                       1\n",
       "HDL                         1\n",
       "SAN JUAN DE LOS MORROS      1\n",
       "Name: CIUDAD, dtype: int64"
      ]
     },
     "execution_count": 25,
     "metadata": {},
     "output_type": "execute_result"
    }
   ],
   "source": [
    "data['CIUDAD'].value_counts()"
   ]
  },
  {
   "cell_type": "code",
   "execution_count": 14,
   "id": "ed86b47b",
   "metadata": {},
   "outputs": [
    {
     "data": {
      "text/plain": [
       "array(['REBIF', 'BETAFERON', 'AVONEX', 'TYSABRI', 'GILENYA', 'COPAXONE',\n",
       "       'NINGUNO', 'TECFIDERA', 'AUBAGIO', nan, 'AVONEX ', 'AZATIOPRINA',\n",
       "       'NO EM', 'LEMTRADA', 'OCREVUS'], dtype=object)"
      ]
     },
     "execution_count": 14,
     "metadata": {},
     "output_type": "execute_result"
    }
   ],
   "source": [
    "data['TRATAMIENTO'].unique()"
   ]
  },
  {
   "cell_type": "code",
   "execution_count": 15,
   "id": "5364b1f3",
   "metadata": {},
   "outputs": [],
   "source": [
    "data['TRATAMIENTO'] = data['TRATAMIENTO'].replace({'AVONEX ': 'AVONEX'})"
   ]
  },
  {
   "cell_type": "code",
   "execution_count": 16,
   "id": "2afc2efe",
   "metadata": {},
   "outputs": [
    {
     "data": {
      "text/plain": [
       "array(['REBIF', 'BETAFERON', 'AVONEX', 'TYSABRI', 'GILENYA', 'COPAXONE',\n",
       "       'NINGUNO', 'TECFIDERA', 'AUBAGIO', nan, 'AZATIOPRINA', 'NO EM',\n",
       "       'LEMTRADA', 'OCREVUS'], dtype=object)"
      ]
     },
     "execution_count": 16,
     "metadata": {},
     "output_type": "execute_result"
    }
   ],
   "source": [
    "data['TRATAMIENTO'].unique()"
   ]
  },
  {
   "cell_type": "code",
   "execution_count": 27,
   "id": "0efa37fb",
   "metadata": {},
   "outputs": [
    {
     "data": {
      "text/plain": [
       "REBIF          679\n",
       "AVONEX         579\n",
       "BETAFERON      446\n",
       "COPAXONE       206\n",
       "TYSABRI        137\n",
       "GILENYA         23\n",
       "NINGUNO          9\n",
       "LEMTRADA         5\n",
       "OCREVUS          5\n",
       "TECFIDERA        2\n",
       "AUBAGIO          1\n",
       "AZATIOPRINA      1\n",
       "NO EM            1\n",
       "Name: TRATAMIENTO, dtype: int64"
      ]
     },
     "execution_count": 27,
     "metadata": {},
     "output_type": "execute_result"
    }
   ],
   "source": [
    "data['TRATAMIENTO'].value_counts()"
   ]
  },
  {
   "cell_type": "code",
   "execution_count": 18,
   "id": "abd42231",
   "metadata": {},
   "outputs": [],
   "source": [
    "data = data.dropna(subset=['TRATAMIENTO'])"
   ]
  },
  {
   "cell_type": "code",
   "execution_count": 19,
   "id": "82358808",
   "metadata": {},
   "outputs": [
    {
     "data": {
      "text/plain": [
       "EDAD           13\n",
       "SEXO           48\n",
       "TRATAMIENTO     0\n",
       "CIUDAD         10\n",
       "INICIO TTO.    16\n",
       "dtype: int64"
      ]
     },
     "execution_count": 19,
     "metadata": {},
     "output_type": "execute_result"
    }
   ],
   "source": [
    "data.isnull().sum()"
   ]
  },
  {
   "cell_type": "code",
   "execution_count": 20,
   "id": "ac343f33",
   "metadata": {},
   "outputs": [],
   "source": [
    "data['PRECIO TRATAMIENTO USD'] = 0"
   ]
  },
  {
   "cell_type": "code",
   "execution_count": 21,
   "id": "c067d887",
   "metadata": {},
   "outputs": [],
   "source": [
    "precios_tratamientos = {'AVONEX': 18000,\n",
    "                        'BETAFERON': 26000,\n",
    "                        'REBIF': 24000,\n",
    "                        'COPAXONE': 14000,\n",
    "                        'TYSABRI': 36000,\n",
    "                        'GILENYA': 32000,\n",
    "                        'LEMTRADA': 80000,\n",
    "                        'OCREVUS': 24000\n",
    "                        }"
   ]
  },
  {
   "cell_type": "code",
   "execution_count": 22,
   "id": "65b1e5ac",
   "metadata": {},
   "outputs": [],
   "source": [
    "data['PRECIO TTO ($)'] = data['TRATAMIENTO'].map(precios_tratamientos)"
   ]
  },
  {
   "cell_type": "code",
   "execution_count": 23,
   "id": "d45e349f",
   "metadata": {},
   "outputs": [
    {
     "data": {
      "text/html": [
       "<div>\n",
       "<style scoped>\n",
       "    .dataframe tbody tr th:only-of-type {\n",
       "        vertical-align: middle;\n",
       "    }\n",
       "\n",
       "    .dataframe tbody tr th {\n",
       "        vertical-align: top;\n",
       "    }\n",
       "\n",
       "    .dataframe thead th {\n",
       "        text-align: right;\n",
       "    }\n",
       "</style>\n",
       "<table border=\"1\" class=\"dataframe\">\n",
       "  <thead>\n",
       "    <tr style=\"text-align: right;\">\n",
       "      <th></th>\n",
       "      <th>EDAD</th>\n",
       "      <th>SEXO</th>\n",
       "      <th>TRATAMIENTO</th>\n",
       "      <th>CIUDAD</th>\n",
       "      <th>INICIO TTO.</th>\n",
       "      <th>PRECIO TTO ($)</th>\n",
       "    </tr>\n",
       "  </thead>\n",
       "  <tbody>\n",
       "    <tr>\n",
       "      <th>0</th>\n",
       "      <td>45</td>\n",
       "      <td>M</td>\n",
       "      <td>REBIF</td>\n",
       "      <td>CARACAS</td>\n",
       "      <td>2002-09-01 00:00:00</td>\n",
       "      <td>24000.0</td>\n",
       "    </tr>\n",
       "    <tr>\n",
       "      <th>1</th>\n",
       "      <td>43</td>\n",
       "      <td>F</td>\n",
       "      <td>BETAFERON</td>\n",
       "      <td>PUERTO LA CRUZ</td>\n",
       "      <td>2001-06-01 00:00:00</td>\n",
       "      <td>26000.0</td>\n",
       "    </tr>\n",
       "    <tr>\n",
       "      <th>2</th>\n",
       "      <td>39</td>\n",
       "      <td>F</td>\n",
       "      <td>BETAFERON</td>\n",
       "      <td>GUACARA</td>\n",
       "      <td>2010-08-01 00:00:00</td>\n",
       "      <td>26000.0</td>\n",
       "    </tr>\n",
       "    <tr>\n",
       "      <th>3</th>\n",
       "      <td>35</td>\n",
       "      <td>F</td>\n",
       "      <td>AVONEX</td>\n",
       "      <td>CARACAS</td>\n",
       "      <td>2004-07-01 00:00:00</td>\n",
       "      <td>18000.0</td>\n",
       "    </tr>\n",
       "    <tr>\n",
       "      <th>4</th>\n",
       "      <td>46</td>\n",
       "      <td>M</td>\n",
       "      <td>TYSABRI</td>\n",
       "      <td>VALENCIA</td>\n",
       "      <td>2007-04-01 00:00:00</td>\n",
       "      <td>36000.0</td>\n",
       "    </tr>\n",
       "    <tr>\n",
       "      <th>...</th>\n",
       "      <td>...</td>\n",
       "      <td>...</td>\n",
       "      <td>...</td>\n",
       "      <td>...</td>\n",
       "      <td>...</td>\n",
       "      <td>...</td>\n",
       "    </tr>\n",
       "    <tr>\n",
       "      <th>2093</th>\n",
       "      <td>NaN</td>\n",
       "      <td>NaN</td>\n",
       "      <td>OCREVUS</td>\n",
       "      <td>NaN</td>\n",
       "      <td>NaN</td>\n",
       "      <td>24000.0</td>\n",
       "    </tr>\n",
       "    <tr>\n",
       "      <th>2094</th>\n",
       "      <td>NaN</td>\n",
       "      <td>NaN</td>\n",
       "      <td>OCREVUS</td>\n",
       "      <td>NaN</td>\n",
       "      <td>NaN</td>\n",
       "      <td>24000.0</td>\n",
       "    </tr>\n",
       "    <tr>\n",
       "      <th>2095</th>\n",
       "      <td>NaN</td>\n",
       "      <td>NaN</td>\n",
       "      <td>OCREVUS</td>\n",
       "      <td>NaN</td>\n",
       "      <td>NaN</td>\n",
       "      <td>24000.0</td>\n",
       "    </tr>\n",
       "    <tr>\n",
       "      <th>2096</th>\n",
       "      <td>NaN</td>\n",
       "      <td>NaN</td>\n",
       "      <td>OCREVUS</td>\n",
       "      <td>NaN</td>\n",
       "      <td>NaN</td>\n",
       "      <td>24000.0</td>\n",
       "    </tr>\n",
       "    <tr>\n",
       "      <th>2097</th>\n",
       "      <td>NaN</td>\n",
       "      <td>NaN</td>\n",
       "      <td>OCREVUS</td>\n",
       "      <td>NaN</td>\n",
       "      <td>NaN</td>\n",
       "      <td>24000.0</td>\n",
       "    </tr>\n",
       "  </tbody>\n",
       "</table>\n",
       "<p>2094 rows × 6 columns</p>\n",
       "</div>"
      ],
      "text/plain": [
       "     EDAD SEXO TRATAMIENTO          CIUDAD          INICIO TTO.  \\\n",
       "0      45    M       REBIF         CARACAS  2002-09-01 00:00:00   \n",
       "1      43    F   BETAFERON  PUERTO LA CRUZ  2001-06-01 00:00:00   \n",
       "2      39    F   BETAFERON         GUACARA  2010-08-01 00:00:00   \n",
       "3      35    F      AVONEX         CARACAS  2004-07-01 00:00:00   \n",
       "4      46    M     TYSABRI        VALENCIA  2007-04-01 00:00:00   \n",
       "...   ...  ...         ...             ...                  ...   \n",
       "2093  NaN  NaN     OCREVUS             NaN                  NaN   \n",
       "2094  NaN  NaN     OCREVUS             NaN                  NaN   \n",
       "2095  NaN  NaN     OCREVUS             NaN                  NaN   \n",
       "2096  NaN  NaN     OCREVUS             NaN                  NaN   \n",
       "2097  NaN  NaN     OCREVUS             NaN                  NaN   \n",
       "\n",
       "      PRECIO TTO ($)  \n",
       "0            24000.0  \n",
       "1            26000.0  \n",
       "2            26000.0  \n",
       "3            18000.0  \n",
       "4            36000.0  \n",
       "...              ...  \n",
       "2093         24000.0  \n",
       "2094         24000.0  \n",
       "2095         24000.0  \n",
       "2096         24000.0  \n",
       "2097         24000.0  \n",
       "\n",
       "[2094 rows x 6 columns]"
      ]
     },
     "execution_count": 23,
     "metadata": {},
     "output_type": "execute_result"
    }
   ],
   "source": [
    "data"
   ]
  },
  {
   "cell_type": "code",
   "execution_count": null,
   "id": "804bc968",
   "metadata": {},
   "outputs": [],
   "source": []
  }
 ],
 "metadata": {
  "kernelspec": {
   "display_name": "Python 3 (ipykernel)",
   "language": "python",
   "name": "python3"
  },
  "language_info": {
   "codemirror_mode": {
    "name": "ipython",
    "version": 3
   },
   "file_extension": ".py",
   "mimetype": "text/x-python",
   "name": "python",
   "nbconvert_exporter": "python",
   "pygments_lexer": "ipython3",
   "version": "3.11.4"
  }
 },
 "nbformat": 4,
 "nbformat_minor": 5
}
