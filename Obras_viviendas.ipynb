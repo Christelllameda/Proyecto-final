{
 "cells": [
  {
   "cell_type": "code",
   "execution_count": null,
   "id": "891642db",
   "metadata": {},
   "outputs": [],
   "source": [
    "#pip install nbimporter"
   ]
  },
  {
   "cell_type": "code",
   "execution_count": 74,
   "id": "9d0c6c06",
   "metadata": {},
   "outputs": [],
   "source": [
    "import warnings\n",
    "warnings.filterwarnings('ignore')"
   ]
  },
  {
   "cell_type": "code",
   "execution_count": 75,
   "id": "a01977fd",
   "metadata": {},
   "outputs": [],
   "source": [
    "import pandas as pd\n",
    "import numpy as np\n",
    "from selenium.webdriver.chrome.options import Options\n",
    "from webdriver_manager.chrome import ChromeDriverManager\n",
    "from selenium import webdriver\n",
    "from selenium.webdriver.common.by import By\n",
    "import re"
   ]
  },
  {
   "cell_type": "code",
   "execution_count": 76,
   "id": "4dc27257",
   "metadata": {},
   "outputs": [],
   "source": [
    "from geopy.geocoders import Nominatim\n",
    "geolocator = Nominatim(user_agent=\"obras_vzla\")\n",
    "import time "
   ]
  },
  {
   "cell_type": "code",
   "execution_count": 77,
   "id": "0ce297cb",
   "metadata": {},
   "outputs": [],
   "source": [
    "#driver configuration\n",
    "opciones=Options()\n",
    "opciones.add_experimental_option('excludeSwitches', ['enable-automation'])\n",
    "opciones.add_experimental_option('useAutomationExtension', False)\n",
    "opciones.headless=False    # si True, no aperece la ventana (headless=no visible)\n",
    "opciones.add_argument('--start-maximized')         # comienza maximizado\n",
    "#opciones.add_argument('user-data-dir=selenium')    # mantiene las cookies\n",
    "#opciones.add_extension('driver_folder/adblock.crx')       # adblocker\n",
    "opciones.add_argument('--incognito')"
   ]
  },
  {
   "cell_type": "markdown",
   "id": "ee967700",
   "metadata": {},
   "source": [
    "### Para comenzar con el scrapping, importamos las funciones que tenemos en el archivo 'procesos'"
   ]
  },
  {
   "cell_type": "code",
   "execution_count": 78,
   "id": "cab3e943",
   "metadata": {},
   "outputs": [],
   "source": [
    "from procesos import *"
   ]
  },
  {
   "cell_type": "markdown",
   "id": "5af01e4d",
   "metadata": {},
   "source": [
    "### Establecemos el nombre de las columnas que tendrá el dataframe"
   ]
  },
  {
   "cell_type": "code",
   "execution_count": 79,
   "id": "7416d40b",
   "metadata": {},
   "outputs": [],
   "source": [
    "columnas = ['Obra','Status','Ejecución física %','Ejecución financiera %','Estado','Municipio','Dirección','Personas afectadas','Ente responsable','Funcionario responsable','Empresa contratista','Valor total de la obra USD (millones)','Obra financiada por FONDEN','Monto comprometido USD (millones)','Fecha estimada de inicio','Fecha real de inicio','Fecha culminación estimada de la obra','Fecha de paralización']"
   ]
  },
  {
   "cell_type": "markdown",
   "id": "6b246c8c",
   "metadata": {},
   "source": [
    "### Llamamos a la función 'obtener_datos_obra' que realiza el proceso de web scraping (selenium), obtenemos los datos que queremos de la obra y lo convertimos en un dataframe"
   ]
  },
  {
   "cell_type": "code",
   "execution_count": 80,
   "id": "ebee9421",
   "metadata": {},
   "outputs": [],
   "source": [
    "url = 'https://transparenciave.org/obrasinconclusas/obras_inconclusas/complejo-habitacional-che-guevara/'\n",
    "complejo_habitacional = obtener_datos_obra(url)"
   ]
  },
  {
   "cell_type": "code",
   "execution_count": 81,
   "id": "1083b1be",
   "metadata": {},
   "outputs": [
    {
     "data": {
      "text/html": [
       "<div>\n",
       "<style scoped>\n",
       "    .dataframe tbody tr th:only-of-type {\n",
       "        vertical-align: middle;\n",
       "    }\n",
       "\n",
       "    .dataframe tbody tr th {\n",
       "        vertical-align: top;\n",
       "    }\n",
       "\n",
       "    .dataframe thead th {\n",
       "        text-align: right;\n",
       "    }\n",
       "</style>\n",
       "<table border=\"1\" class=\"dataframe\">\n",
       "  <thead>\n",
       "    <tr style=\"text-align: right;\">\n",
       "      <th></th>\n",
       "      <th>Obra</th>\n",
       "      <th>Status</th>\n",
       "      <th>Ejecución física %</th>\n",
       "      <th>Ejecución financiera %</th>\n",
       "      <th>Estado</th>\n",
       "      <th>Municipio</th>\n",
       "      <th>Dirección</th>\n",
       "      <th>Personas afectadas</th>\n",
       "      <th>Ente responsable</th>\n",
       "      <th>Funcionario responsable</th>\n",
       "      <th>Empresa contratista</th>\n",
       "      <th>Valor total de la obra USD (millones)</th>\n",
       "      <th>Obra financiada por FONDEN</th>\n",
       "      <th>Monto comprometido USD (millones)</th>\n",
       "      <th>Fecha estimada de inicio</th>\n",
       "      <th>Fecha real de inicio</th>\n",
       "      <th>Fecha culminación estimada de la obra</th>\n",
       "      <th>Fecha de paralización</th>\n",
       "    </tr>\n",
       "  </thead>\n",
       "  <tbody>\n",
       "    <tr>\n",
       "      <th>0</th>\n",
       "      <td>COMPLEJO HABITACIONAL «CHE GUEVARA»</td>\n",
       "      <td>Con recursos desembolsados - no iniciada</td>\n",
       "      <td>S/I</td>\n",
       "      <td>S/I</td>\n",
       "      <td>Estado Yaracuy</td>\n",
       "      <td>Independencia</td>\n",
       "      <td>Sector San Rafael, Independencia</td>\n",
       "      <td>Entre 0-5.000</td>\n",
       "      <td>Gran Misión Vivienda Venezuela (GMVV)</td>\n",
       "      <td>S/I</td>\n",
       "      <td>S/I</td>\n",
       "      <td>USD 3.174.603</td>\n",
       "      <td>S/I</td>\n",
       "      <td>S/I</td>\n",
       "      <td>Noviembre 2014</td>\n",
       "      <td>S/I</td>\n",
       "      <td>Marzo 2016</td>\n",
       "      <td>S/I</td>\n",
       "    </tr>\n",
       "  </tbody>\n",
       "</table>\n",
       "</div>"
      ],
      "text/plain": [
       "                                  Obra  \\\n",
       "0  COMPLEJO HABITACIONAL «CHE GUEVARA»   \n",
       "\n",
       "                                     Status Ejecución física %  \\\n",
       "0  Con recursos desembolsados - no iniciada                S/I   \n",
       "\n",
       "  Ejecución financiera %          Estado      Municipio  \\\n",
       "0                    S/I  Estado Yaracuy  Independencia   \n",
       "\n",
       "                          Dirección Personas afectadas  \\\n",
       "0  Sector San Rafael, Independencia      Entre 0-5.000   \n",
       "\n",
       "                        Ente responsable Funcionario responsable  \\\n",
       "0  Gran Misión Vivienda Venezuela (GMVV)                     S/I   \n",
       "\n",
       "  Empresa contratista Valor total de la obra USD (millones)  \\\n",
       "0                 S/I                         USD 3.174.603   \n",
       "\n",
       "  Obra financiada por FONDEN Monto comprometido USD (millones)  \\\n",
       "0                        S/I                               S/I   \n",
       "\n",
       "  Fecha estimada de inicio Fecha real de inicio  \\\n",
       "0           Noviembre 2014                  S/I   \n",
       "\n",
       "  Fecha culminación estimada de la obra Fecha de paralización  \n",
       "0                            Marzo 2016                   S/I  "
      ]
     },
     "execution_count": 81,
     "metadata": {},
     "output_type": "execute_result"
    }
   ],
   "source": [
    "df = pd.DataFrame(complejo_habitacional)\n",
    "df = df.T\n",
    "\n",
    "df['Obra financiada por FONDEN'] = 'S/I'\n",
    "df['Monto comprometido'] = 'S/I'\n",
    "\n",
    "#Ordenamos las columnas\n",
    "df = df[[0,1,2,3,4,5,6,7,8,9,10,11,'Obra financiada por FONDEN','Monto comprometido',12,13,14,15]]\n",
    "df.columns = columnas\n",
    "df"
   ]
  },
  {
   "cell_type": "markdown",
   "id": "5c2d2ca2",
   "metadata": {},
   "source": [
    "### Vamos a realizar el mismo procedimiento para las demás obras que tenemos en nuestra página web que estamos scrapeando"
   ]
  },
  {
   "cell_type": "code",
   "execution_count": 82,
   "id": "807dba72",
   "metadata": {},
   "outputs": [],
   "source": [
    "url2 = 'https://transparenciave.org/obrasinconclusas/obras_inconclusas/desarrollo-habitacional-baru-i-baru-ii-y-baru-iii/'\n",
    "complejo_baru = obtener_datos_obra(url2)"
   ]
  },
  {
   "cell_type": "markdown",
   "id": "4d58ac5b",
   "metadata": {},
   "source": [
    "### Observamos que este dato no posee el mismo formato que el dataframe anterior, por lo que eliminamos, agregamos y renombramos columnas para que coincidan todos los datos en el dataframe final"
   ]
  },
  {
   "cell_type": "code",
   "execution_count": 83,
   "id": "d21a0fbf",
   "metadata": {},
   "outputs": [],
   "source": [
    "df2 = pd.DataFrame(complejo_baru)"
   ]
  },
  {
   "cell_type": "code",
   "execution_count": 84,
   "id": "97ebcd76",
   "metadata": {},
   "outputs": [
    {
     "data": {
      "text/html": [
       "<div>\n",
       "<style scoped>\n",
       "    .dataframe tbody tr th:only-of-type {\n",
       "        vertical-align: middle;\n",
       "    }\n",
       "\n",
       "    .dataframe tbody tr th {\n",
       "        vertical-align: top;\n",
       "    }\n",
       "\n",
       "    .dataframe thead th {\n",
       "        text-align: right;\n",
       "    }\n",
       "</style>\n",
       "<table border=\"1\" class=\"dataframe\">\n",
       "  <thead>\n",
       "    <tr style=\"text-align: right;\">\n",
       "      <th></th>\n",
       "      <th>Obra</th>\n",
       "      <th>Status</th>\n",
       "      <th>Ejecución física %</th>\n",
       "      <th>Ejecución financiera %</th>\n",
       "      <th>Estado</th>\n",
       "      <th>Municipio</th>\n",
       "      <th>Dirección</th>\n",
       "      <th>Personas afectadas</th>\n",
       "      <th>Ente responsable</th>\n",
       "      <th>Funcionario responsable</th>\n",
       "      <th>Empresa contratista</th>\n",
       "      <th>Valor total de la obra USD (millones)</th>\n",
       "      <th>Obra financiada por FONDEN</th>\n",
       "      <th>Monto comprometido USD (millones)</th>\n",
       "      <th>Fecha estimada de inicio</th>\n",
       "      <th>Fecha real de inicio</th>\n",
       "      <th>Fecha culminación estimada de la obra</th>\n",
       "      <th>Fecha de paralización</th>\n",
       "    </tr>\n",
       "  </thead>\n",
       "  <tbody>\n",
       "    <tr>\n",
       "      <th>0</th>\n",
       "      <td>DESARROLLO HABITACIONAL BARU I, BARU II Y BARU...</td>\n",
       "      <td>Paralizada</td>\n",
       "      <td>14,53%</td>\n",
       "      <td>S/I</td>\n",
       "      <td>Estado Zulia</td>\n",
       "      <td>San Francisco</td>\n",
       "      <td>Av. Don Manuel Belloso, Base Aérea Rafael Urda...</td>\n",
       "      <td>Entre 0-5.000</td>\n",
       "      <td>Ministerio de Defensa</td>\n",
       "      <td>S/I</td>\n",
       "      <td>S/I</td>\n",
       "      <td>USD 25.636.094</td>\n",
       "      <td>Si</td>\n",
       "      <td>USD 10.069.663,10</td>\n",
       "      <td>30/8/2007</td>\n",
       "      <td>S/I</td>\n",
       "      <td>31/3/2015</td>\n",
       "      <td>S/I</td>\n",
       "    </tr>\n",
       "  </tbody>\n",
       "</table>\n",
       "</div>"
      ],
      "text/plain": [
       "                                                Obra      Status  \\\n",
       "0  DESARROLLO HABITACIONAL BARU I, BARU II Y BARU...  Paralizada   \n",
       "\n",
       "  Ejecución física % Ejecución financiera %        Estado      Municipio  \\\n",
       "0             14,53%                    S/I  Estado Zulia  San Francisco   \n",
       "\n",
       "                                           Dirección Personas afectadas  \\\n",
       "0  Av. Don Manuel Belloso, Base Aérea Rafael Urda...      Entre 0-5.000   \n",
       "\n",
       "        Ente responsable Funcionario responsable Empresa contratista  \\\n",
       "0  Ministerio de Defensa                     S/I                 S/I   \n",
       "\n",
       "  Valor total de la obra USD (millones) Obra financiada por FONDEN  \\\n",
       "0                        USD 25.636.094                         Si   \n",
       "\n",
       "  Monto comprometido USD (millones) Fecha estimada de inicio  \\\n",
       "0                 USD 10.069.663,10                30/8/2007   \n",
       "\n",
       "  Fecha real de inicio Fecha culminación estimada de la obra  \\\n",
       "0                  S/I                             31/3/2015   \n",
       "\n",
       "  Fecha de paralización  \n",
       "0                   S/I  "
      ]
     },
     "execution_count": 84,
     "metadata": {},
     "output_type": "execute_result"
    }
   ],
   "source": [
    "df2 = df2.T #intercambiamos las filas y las columnas para tener la disposición de los datos como deseamos\n",
    "df2 = df2.drop(df2.columns[[2, 3]], axis=1) #eliminamos las columnas 2 y 3 que no tienen información\n",
    "\n",
    "df2.columns = columnas\n",
    "df2"
   ]
  },
  {
   "cell_type": "code",
   "execution_count": 85,
   "id": "a3b8b0d7",
   "metadata": {},
   "outputs": [],
   "source": [
    "url3 = 'https://transparenciave.org/obrasinconclusas/obras_inconclusas/desarrollo-habitacional-nueva-ojeda/'\n",
    "nueva_ojeda = obtener_datos_obra(url3)"
   ]
  },
  {
   "cell_type": "code",
   "execution_count": 86,
   "id": "cdae9fec",
   "metadata": {},
   "outputs": [
    {
     "data": {
      "text/html": [
       "<div>\n",
       "<style scoped>\n",
       "    .dataframe tbody tr th:only-of-type {\n",
       "        vertical-align: middle;\n",
       "    }\n",
       "\n",
       "    .dataframe tbody tr th {\n",
       "        vertical-align: top;\n",
       "    }\n",
       "\n",
       "    .dataframe thead th {\n",
       "        text-align: right;\n",
       "    }\n",
       "</style>\n",
       "<table border=\"1\" class=\"dataframe\">\n",
       "  <thead>\n",
       "    <tr style=\"text-align: right;\">\n",
       "      <th></th>\n",
       "      <th>Obra</th>\n",
       "      <th>Status</th>\n",
       "      <th>Ejecución física %</th>\n",
       "      <th>Ejecución financiera %</th>\n",
       "      <th>Estado</th>\n",
       "      <th>Municipio</th>\n",
       "      <th>Dirección</th>\n",
       "      <th>Personas afectadas</th>\n",
       "      <th>Ente responsable</th>\n",
       "      <th>Funcionario responsable</th>\n",
       "      <th>Empresa contratista</th>\n",
       "      <th>Valor total de la obra USD (millones)</th>\n",
       "      <th>Obra financiada por FONDEN</th>\n",
       "      <th>Monto comprometido USD (millones)</th>\n",
       "      <th>Fecha estimada de inicio</th>\n",
       "      <th>Fecha real de inicio</th>\n",
       "      <th>Fecha culminación estimada de la obra</th>\n",
       "      <th>Fecha de paralización</th>\n",
       "    </tr>\n",
       "  </thead>\n",
       "  <tbody>\n",
       "    <tr>\n",
       "      <th>0</th>\n",
       "      <td>DESARROLLO HABITACIONAL NUEVA OJEDA</td>\n",
       "      <td>Paralizada</td>\n",
       "      <td>70%</td>\n",
       "      <td>S/I</td>\n",
       "      <td>Estado Zulia</td>\n",
       "      <td>Lagunillas</td>\n",
       "      <td>Carretera U, sector El Menito. Ciudad Ojeda.</td>\n",
       "      <td>Entre 0-5.000</td>\n",
       "      <td>Gran Misión Vivienda Venezuela (GMVV) / Misión...</td>\n",
       "      <td>S/I</td>\n",
       "      <td>Iranian International Housing Company, C. A.</td>\n",
       "      <td>USD 518.550.100</td>\n",
       "      <td>Si</td>\n",
       "      <td>USD 166.143.982,21</td>\n",
       "      <td>28/08/2009</td>\n",
       "      <td>S/I</td>\n",
       "      <td>30/07/2014</td>\n",
       "      <td>S/I</td>\n",
       "    </tr>\n",
       "  </tbody>\n",
       "</table>\n",
       "</div>"
      ],
      "text/plain": [
       "                                  Obra      Status Ejecución física %  \\\n",
       "0  DESARROLLO HABITACIONAL NUEVA OJEDA  Paralizada                70%   \n",
       "\n",
       "  Ejecución financiera %        Estado   Municipio  \\\n",
       "0                    S/I  Estado Zulia  Lagunillas   \n",
       "\n",
       "                                      Dirección Personas afectadas  \\\n",
       "0  Carretera U, sector El Menito. Ciudad Ojeda.      Entre 0-5.000   \n",
       "\n",
       "                                    Ente responsable Funcionario responsable  \\\n",
       "0  Gran Misión Vivienda Venezuela (GMVV) / Misión...                     S/I   \n",
       "\n",
       "                            Empresa contratista  \\\n",
       "0  Iranian International Housing Company, C. A.   \n",
       "\n",
       "  Valor total de la obra USD (millones) Obra financiada por FONDEN  \\\n",
       "0                       USD 518.550.100                         Si   \n",
       "\n",
       "  Monto comprometido USD (millones) Fecha estimada de inicio  \\\n",
       "0                USD 166.143.982,21               28/08/2009   \n",
       "\n",
       "  Fecha real de inicio Fecha culminación estimada de la obra  \\\n",
       "0                  S/I                            30/07/2014   \n",
       "\n",
       "  Fecha de paralización  \n",
       "0                   S/I  "
      ]
     },
     "execution_count": 86,
     "metadata": {},
     "output_type": "execute_result"
    }
   ],
   "source": [
    "df3 = pd.DataFrame(nueva_ojeda)\n",
    "df3 = df3.T\n",
    "\n",
    "df3 = df3.drop(df3.columns[[2, 3]], axis=1) #eliminamos las columnas 2 y 3 que no tienen información\n",
    "df3.columns = columnas\n",
    "df3"
   ]
  },
  {
   "cell_type": "code",
   "execution_count": 87,
   "id": "86d0a486",
   "metadata": {},
   "outputs": [],
   "source": [
    "url4 = 'https://transparenciave.org/obrasinconclusas/obras_inconclusas/urbanizacion-banco-obrero/'\n",
    "banco_obrero = obtener_datos_obra(url4)"
   ]
  },
  {
   "cell_type": "code",
   "execution_count": 88,
   "id": "db966821",
   "metadata": {},
   "outputs": [
    {
     "data": {
      "text/html": [
       "<div>\n",
       "<style scoped>\n",
       "    .dataframe tbody tr th:only-of-type {\n",
       "        vertical-align: middle;\n",
       "    }\n",
       "\n",
       "    .dataframe tbody tr th {\n",
       "        vertical-align: top;\n",
       "    }\n",
       "\n",
       "    .dataframe thead th {\n",
       "        text-align: right;\n",
       "    }\n",
       "</style>\n",
       "<table border=\"1\" class=\"dataframe\">\n",
       "  <thead>\n",
       "    <tr style=\"text-align: right;\">\n",
       "      <th></th>\n",
       "      <th>Obra</th>\n",
       "      <th>Status</th>\n",
       "      <th>Ejecución física %</th>\n",
       "      <th>Ejecución financiera %</th>\n",
       "      <th>Estado</th>\n",
       "      <th>Municipio</th>\n",
       "      <th>Dirección</th>\n",
       "      <th>Personas afectadas</th>\n",
       "      <th>Ente responsable</th>\n",
       "      <th>Funcionario responsable</th>\n",
       "      <th>Empresa contratista</th>\n",
       "      <th>Valor total de la obra USD (millones)</th>\n",
       "      <th>Obra financiada por FONDEN</th>\n",
       "      <th>Monto comprometido USD (millones)</th>\n",
       "      <th>Fecha estimada de inicio</th>\n",
       "      <th>Fecha real de inicio</th>\n",
       "      <th>Fecha culminación estimada de la obra</th>\n",
       "      <th>Fecha de paralización</th>\n",
       "    </tr>\n",
       "  </thead>\n",
       "  <tbody>\n",
       "    <tr>\n",
       "      <th>0</th>\n",
       "      <td>URBANIZACIÓN BANCO OBRERO</td>\n",
       "      <td>Paralizada</td>\n",
       "      <td>15%</td>\n",
       "      <td>S/I</td>\n",
       "      <td>Estado Yaracuy</td>\n",
       "      <td>San Felipe</td>\n",
       "      <td>San Felipe</td>\n",
       "      <td>Entre 0-5.000</td>\n",
       "      <td>Gran Misión Vivienda Venezuela (GMVV)</td>\n",
       "      <td>S/I</td>\n",
       "      <td>S/I</td>\n",
       "      <td>USD 28.571.429</td>\n",
       "      <td>S/I</td>\n",
       "      <td>S/I</td>\n",
       "      <td>Noviembre 2014</td>\n",
       "      <td>2015</td>\n",
       "      <td>2015</td>\n",
       "      <td>2015</td>\n",
       "    </tr>\n",
       "  </tbody>\n",
       "</table>\n",
       "</div>"
      ],
      "text/plain": [
       "                        Obra      Status Ejecución física %  \\\n",
       "0  URBANIZACIÓN BANCO OBRERO  Paralizada                15%   \n",
       "\n",
       "  Ejecución financiera %          Estado   Municipio   Dirección  \\\n",
       "0                    S/I  Estado Yaracuy  San Felipe  San Felipe   \n",
       "\n",
       "  Personas afectadas                       Ente responsable  \\\n",
       "0      Entre 0-5.000  Gran Misión Vivienda Venezuela (GMVV)   \n",
       "\n",
       "  Funcionario responsable Empresa contratista  \\\n",
       "0                     S/I                 S/I   \n",
       "\n",
       "  Valor total de la obra USD (millones) Obra financiada por FONDEN  \\\n",
       "0                        USD 28.571.429                        S/I   \n",
       "\n",
       "  Monto comprometido USD (millones) Fecha estimada de inicio  \\\n",
       "0                               S/I           Noviembre 2014   \n",
       "\n",
       "  Fecha real de inicio Fecha culminación estimada de la obra  \\\n",
       "0                 2015                                  2015   \n",
       "\n",
       "  Fecha de paralización  \n",
       "0                  2015  "
      ]
     },
     "execution_count": 88,
     "metadata": {},
     "output_type": "execute_result"
    }
   ],
   "source": [
    "df4 = pd.DataFrame(banco_obrero)\n",
    "df4 = df4.T\n",
    "\n",
    "df4 = df4.drop(df4.columns[[2, 3]], axis=1) #eliminamos las columnas 2 y 3 que no tienen información\n",
    "\n",
    "df4['Obra financiada por FONDEN'] = 'S/I'  #agregamos las columnas para que todo el formato se mantenga\n",
    "df4['Monto comprometido'] = 'S/I'\n",
    "\n",
    "#Ordenamos las columnas\n",
    "df4 = df4[[0,1,4,5,6,7,8,9,10,11,12,13,'Obra financiada por FONDEN','Monto comprometido',14,15,16,17]]\n",
    "df4.columns = columnas\n",
    "\n",
    "df4"
   ]
  },
  {
   "cell_type": "code",
   "execution_count": 89,
   "id": "62fb1229",
   "metadata": {},
   "outputs": [],
   "source": [
    "url5 = 'https://transparenciave.org/obrasinconclusas/obras_inconclusas/conjunto-de-residencias-av-cedeno/'\n",
    "av_cedeno = obtener_datos_obra(url5)"
   ]
  },
  {
   "cell_type": "code",
   "execution_count": 90,
   "id": "c57940ea",
   "metadata": {},
   "outputs": [],
   "source": [
    "df5 = pd.DataFrame(av_cedeno)\n",
    "df5 = df5.T\n",
    "\n",
    "df5['Obra financiada por FONDEN'] = 'S/I'\n",
    "df5['Monto comprometido'] = 'S/I'\n",
    "\n",
    "#Ordenamos las columnas\n",
    "df5 = df5[[0,1,2,3,4,5,6,7,8,9,10,11,'Obra financiada por FONDEN','Monto comprometido',12,13,14,15]]\n",
    "df5.columns = columnas\n"
   ]
  },
  {
   "cell_type": "code",
   "execution_count": 91,
   "id": "1cb4c0a2",
   "metadata": {},
   "outputs": [],
   "source": [
    "url6 = 'https://transparenciave.org/obrasinconclusas/obras_inconclusas/construccion-urbanismo-che-guevara-de-la-mision-vivienda/'\n",
    "che_guevara = obtener_datos_obra(url6)"
   ]
  },
  {
   "cell_type": "code",
   "execution_count": 92,
   "id": "658d9402",
   "metadata": {},
   "outputs": [
    {
     "data": {
      "text/html": [
       "<div>\n",
       "<style scoped>\n",
       "    .dataframe tbody tr th:only-of-type {\n",
       "        vertical-align: middle;\n",
       "    }\n",
       "\n",
       "    .dataframe tbody tr th {\n",
       "        vertical-align: top;\n",
       "    }\n",
       "\n",
       "    .dataframe thead th {\n",
       "        text-align: right;\n",
       "    }\n",
       "</style>\n",
       "<table border=\"1\" class=\"dataframe\">\n",
       "  <thead>\n",
       "    <tr style=\"text-align: right;\">\n",
       "      <th></th>\n",
       "      <th>Obra</th>\n",
       "      <th>Status</th>\n",
       "      <th>Ejecución física %</th>\n",
       "      <th>Ejecución financiera %</th>\n",
       "      <th>Estado</th>\n",
       "      <th>Municipio</th>\n",
       "      <th>Dirección</th>\n",
       "      <th>Personas afectadas</th>\n",
       "      <th>Ente responsable</th>\n",
       "      <th>Funcionario responsable</th>\n",
       "      <th>Empresa contratista</th>\n",
       "      <th>Valor total de la obra USD (millones)</th>\n",
       "      <th>Obra financiada por FONDEN</th>\n",
       "      <th>Monto comprometido USD (millones)</th>\n",
       "      <th>Fecha estimada de inicio</th>\n",
       "      <th>Fecha real de inicio</th>\n",
       "      <th>Fecha culminación estimada de la obra</th>\n",
       "      <th>Fecha de paralización</th>\n",
       "    </tr>\n",
       "  </thead>\n",
       "  <tbody>\n",
       "    <tr>\n",
       "      <th>0</th>\n",
       "      <td>CONSTRUCCIÓN URBANISMO CHE GUEVARA DE LA MISIÓ...</td>\n",
       "      <td>Paralizada</td>\n",
       "      <td>30%</td>\n",
       "      <td>S/I</td>\n",
       "      <td>Estado Lara</td>\n",
       "      <td>Palavecino</td>\n",
       "      <td>Parroquia José Gregorio Bastidas</td>\n",
       "      <td>Entre 0-5.000</td>\n",
       "      <td>Corporación de Desarrollo \"Jacinto Lara\" (CORP...</td>\n",
       "      <td>Luis Reyes Reyes</td>\n",
       "      <td>S/I</td>\n",
       "      <td>USD 46.766.793</td>\n",
       "      <td>S/I</td>\n",
       "      <td>S/I</td>\n",
       "      <td>2014</td>\n",
       "      <td>2014</td>\n",
       "      <td>2016</td>\n",
       "      <td>S/I</td>\n",
       "    </tr>\n",
       "  </tbody>\n",
       "</table>\n",
       "</div>"
      ],
      "text/plain": [
       "                                                Obra      Status  \\\n",
       "0  CONSTRUCCIÓN URBANISMO CHE GUEVARA DE LA MISIÓ...  Paralizada   \n",
       "\n",
       "  Ejecución física % Ejecución financiera %       Estado   Municipio  \\\n",
       "0                30%                    S/I  Estado Lara  Palavecino   \n",
       "\n",
       "                          Dirección Personas afectadas  \\\n",
       "0  Parroquia José Gregorio Bastidas      Entre 0-5.000   \n",
       "\n",
       "                                    Ente responsable Funcionario responsable  \\\n",
       "0  Corporación de Desarrollo \"Jacinto Lara\" (CORP...        Luis Reyes Reyes   \n",
       "\n",
       "  Empresa contratista Valor total de la obra USD (millones)  \\\n",
       "0                 S/I                        USD 46.766.793   \n",
       "\n",
       "  Obra financiada por FONDEN Monto comprometido USD (millones)  \\\n",
       "0                        S/I                               S/I   \n",
       "\n",
       "  Fecha estimada de inicio Fecha real de inicio  \\\n",
       "0                     2014                 2014   \n",
       "\n",
       "  Fecha culminación estimada de la obra Fecha de paralización  \n",
       "0                                  2016                   S/I  "
      ]
     },
     "execution_count": 92,
     "metadata": {},
     "output_type": "execute_result"
    }
   ],
   "source": [
    "df6 = pd.DataFrame(che_guevara)\n",
    "df6 = df6.T\n",
    "\n",
    "df6 = df6.drop(df6.columns[[2, 3]], axis=1) #eliminamos las columnas 2 y 3 que no tienen información\n",
    "\n",
    "df6['Obra financiada por FONDEN'] = 'S/I'\n",
    "df6['Monto comprometido'] = 'S/I'\n",
    "\n",
    "df6 = df6[[0,1,4,5,6,7,8,9,10,11,12,13,'Obra financiada por FONDEN','Monto comprometido',14,15,16,17]]\n",
    "df6.columns = columnas\n",
    "\n",
    "df6"
   ]
  },
  {
   "cell_type": "markdown",
   "id": "64fdb5d0",
   "metadata": {},
   "source": [
    "### Procedemos a juntar todos los dataframes"
   ]
  },
  {
   "cell_type": "code",
   "execution_count": 119,
   "id": "d2e1e5b5",
   "metadata": {},
   "outputs": [],
   "source": [
    "# Concatena los DataFrames en uno solo\n",
    "data_viviendas = pd.concat([df,df2,df3,df4,df5,df6],ignore_index=True)"
   ]
  },
  {
   "cell_type": "code",
   "execution_count": 120,
   "id": "452dc43a",
   "metadata": {},
   "outputs": [
    {
     "data": {
      "text/html": [
       "<div>\n",
       "<style scoped>\n",
       "    .dataframe tbody tr th:only-of-type {\n",
       "        vertical-align: middle;\n",
       "    }\n",
       "\n",
       "    .dataframe tbody tr th {\n",
       "        vertical-align: top;\n",
       "    }\n",
       "\n",
       "    .dataframe thead th {\n",
       "        text-align: right;\n",
       "    }\n",
       "</style>\n",
       "<table border=\"1\" class=\"dataframe\">\n",
       "  <thead>\n",
       "    <tr style=\"text-align: right;\">\n",
       "      <th></th>\n",
       "      <th>Obra</th>\n",
       "      <th>Status</th>\n",
       "      <th>Ejecución física %</th>\n",
       "      <th>Ejecución financiera %</th>\n",
       "      <th>Estado</th>\n",
       "      <th>Municipio</th>\n",
       "      <th>Dirección</th>\n",
       "      <th>Personas afectadas</th>\n",
       "      <th>Ente responsable</th>\n",
       "      <th>Funcionario responsable</th>\n",
       "      <th>Empresa contratista</th>\n",
       "      <th>Valor total de la obra USD (millones)</th>\n",
       "      <th>Obra financiada por FONDEN</th>\n",
       "      <th>Monto comprometido USD (millones)</th>\n",
       "      <th>Fecha estimada de inicio</th>\n",
       "      <th>Fecha real de inicio</th>\n",
       "      <th>Fecha culminación estimada de la obra</th>\n",
       "      <th>Fecha de paralización</th>\n",
       "    </tr>\n",
       "  </thead>\n",
       "  <tbody>\n",
       "    <tr>\n",
       "      <th>0</th>\n",
       "      <td>COMPLEJO HABITACIONAL «CHE GUEVARA»</td>\n",
       "      <td>Con recursos desembolsados - no iniciada</td>\n",
       "      <td>S/I</td>\n",
       "      <td>S/I</td>\n",
       "      <td>Estado Yaracuy</td>\n",
       "      <td>Independencia</td>\n",
       "      <td>Sector San Rafael, Independencia</td>\n",
       "      <td>Entre 0-5.000</td>\n",
       "      <td>Gran Misión Vivienda Venezuela (GMVV)</td>\n",
       "      <td>S/I</td>\n",
       "      <td>S/I</td>\n",
       "      <td>USD 3.174.603</td>\n",
       "      <td>S/I</td>\n",
       "      <td>S/I</td>\n",
       "      <td>Noviembre 2014</td>\n",
       "      <td>S/I</td>\n",
       "      <td>Marzo 2016</td>\n",
       "      <td>S/I</td>\n",
       "    </tr>\n",
       "    <tr>\n",
       "      <th>1</th>\n",
       "      <td>DESARROLLO HABITACIONAL BARU I, BARU II Y BARU...</td>\n",
       "      <td>Paralizada</td>\n",
       "      <td>14,53%</td>\n",
       "      <td>S/I</td>\n",
       "      <td>Estado Zulia</td>\n",
       "      <td>San Francisco</td>\n",
       "      <td>Av. Don Manuel Belloso, Base Aérea Rafael Urda...</td>\n",
       "      <td>Entre 0-5.000</td>\n",
       "      <td>Ministerio de Defensa</td>\n",
       "      <td>S/I</td>\n",
       "      <td>S/I</td>\n",
       "      <td>USD 25.636.094</td>\n",
       "      <td>Si</td>\n",
       "      <td>USD 10.069.663,10</td>\n",
       "      <td>30/8/2007</td>\n",
       "      <td>S/I</td>\n",
       "      <td>31/3/2015</td>\n",
       "      <td>S/I</td>\n",
       "    </tr>\n",
       "    <tr>\n",
       "      <th>2</th>\n",
       "      <td>DESARROLLO HABITACIONAL NUEVA OJEDA</td>\n",
       "      <td>Paralizada</td>\n",
       "      <td>70%</td>\n",
       "      <td>S/I</td>\n",
       "      <td>Estado Zulia</td>\n",
       "      <td>Lagunillas</td>\n",
       "      <td>Carretera U, sector El Menito. Ciudad Ojeda.</td>\n",
       "      <td>Entre 0-5.000</td>\n",
       "      <td>Gran Misión Vivienda Venezuela (GMVV) / Misión...</td>\n",
       "      <td>S/I</td>\n",
       "      <td>Iranian International Housing Company, C. A.</td>\n",
       "      <td>USD 518.550.100</td>\n",
       "      <td>Si</td>\n",
       "      <td>USD 166.143.982,21</td>\n",
       "      <td>28/08/2009</td>\n",
       "      <td>S/I</td>\n",
       "      <td>30/07/2014</td>\n",
       "      <td>S/I</td>\n",
       "    </tr>\n",
       "    <tr>\n",
       "      <th>3</th>\n",
       "      <td>URBANIZACIÓN BANCO OBRERO</td>\n",
       "      <td>Paralizada</td>\n",
       "      <td>15%</td>\n",
       "      <td>S/I</td>\n",
       "      <td>Estado Yaracuy</td>\n",
       "      <td>San Felipe</td>\n",
       "      <td>San Felipe</td>\n",
       "      <td>Entre 0-5.000</td>\n",
       "      <td>Gran Misión Vivienda Venezuela (GMVV)</td>\n",
       "      <td>S/I</td>\n",
       "      <td>S/I</td>\n",
       "      <td>USD 28.571.429</td>\n",
       "      <td>S/I</td>\n",
       "      <td>S/I</td>\n",
       "      <td>Noviembre 2014</td>\n",
       "      <td>2015</td>\n",
       "      <td>2015</td>\n",
       "      <td>2015</td>\n",
       "    </tr>\n",
       "    <tr>\n",
       "      <th>4</th>\n",
       "      <td>CONJUNTO DE RESIDENCIAS AV. CEDEÑO</td>\n",
       "      <td>Paralizada</td>\n",
       "      <td>S/I</td>\n",
       "      <td>S/I</td>\n",
       "      <td>Estado Yaracuy</td>\n",
       "      <td>San Felipe</td>\n",
       "      <td>Av. Cedeño, sector Ruiz Pineda Sur.</td>\n",
       "      <td>Entre 0-5.000</td>\n",
       "      <td>Gran Misión Vivienda Venezuela (GMVV)</td>\n",
       "      <td>S/I</td>\n",
       "      <td>S/I</td>\n",
       "      <td>USD 21.427.472</td>\n",
       "      <td>S/I</td>\n",
       "      <td>S/I</td>\n",
       "      <td>Noviembre 2015</td>\n",
       "      <td>S/I</td>\n",
       "      <td>Junio 2016</td>\n",
       "      <td>S/I</td>\n",
       "    </tr>\n",
       "    <tr>\n",
       "      <th>5</th>\n",
       "      <td>CONSTRUCCIÓN URBANISMO CHE GUEVARA DE LA MISIÓ...</td>\n",
       "      <td>Paralizada</td>\n",
       "      <td>30%</td>\n",
       "      <td>S/I</td>\n",
       "      <td>Estado Lara</td>\n",
       "      <td>Palavecino</td>\n",
       "      <td>Parroquia José Gregorio Bastidas</td>\n",
       "      <td>Entre 0-5.000</td>\n",
       "      <td>Corporación de Desarrollo \"Jacinto Lara\" (CORP...</td>\n",
       "      <td>Luis Reyes Reyes</td>\n",
       "      <td>S/I</td>\n",
       "      <td>USD 46.766.793</td>\n",
       "      <td>S/I</td>\n",
       "      <td>S/I</td>\n",
       "      <td>2014</td>\n",
       "      <td>2014</td>\n",
       "      <td>2016</td>\n",
       "      <td>S/I</td>\n",
       "    </tr>\n",
       "  </tbody>\n",
       "</table>\n",
       "</div>"
      ],
      "text/plain": [
       "                                                Obra  \\\n",
       "0                COMPLEJO HABITACIONAL «CHE GUEVARA»   \n",
       "1  DESARROLLO HABITACIONAL BARU I, BARU II Y BARU...   \n",
       "2                DESARROLLO HABITACIONAL NUEVA OJEDA   \n",
       "3                          URBANIZACIÓN BANCO OBRERO   \n",
       "4                 CONJUNTO DE RESIDENCIAS AV. CEDEÑO   \n",
       "5  CONSTRUCCIÓN URBANISMO CHE GUEVARA DE LA MISIÓ...   \n",
       "\n",
       "                                     Status Ejecución física %  \\\n",
       "0  Con recursos desembolsados - no iniciada                S/I   \n",
       "1                                Paralizada             14,53%   \n",
       "2                                Paralizada                70%   \n",
       "3                                Paralizada                15%   \n",
       "4                                Paralizada                S/I   \n",
       "5                                Paralizada                30%   \n",
       "\n",
       "  Ejecución financiera %          Estado      Municipio  \\\n",
       "0                    S/I  Estado Yaracuy  Independencia   \n",
       "1                    S/I    Estado Zulia  San Francisco   \n",
       "2                    S/I    Estado Zulia     Lagunillas   \n",
       "3                    S/I  Estado Yaracuy     San Felipe   \n",
       "4                    S/I  Estado Yaracuy     San Felipe   \n",
       "5                    S/I     Estado Lara     Palavecino   \n",
       "\n",
       "                                           Dirección Personas afectadas  \\\n",
       "0                   Sector San Rafael, Independencia      Entre 0-5.000   \n",
       "1  Av. Don Manuel Belloso, Base Aérea Rafael Urda...      Entre 0-5.000   \n",
       "2       Carretera U, sector El Menito. Ciudad Ojeda.      Entre 0-5.000   \n",
       "3                                         San Felipe      Entre 0-5.000   \n",
       "4                Av. Cedeño, sector Ruiz Pineda Sur.      Entre 0-5.000   \n",
       "5                   Parroquia José Gregorio Bastidas      Entre 0-5.000   \n",
       "\n",
       "                                    Ente responsable Funcionario responsable  \\\n",
       "0              Gran Misión Vivienda Venezuela (GMVV)                     S/I   \n",
       "1                              Ministerio de Defensa                     S/I   \n",
       "2  Gran Misión Vivienda Venezuela (GMVV) / Misión...                     S/I   \n",
       "3              Gran Misión Vivienda Venezuela (GMVV)                     S/I   \n",
       "4              Gran Misión Vivienda Venezuela (GMVV)                     S/I   \n",
       "5  Corporación de Desarrollo \"Jacinto Lara\" (CORP...        Luis Reyes Reyes   \n",
       "\n",
       "                            Empresa contratista  \\\n",
       "0                                           S/I   \n",
       "1                                           S/I   \n",
       "2  Iranian International Housing Company, C. A.   \n",
       "3                                           S/I   \n",
       "4                                           S/I   \n",
       "5                                           S/I   \n",
       "\n",
       "  Valor total de la obra USD (millones) Obra financiada por FONDEN  \\\n",
       "0                         USD 3.174.603                        S/I   \n",
       "1                        USD 25.636.094                         Si   \n",
       "2                       USD 518.550.100                         Si   \n",
       "3                        USD 28.571.429                        S/I   \n",
       "4                        USD 21.427.472                        S/I   \n",
       "5                        USD 46.766.793                        S/I   \n",
       "\n",
       "  Monto comprometido USD (millones) Fecha estimada de inicio  \\\n",
       "0                               S/I           Noviembre 2014   \n",
       "1                 USD 10.069.663,10                30/8/2007   \n",
       "2                USD 166.143.982,21               28/08/2009   \n",
       "3                               S/I           Noviembre 2014   \n",
       "4                               S/I           Noviembre 2015   \n",
       "5                               S/I                     2014   \n",
       "\n",
       "  Fecha real de inicio Fecha culminación estimada de la obra  \\\n",
       "0                  S/I                            Marzo 2016   \n",
       "1                  S/I                             31/3/2015   \n",
       "2                  S/I                            30/07/2014   \n",
       "3                 2015                                  2015   \n",
       "4                  S/I                            Junio 2016   \n",
       "5                 2014                                  2016   \n",
       "\n",
       "  Fecha de paralización  \n",
       "0                   S/I  \n",
       "1                   S/I  \n",
       "2                   S/I  \n",
       "3                  2015  \n",
       "4                   S/I  \n",
       "5                   S/I  "
      ]
     },
     "execution_count": 120,
     "metadata": {},
     "output_type": "execute_result"
    }
   ],
   "source": [
    "data_viviendas"
   ]
  },
  {
   "cell_type": "markdown",
   "id": "e9bd8526",
   "metadata": {},
   "source": [
    "# Para conocer las coordenadas de cada una de las obras, hacemos uso de Geopy"
   ]
  },
  {
   "cell_type": "code",
   "execution_count": 121,
   "id": "24275cbf",
   "metadata": {},
   "outputs": [],
   "source": [
    "#Asignamos como dirección el Municipio y Estado de cada obra para conocer sus coordenadas\n",
    "municipio_estado = data_viviendas['Municipio'] + ', ' + data_viviendas['Estado']\n",
    "lista_municipio_estado = municipio_estado.tolist()"
   ]
  },
  {
   "cell_type": "code",
   "execution_count": 122,
   "id": "80776ef8",
   "metadata": {},
   "outputs": [],
   "source": [
    "latitudes = obtener_latitudes(lista_municipio_estado) #obtenemos la latitud de la obra"
   ]
  },
  {
   "cell_type": "code",
   "execution_count": 123,
   "id": "b72d8cc7",
   "metadata": {},
   "outputs": [],
   "source": [
    "longitudes = obtener_longitudes(lista_municipio_estado) #obtenemos la longitud de la obra"
   ]
  },
  {
   "cell_type": "code",
   "execution_count": 124,
   "id": "8fd4faec",
   "metadata": {},
   "outputs": [],
   "source": [
    "data_viviendas['Latitud'] = latitudes #agregamos una nueva columna con todos los valores de las latitudes\n",
    "data_viviendas['Longitud'] = longitudes #agregamos una nueva columna con todos los valores de las longitudes"
   ]
  },
  {
   "cell_type": "markdown",
   "id": "05722d67",
   "metadata": {},
   "source": [
    "### Extraemos la parte numérica de la columna 'Valor total de la obra' para tener un dato de tipo entero"
   ]
  },
  {
   "cell_type": "code",
   "execution_count": 125,
   "id": "1bf0a58a",
   "metadata": {},
   "outputs": [],
   "source": [
    "def extraer_parte_numerica(valor):\n",
    "    valor_numerico = valor.replace('USD ', '').replace('.', '')  # Elimina 'USD ' y los puntos\n",
    "    return int(valor_numerico)"
   ]
  },
  {
   "cell_type": "code",
   "execution_count": 126,
   "id": "a5dd91ff",
   "metadata": {},
   "outputs": [],
   "source": [
    "# Aplicar la función a la columna 'Valor total de la obra'\n",
    "data_viviendas['Valor total de la obra USD (millones)'] = data_viviendas['Valor total de la obra USD (millones)'].apply(extraer_parte_numerica)\n",
    "\n",
    "#Dividimos para tener el total de millones en un número mas legible\n",
    "data_viviendas['Valor total de la obra USD (millones)'] = (data_viviendas['Valor total de la obra USD (millones)'] / 1000000).astype(float)\n"
   ]
  },
  {
   "cell_type": "markdown",
   "id": "65e6747c",
   "metadata": {},
   "source": [
    "### Limpiamos la columna 'Monto comprometido', extraemos la parte numérica, llenamos los valores nulos con '0', transformamos a un tipo de dato float"
   ]
  },
  {
   "cell_type": "code",
   "execution_count": 129,
   "id": "78167856",
   "metadata": {},
   "outputs": [
    {
     "ename": "ValueError",
     "evalue": "invalid literal for int() with base 10: 'S/I'",
     "output_type": "error",
     "traceback": [
      "\u001b[0;31m---------------------------------------------------------------------------\u001b[0m",
      "\u001b[0;31mValueError\u001b[0m                                Traceback (most recent call last)",
      "Cell \u001b[0;32mIn[129], line 1\u001b[0m\n\u001b[0;32m----> 1\u001b[0m data_viviendas[\u001b[38;5;124m'\u001b[39m\u001b[38;5;124mMonto comprometido USD (millones)\u001b[39m\u001b[38;5;124m'\u001b[39m] \u001b[38;5;241m=\u001b[39m data_viviendas[\u001b[38;5;124m'\u001b[39m\u001b[38;5;124mMonto comprometido USD (millones)\u001b[39m\u001b[38;5;124m'\u001b[39m]\u001b[38;5;241m.\u001b[39mapply(extraer_parte_numerica)\n",
      "File \u001b[0;32m~/anaconda3/lib/python3.11/site-packages/pandas/core/series.py:4771\u001b[0m, in \u001b[0;36mSeries.apply\u001b[0;34m(self, func, convert_dtype, args, **kwargs)\u001b[0m\n\u001b[1;32m   4661\u001b[0m \u001b[38;5;28;01mdef\u001b[39;00m \u001b[38;5;21mapply\u001b[39m(\n\u001b[1;32m   4662\u001b[0m     \u001b[38;5;28mself\u001b[39m,\n\u001b[1;32m   4663\u001b[0m     func: AggFuncType,\n\u001b[0;32m   (...)\u001b[0m\n\u001b[1;32m   4666\u001b[0m     \u001b[38;5;241m*\u001b[39m\u001b[38;5;241m*\u001b[39mkwargs,\n\u001b[1;32m   4667\u001b[0m ) \u001b[38;5;241m-\u001b[39m\u001b[38;5;241m>\u001b[39m DataFrame \u001b[38;5;241m|\u001b[39m Series:\n\u001b[1;32m   4668\u001b[0m \u001b[38;5;250m    \u001b[39m\u001b[38;5;124;03m\"\"\"\u001b[39;00m\n\u001b[1;32m   4669\u001b[0m \u001b[38;5;124;03m    Invoke function on values of Series.\u001b[39;00m\n\u001b[1;32m   4670\u001b[0m \n\u001b[0;32m   (...)\u001b[0m\n\u001b[1;32m   4769\u001b[0m \u001b[38;5;124;03m    dtype: float64\u001b[39;00m\n\u001b[1;32m   4770\u001b[0m \u001b[38;5;124;03m    \"\"\"\u001b[39;00m\n\u001b[0;32m-> 4771\u001b[0m     \u001b[38;5;28;01mreturn\u001b[39;00m SeriesApply(\u001b[38;5;28mself\u001b[39m, func, convert_dtype, args, kwargs)\u001b[38;5;241m.\u001b[39mapply()\n",
      "File \u001b[0;32m~/anaconda3/lib/python3.11/site-packages/pandas/core/apply.py:1123\u001b[0m, in \u001b[0;36mSeriesApply.apply\u001b[0;34m(self)\u001b[0m\n\u001b[1;32m   1120\u001b[0m     \u001b[38;5;28;01mreturn\u001b[39;00m \u001b[38;5;28mself\u001b[39m\u001b[38;5;241m.\u001b[39mapply_str()\n\u001b[1;32m   1122\u001b[0m \u001b[38;5;66;03m# self.f is Callable\u001b[39;00m\n\u001b[0;32m-> 1123\u001b[0m \u001b[38;5;28;01mreturn\u001b[39;00m \u001b[38;5;28mself\u001b[39m\u001b[38;5;241m.\u001b[39mapply_standard()\n",
      "File \u001b[0;32m~/anaconda3/lib/python3.11/site-packages/pandas/core/apply.py:1174\u001b[0m, in \u001b[0;36mSeriesApply.apply_standard\u001b[0;34m(self)\u001b[0m\n\u001b[1;32m   1172\u001b[0m     \u001b[38;5;28;01melse\u001b[39;00m:\n\u001b[1;32m   1173\u001b[0m         values \u001b[38;5;241m=\u001b[39m obj\u001b[38;5;241m.\u001b[39mastype(\u001b[38;5;28mobject\u001b[39m)\u001b[38;5;241m.\u001b[39m_values\n\u001b[0;32m-> 1174\u001b[0m         mapped \u001b[38;5;241m=\u001b[39m lib\u001b[38;5;241m.\u001b[39mmap_infer(\n\u001b[1;32m   1175\u001b[0m             values,\n\u001b[1;32m   1176\u001b[0m             f,\n\u001b[1;32m   1177\u001b[0m             convert\u001b[38;5;241m=\u001b[39m\u001b[38;5;28mself\u001b[39m\u001b[38;5;241m.\u001b[39mconvert_dtype,\n\u001b[1;32m   1178\u001b[0m         )\n\u001b[1;32m   1180\u001b[0m \u001b[38;5;28;01mif\u001b[39;00m \u001b[38;5;28mlen\u001b[39m(mapped) \u001b[38;5;129;01mand\u001b[39;00m \u001b[38;5;28misinstance\u001b[39m(mapped[\u001b[38;5;241m0\u001b[39m], ABCSeries):\n\u001b[1;32m   1181\u001b[0m     \u001b[38;5;66;03m# GH#43986 Need to do list(mapped) in order to get treated as nested\u001b[39;00m\n\u001b[1;32m   1182\u001b[0m     \u001b[38;5;66;03m#  See also GH#25959 regarding EA support\u001b[39;00m\n\u001b[1;32m   1183\u001b[0m     \u001b[38;5;28;01mreturn\u001b[39;00m obj\u001b[38;5;241m.\u001b[39m_constructor_expanddim(\u001b[38;5;28mlist\u001b[39m(mapped), index\u001b[38;5;241m=\u001b[39mobj\u001b[38;5;241m.\u001b[39mindex)\n",
      "File \u001b[0;32m~/anaconda3/lib/python3.11/site-packages/pandas/_libs/lib.pyx:2924\u001b[0m, in \u001b[0;36mpandas._libs.lib.map_infer\u001b[0;34m()\u001b[0m\n",
      "Cell \u001b[0;32mIn[125], line 3\u001b[0m, in \u001b[0;36mextraer_parte_numerica\u001b[0;34m(valor)\u001b[0m\n\u001b[1;32m      1\u001b[0m \u001b[38;5;28;01mdef\u001b[39;00m \u001b[38;5;21mextraer_parte_numerica\u001b[39m(valor):\n\u001b[1;32m      2\u001b[0m     valor_numerico \u001b[38;5;241m=\u001b[39m valor\u001b[38;5;241m.\u001b[39mreplace(\u001b[38;5;124m'\u001b[39m\u001b[38;5;124mUSD \u001b[39m\u001b[38;5;124m'\u001b[39m, \u001b[38;5;124m'\u001b[39m\u001b[38;5;124m'\u001b[39m)\u001b[38;5;241m.\u001b[39mreplace(\u001b[38;5;124m'\u001b[39m\u001b[38;5;124m.\u001b[39m\u001b[38;5;124m'\u001b[39m, \u001b[38;5;124m'\u001b[39m\u001b[38;5;124m'\u001b[39m)  \u001b[38;5;66;03m# Elimina 'USD ' y los puntos\u001b[39;00m\n\u001b[0;32m----> 3\u001b[0m     \u001b[38;5;28;01mreturn\u001b[39;00m \u001b[38;5;28mint\u001b[39m(valor_numerico)\n",
      "\u001b[0;31mValueError\u001b[0m: invalid literal for int() with base 10: 'S/I'"
     ]
    }
   ],
   "source": [
    "data_viviendas['Monto comprometido USD (millones)'] = data_viviendas['Monto comprometido USD (millones)'].apply(extraer_parte_numerica)"
   ]
  },
  {
   "cell_type": "code",
   "execution_count": null,
   "id": "b14c53cf",
   "metadata": {},
   "outputs": [],
   "source": [
    "data_final['Monto comprometido USD (millones)'] = data_final['Monto comprometido USD (millones)'].fillna('0')\n",
    "\n",
    "# Convertir la columna a cadena, eliminar los puntos y reemplazar las comas por puntos\n",
    "data_final['Monto comprometido USD (millones)'] = data_final['Monto comprometido USD (millones)'].astype(str)\n",
    "data_final['Monto comprometido USD (millones)'] = data_final['Monto comprometido USD (millones)'].str.replace('.', '').str.replace(',', '.')\n",
    "\n",
    "# Convertir la columna a tipo float\n",
    "data_final['Monto comprometido USD (millones)'] = pd.to_numeric(data_final['Monto comprometido USD (millones)'], errors='coerce')\n",
    "\n",
    "#Dividimos para tener el total de millones en un número más legible\n",
    "data_final['Monto comprometido USD (millones)'] = (data_final['Monto comprometido USD (millones)'] / 1000000).astype(int)"
   ]
  },
  {
   "cell_type": "markdown",
   "id": "edf7a697",
   "metadata": {},
   "source": [
    "### Cambiamos el tipo de dato de la columna 'Fecha estimada de inicio' por datetime y extraemos el año"
   ]
  },
  {
   "cell_type": "code",
   "execution_count": null,
   "id": "dfabc24c",
   "metadata": {},
   "outputs": [],
   "source": [
    "# Convertir la columna 'Fecha estimada de inicio' a datetime\n",
    "data_final['Fecha estimada de inicio'] = pd.to_datetime(data_final['Fecha estimada de inicio'], errors='coerce')\n",
    "data_final['Fecha estimada de inicio'] = data_final['Fecha estimada de inicio'].dt.year"
   ]
  },
  {
   "cell_type": "markdown",
   "id": "f811fae1",
   "metadata": {},
   "source": [
    "### Transformamos las columnas 'Ejecución física' y 'Ejecución financiera' en valores de tipo float, para ello llenamos los valores 'S/I' con 0 y extraemos la parte numérica "
   ]
  },
  {
   "cell_type": "code",
   "execution_count": null,
   "id": "a435cf12",
   "metadata": {},
   "outputs": [],
   "source": [
    "data_final['Ejecución física %'] = data_final['Ejecución física %'].replace('S/I', np.nan)\n",
    "data_final['Ejecución financiera %'] = data_final['Ejecución financiera %'].replace('S/I', np.nan)"
   ]
  },
  {
   "cell_type": "code",
   "execution_count": null,
   "id": "bd20c2d7",
   "metadata": {},
   "outputs": [],
   "source": [
    "data_final['Ejecución física %'] = data_final['Ejecución física %'].apply(extract_numeric_value)\n",
    "data_final['Ejecución física %'] = data_final['Ejecución física %'].str.replace(',', '.').replace({None: '0'})\n",
    "\n",
    "# Convertir la columna a tipo float\n",
    "data_final['Ejecución física %'] = data_final['Ejecución física %'].astype(float)"
   ]
  },
  {
   "cell_type": "code",
   "execution_count": null,
   "id": "2b742a65",
   "metadata": {},
   "outputs": [],
   "source": [
    "data_final['Ejecución financiera %'] = data_final['Ejecución financiera %'].apply(extract_numeric_value)\n",
    "data_final['Ejecución financiera %'] = data_final['Ejecución financiera %'].str.replace(',', '.').replace({None: '0'})\n",
    "\n",
    "# Convertir la columna a tipo float\n",
    "data_final['Ejecución financiera %'] = data_final['Ejecución financiera %'].astype(float)"
   ]
  },
  {
   "cell_type": "markdown",
   "id": "625fd8dd",
   "metadata": {},
   "source": [
    "### Añadimos una nueva columna para indicar cuál es el sector correspondiente a la obra"
   ]
  },
  {
   "cell_type": "code",
   "execution_count": null,
   "id": "d37e73a1",
   "metadata": {},
   "outputs": [],
   "source": [
    "data_final['Sector'] = 'Transporte'"
   ]
  },
  {
   "cell_type": "code",
   "execution_count": null,
   "id": "e985713d",
   "metadata": {
    "scrolled": true
   },
   "outputs": [],
   "source": [
    "#Reordenamos las columnas\n",
    "nuevo_orden = ['Sector','Obra','Status','Ejecución física %','Ejecución financiera %','Estado','Municipio','Dirección','Personas afectadas','Ente responsable','Funcionario responsable','Empresa contratista','Valor total de la obra USD (millones)','Obra financiada por FONDEN','Monto comprometido USD (millones)','Fecha estimada de inicio','Fecha real de inicio','Fecha culminación estimada de la obra','Fecha de paralización', 'Latitud', 'Longitud']\n",
    "data_final = data_final[nuevo_orden]\n",
    "data_final.head(20)"
   ]
  },
  {
   "cell_type": "markdown",
   "id": "d5226f24",
   "metadata": {},
   "source": [
    "### Exportamos nuestro dataframe "
   ]
  },
  {
   "cell_type": "code",
   "execution_count": null,
   "id": "db6cda11",
   "metadata": {},
   "outputs": [],
   "source": [
    "data_final.to_csv('obras_transporte.csv', index=False)"
   ]
  },
  {
   "cell_type": "code",
   "execution_count": null,
   "id": "ac3ae91a",
   "metadata": {},
   "outputs": [],
   "source": []
  }
 ],
 "metadata": {
  "kernelspec": {
   "display_name": "Python 3 (ipykernel)",
   "language": "python",
   "name": "python3"
  },
  "language_info": {
   "codemirror_mode": {
    "name": "ipython",
    "version": 3
   },
   "file_extension": ".py",
   "mimetype": "text/x-python",
   "name": "python",
   "nbconvert_exporter": "python",
   "pygments_lexer": "ipython3",
   "version": "3.11.4"
  }
 },
 "nbformat": 4,
 "nbformat_minor": 5
}
