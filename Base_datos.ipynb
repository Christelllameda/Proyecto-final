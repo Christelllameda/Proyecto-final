{
 "cells": [
  {
   "cell_type": "code",
   "execution_count": 1,
   "id": "d436c8bc",
   "metadata": {},
   "outputs": [],
   "source": [
    "#pip install pymongo"
   ]
  },
  {
   "cell_type": "code",
   "execution_count": 15,
   "id": "90f433f8",
   "metadata": {},
   "outputs": [],
   "source": [
    "from pymongo import MongoClient\n",
    "import csv"
   ]
  },
  {
   "cell_type": "code",
   "execution_count": 16,
   "id": "6cae092e",
   "metadata": {},
   "outputs": [
    {
     "data": {
      "text/plain": [
       "MongoClient(host=['localhost:27017'], document_class=dict, tz_aware=False, connect=True)"
      ]
     },
     "execution_count": 16,
     "metadata": {},
     "output_type": "execute_result"
    }
   ],
   "source": [
    "str_conn = 'mongodb://localhost:27017'   # str_con por defecto\n",
    "\n",
    "cursor = MongoClient(str_conn)\n",
    "\n",
    "cursor"
   ]
  },
  {
   "cell_type": "markdown",
   "id": "ef008013",
   "metadata": {},
   "source": [
    "### Luego de realizar la conexión, observamos las bases de datos que tenemos en mongo"
   ]
  },
  {
   "cell_type": "code",
   "execution_count": 17,
   "id": "24de9356",
   "metadata": {},
   "outputs": [
    {
     "data": {
      "text/plain": [
       "['admin', 'companies', 'config', 'local']"
      ]
     },
     "execution_count": 17,
     "metadata": {},
     "output_type": "execute_result"
    }
   ],
   "source": [
    "cursor.list_database_names()"
   ]
  },
  {
   "cell_type": "markdown",
   "id": "2a999fe6",
   "metadata": {},
   "source": [
    "### Creamos nuestra base de datos 'obras_inconclusas'"
   ]
  },
  {
   "cell_type": "code",
   "execution_count": 18,
   "id": "3703c3a1",
   "metadata": {},
   "outputs": [],
   "source": [
    "db = cursor.obras_inconclusas"
   ]
  },
  {
   "cell_type": "markdown",
   "id": "33e9b724",
   "metadata": {},
   "source": [
    "### Creamos una nueva colección 'obras_transporte'"
   ]
  },
  {
   "cell_type": "code",
   "execution_count": 34,
   "id": "e8f37cd2",
   "metadata": {},
   "outputs": [],
   "source": [
    "collection = db[\"obras_transporte\"]"
   ]
  },
  {
   "cell_type": "markdown",
   "id": "ec9d5e1e",
   "metadata": {},
   "source": [
    "### Para cargar los datos de nuestro archivo 'obras_transporte.csv' en la colección"
   ]
  },
  {
   "cell_type": "code",
   "execution_count": 35,
   "id": "e488efad",
   "metadata": {},
   "outputs": [],
   "source": [
    "with open('/Users/christelllameda/ironhack/Proyecto-Nro-3/data/obras_transporte.csv', \"r\") as csv_file:\n",
    "    csv_reader = csv.DictReader(csv_file)\n",
    "\n",
    "    # Itera sobre las filas del archivo CSV e inserta cada fila como un documento en la colección\n",
    "    for row in csv_reader:\n",
    "        # Convierte cada fila en un diccionario\n",
    "        data = {}\n",
    "        for key, value in row.items():\n",
    "            data[key] = value\n",
    "\n",
    "        # Inserta el documento en la colección\n",
    "        collection.insert_one(data)"
   ]
  },
  {
   "cell_type": "markdown",
   "id": "80102b90",
   "metadata": {},
   "source": [
    "### Revisamos de nuevo la lista de bases de datos y vemos que se creó nuestra base de datos 'obras_inconclusas'"
   ]
  },
  {
   "cell_type": "code",
   "execution_count": 21,
   "id": "b9567ee7",
   "metadata": {},
   "outputs": [
    {
     "data": {
      "text/plain": [
       "['admin', 'companies', 'config', 'local', 'obras_inconclusas']"
      ]
     },
     "execution_count": 21,
     "metadata": {},
     "output_type": "execute_result"
    }
   ],
   "source": [
    "cursor.list_database_names()"
   ]
  },
  {
   "cell_type": "markdown",
   "id": "7f09c561",
   "metadata": {},
   "source": [
    "### Hacemos el mismo procedimiento para la nueva colección 'obras_vialidad' "
   ]
  },
  {
   "cell_type": "code",
   "execution_count": 30,
   "id": "a182690a",
   "metadata": {},
   "outputs": [],
   "source": [
    "collection = db[\"obras_vialidad\"]"
   ]
  },
  {
   "cell_type": "code",
   "execution_count": 31,
   "id": "aa9b8912",
   "metadata": {},
   "outputs": [],
   "source": [
    "with open('/Users/christelllameda/ironhack/Proyecto-Nro-3/data/obras_vialidad.csv', \"r\") as csv_file:\n",
    "    csv_reader = csv.DictReader(csv_file)\n",
    "\n",
    "    # Itera sobre las filas del archivo CSV e inserta cada fila como un documento en la colección\n",
    "    for row in csv_reader:\n",
    "        # Convierte cada fila en un diccionario\n",
    "        data = {}\n",
    "        for key, value in row.items():\n",
    "            data[key] = value\n",
    "\n",
    "        # Inserta el documento en la colección\n",
    "        collection.insert_one(data)"
   ]
  },
  {
   "cell_type": "markdown",
   "id": "0023f940",
   "metadata": {},
   "source": [
    "### Verificamos la lista de las colecciones de nuestra base de datos"
   ]
  },
  {
   "cell_type": "code",
   "execution_count": 11,
   "id": "267b3edd",
   "metadata": {},
   "outputs": [
    {
     "data": {
      "text/plain": [
       "['obras_vialidad', 'obras_transporte']"
      ]
     },
     "execution_count": 11,
     "metadata": {},
     "output_type": "execute_result"
    }
   ],
   "source": [
    "db.list_collection_names()"
   ]
  },
  {
   "cell_type": "code",
   "execution_count": 25,
   "id": "cf7bdaee",
   "metadata": {},
   "outputs": [
    {
     "data": {
      "text/plain": [
       "[]"
      ]
     },
     "execution_count": 25,
     "metadata": {},
     "output_type": "execute_result"
    }
   ],
   "source": [
    "query = {'Valor total de la obra': {'$gte': 1000000}}\n",
    "\n",
    "\n",
    "list(collection.find(query))"
   ]
  },
  {
   "cell_type": "code",
   "execution_count": null,
   "id": "118a95a0",
   "metadata": {},
   "outputs": [],
   "source": []
  }
 ],
 "metadata": {
  "kernelspec": {
   "display_name": "Python 3 (ipykernel)",
   "language": "python",
   "name": "python3"
  },
  "language_info": {
   "codemirror_mode": {
    "name": "ipython",
    "version": 3
   },
   "file_extension": ".py",
   "mimetype": "text/x-python",
   "name": "python",
   "nbconvert_exporter": "python",
   "pygments_lexer": "ipython3",
   "version": "3.11.4"
  }
 },
 "nbformat": 4,
 "nbformat_minor": 5
}
