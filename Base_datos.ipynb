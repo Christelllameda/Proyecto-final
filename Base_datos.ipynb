{
 "cells": [
  {
   "cell_type": "code",
   "execution_count": 14,
   "id": "d436c8bc",
   "metadata": {},
   "outputs": [],
   "source": [
    "#pip install pymongo\n",
    "#pip install pandas pymongo openpyxl"
   ]
  },
  {
   "cell_type": "code",
   "execution_count": 23,
   "id": "90f433f8",
   "metadata": {},
   "outputs": [],
   "source": [
    "from pymongo import MongoClient\n",
    "import csv\n",
    "import pandas as pd"
   ]
  },
  {
   "cell_type": "code",
   "execution_count": 16,
   "id": "6cae092e",
   "metadata": {},
   "outputs": [
    {
     "data": {
      "text/plain": [
       "MongoClient(host=['localhost:27017'], document_class=dict, tz_aware=False, connect=True)"
      ]
     },
     "execution_count": 16,
     "metadata": {},
     "output_type": "execute_result"
    }
   ],
   "source": [
    "str_conn = 'mongodb://localhost:27017'   # str_con por defecto\n",
    "\n",
    "cursor = MongoClient(str_conn)\n",
    "\n",
    "cursor"
   ]
  },
  {
   "cell_type": "markdown",
   "id": "ef008013",
   "metadata": {},
   "source": [
    "### Luego de realizar la conexión, observamos las bases de datos que tenemos en mongo"
   ]
  },
  {
   "cell_type": "code",
   "execution_count": 17,
   "id": "24de9356",
   "metadata": {},
   "outputs": [
    {
     "data": {
      "text/plain": [
       "['admin', 'companies', 'config', 'local']"
      ]
     },
     "execution_count": 17,
     "metadata": {},
     "output_type": "execute_result"
    }
   ],
   "source": [
    "cursor.list_database_names()"
   ]
  },
  {
   "cell_type": "markdown",
   "id": "2a999fe6",
   "metadata": {},
   "source": [
    "### Creamos nuestra base de datos 'total_obras_inconclusas'"
   ]
  },
  {
   "cell_type": "code",
   "execution_count": 18,
   "id": "3703c3a1",
   "metadata": {},
   "outputs": [],
   "source": [
    "db = cursor.total_obras_inconclusas"
   ]
  },
  {
   "cell_type": "markdown",
   "id": "33e9b724",
   "metadata": {},
   "source": [
    "### Creamos una nueva colección 'obras_inconclusas'"
   ]
  },
  {
   "cell_type": "code",
   "execution_count": 19,
   "id": "e8f37cd2",
   "metadata": {},
   "outputs": [],
   "source": [
    "collection = db[\"obras_inconclusas\"]"
   ]
  },
  {
   "cell_type": "code",
   "execution_count": 25,
   "id": "a710492c",
   "metadata": {},
   "outputs": [],
   "source": [
    "data = pd.read_excel('/Users/christelllameda/ironhack/Proyecto-final/data/obras_inconclusas.xlsx')"
   ]
  },
  {
   "cell_type": "markdown",
   "id": "ec9d5e1e",
   "metadata": {},
   "source": [
    "### Para cargar los datos de nuestro archivo 'obras_inconclusas.xlsx' en la colección"
   ]
  },
  {
   "cell_type": "code",
   "execution_count": 26,
   "id": "350d225c",
   "metadata": {},
   "outputs": [],
   "source": [
    "for _, row in data.iterrows():\n",
    "    # Convierte cada fila en un diccionario\n",
    "    row_dict = row.to_dict()\n",
    "\n",
    "    # Inserta el documento en la colección\n",
    "    collection.insert_one(row_dict)"
   ]
  },
  {
   "cell_type": "markdown",
   "id": "80102b90",
   "metadata": {},
   "source": [
    "### Revisamos de nuevo la lista de bases de datos y vemos que se creó nuestra base de datos 'obras_inconclusas'"
   ]
  },
  {
   "cell_type": "code",
   "execution_count": 27,
   "id": "b9567ee7",
   "metadata": {},
   "outputs": [
    {
     "data": {
      "text/plain": [
       "['admin', 'companies', 'config', 'local', 'total_obras_inconclusas']"
      ]
     },
     "execution_count": 27,
     "metadata": {},
     "output_type": "execute_result"
    }
   ],
   "source": [
    "cursor.list_database_names()"
   ]
  },
  {
   "cell_type": "markdown",
   "id": "0023f940",
   "metadata": {},
   "source": [
    "### Verificamos la lista de las colecciones de nuestra base de datos"
   ]
  },
  {
   "cell_type": "code",
   "execution_count": 28,
   "id": "267b3edd",
   "metadata": {},
   "outputs": [
    {
     "data": {
      "text/plain": [
       "['obras_inconclusas']"
      ]
     },
     "execution_count": 28,
     "metadata": {},
     "output_type": "execute_result"
    }
   ],
   "source": [
    "db.list_collection_names()"
   ]
  },
  {
   "cell_type": "code",
   "execution_count": 35,
   "id": "cf7bdaee",
   "metadata": {},
   "outputs": [
    {
     "data": {
      "text/plain": [
       "[{'_id': ObjectId('6568743ff06d1f41b531593d'),\n",
       "  'Sector': 'Transporte',\n",
       "  'Obra': 'CONSTRUCCIÓN DE LÍNEA 2 DEL METRO DE MARACAIBO',\n",
       "  'Status': 'Con recursos desembolsados - no iniciada',\n",
       "  'Ejecución física %': 0.0,\n",
       "  'Ejecución financiera %': 0.0,\n",
       "  'Estado': 'Estado Zulia',\n",
       "  'Municipio': 'Maracaibo/ San Francisco',\n",
       "  'Dirección': 'Línea 2: Recorrido desde el este hacia el oeste de la ciudad.',\n",
       "  'Personas afectadas': 'Entre 5.001 y 100.000',\n",
       "  'Ente responsable': 'Metro de Maracaibo, C.A. / Ministerio de Transporte Terrestre',\n",
       "  'Funcionario responsable': 'Haiman El Troudi',\n",
       "  'Empresa contratista': 'S/I',\n",
       "  'Valor total de la obra USD (millones)': 0.0,\n",
       "  'Obra financiada por FONDEN': 'Si',\n",
       "  'Monto comprometido USD (millones)': 252.0,\n",
       "  'Fecha estimada de inicio': nan,\n",
       "  'Fecha real de inicio': 'S/I',\n",
       "  'Fecha culminación estimada de la obra': 'Tentativamente, en 2015 (proyecto original de la L2).',\n",
       "  'Fecha de paralización': 'S/I',\n",
       "  'Latitud': 10.5388269,\n",
       "  'Longitud': -71.6416717},\n",
       " {'_id': ObjectId('6568743ff06d1f41b531593e'),\n",
       "  'Sector': 'Transporte',\n",
       "  'Obra': 'FERROCARRIL PUERTO CABELLO – BARQUISIMETO (REHABILITACIÓN)',\n",
       "  'Status': 'Con recursos desembolsados - no iniciada',\n",
       "  'Ejecución física %': 85.0,\n",
       "  'Ejecución financiera %': 0.0,\n",
       "  'Estado': 'Estado Carabobo',\n",
       "  'Municipio': 'Puerto Cabello/ Iribarren',\n",
       "  'Dirección': 'S/I',\n",
       "  'Personas afectadas': 'Más de 1.000.001',\n",
       "  'Ente responsable': 'Instituto de Ferrocarriles del Estado (IFE)',\n",
       "  'Funcionario responsable': 'S/I',\n",
       "  'Empresa contratista': 'Yankuang Group Corporation LTD/ Ferroviaria Latinoamericana (Ferrolasa)',\n",
       "  'Valor total de la obra USD (millones)': 0.0,\n",
       "  'Obra financiada por FONDEN': 'Si',\n",
       "  'Monto comprometido USD (millones)': 268.0,\n",
       "  'Fecha estimada de inicio': 2004.0,\n",
       "  'Fecha real de inicio': 'S/I',\n",
       "  'Fecha culminación estimada de la obra': 2008,\n",
       "  'Fecha de paralización': 'S/I',\n",
       "  'Latitud': 10.47306,\n",
       "  'Longitud': -68.0125},\n",
       " {'_id': ObjectId('6568743ff06d1f41b531595a'),\n",
       "  'Sector': 'Salud',\n",
       "  'Obra': 'AMPLIACIÓN DEL AMBULATORIO DE CABUDARE',\n",
       "  'Status': 'Paralizada',\n",
       "  'Ejecución física %': 60.0,\n",
       "  'Ejecución financiera %': nan,\n",
       "  'Estado': 'Estado Lara',\n",
       "  'Municipio': 'Palavecino',\n",
       "  'Dirección': 'Prolongacion AV. La Mata Frente a la Urb. Santo Borgel, 3001 Cabudare',\n",
       "  'Personas afectadas': 'Entre 100.001 y 1.000.000',\n",
       "  'Ente responsable': 'Gobernación del estado Lara',\n",
       "  'Funcionario responsable': 'Henri Falcón/ Gerson Pacheco',\n",
       "  'Empresa contratista': 'S/I',\n",
       "  'Valor total de la obra USD (millones)': 0.007062,\n",
       "  'Obra financiada por FONDEN': 'S/I',\n",
       "  'Monto comprometido USD (millones)': 0.0,\n",
       "  'Fecha estimada de inicio': 2009.0,\n",
       "  'Fecha real de inicio': 2012,\n",
       "  'Fecha culminación estimada de la obra': 2012,\n",
       "  'Fecha de paralización': 'S/I',\n",
       "  'Latitud': 9.98749135,\n",
       "  'Longitud': -69.2335086715966},\n",
       " {'_id': ObjectId('6568743ff06d1f41b531595b'),\n",
       "  'Sector': 'Salud',\n",
       "  'Obra': 'CENTRO NACIONAL DE ONCOLOGÍA',\n",
       "  'Status': 'Paralizada',\n",
       "  'Ejecución física %': 70.0,\n",
       "  'Ejecución financiera %': nan,\n",
       "  'Estado': 'Estado Guárico',\n",
       "  'Municipio': 'Leonardo Infante/ Chaguaramas',\n",
       "  'Dirección': 'Carretera nacional entre Valle de la Pascua y Chaguaramas.',\n",
       "  'Personas afectadas': 'Entre 0-5.000',\n",
       "  'Ente responsable': 'Ministerio de Salud',\n",
       "  'Funcionario responsable': 'Eugenia Sader',\n",
       "  'Empresa contratista': 'Consorcio Vialidad Sucre y Alba Bolivariana /Consorcio Corpomed-Conmed / Constructora de la Fuerza Armada Nacional Bolivariana (CONSTRUFANB)',\n",
       "  'Valor total de la obra USD (millones)': 0.019005,\n",
       "  'Obra financiada por FONDEN': 'S/I',\n",
       "  'Monto comprometido USD (millones)': 0.0,\n",
       "  'Fecha estimada de inicio': 2007.0,\n",
       "  'Fecha real de inicio': 'S/I',\n",
       "  'Fecha culminación estimada de la obra': 'S/I',\n",
       "  'Fecha de paralización': 'S/I',\n",
       "  'Latitud': 9.333774,\n",
       "  'Longitud': -66.2530109},\n",
       " {'_id': ObjectId('6568743ff06d1f41b531595d'),\n",
       "  'Sector': 'Salud',\n",
       "  'Obra': 'HOSPITAL CARDIOLÓGICO DE ADULTOS',\n",
       "  'Status': 'Paralizada con daños en su infraestructura',\n",
       "  'Ejecución física %': 30.0,\n",
       "  'Ejecución financiera %': nan,\n",
       "  'Estado': 'Distrito Capital',\n",
       "  'Municipio': 'Libertador',\n",
       "  'Dirección': 'Avenida Teherán de Montalbán.',\n",
       "  'Personas afectadas': 'Entre 0-5.000',\n",
       "  'Ente responsable': 'Ministerio de Salud / Ministerio de Infraestructura',\n",
       "  'Funcionario responsable': 'Eugenia Sader / Isidoro Rondon',\n",
       "  'Empresa contratista': 'Consorcio de Vialidad Sucre y Alba Bolivariana (Convialba) / Constructora Pemegas / Precomprimidos C.A. /Consorcio Corpomed-Conmed /Constructora de la Fuerza Armada Nacional Bolivariana (CONSTRUFANB)',\n",
       "  'Valor total de la obra USD (millones)': 0.024777,\n",
       "  'Obra financiada por FONDEN': 'S/I',\n",
       "  'Monto comprometido USD (millones)': 0.0,\n",
       "  'Fecha estimada de inicio': 2008.0,\n",
       "  'Fecha real de inicio': 'S/I',\n",
       "  'Fecha culminación estimada de la obra': datetime.datetime(2011, 3, 31, 0, 0),\n",
       "  'Fecha de paralización': 'S/I',\n",
       "  'Latitud': 10.5010211,\n",
       "  'Longitud': -66.9602804},\n",
       " {'_id': ObjectId('6568743ff06d1f41b531595e'),\n",
       "  'Sector': 'Salud',\n",
       "  'Obra': 'HOSPITAL DE BUCARAL «JESÚS DE NAZARET»',\n",
       "  'Status': 'Paralizada',\n",
       "  'Ejecución física %': 70.0,\n",
       "  'Ejecución financiera %': nan,\n",
       "  'Estado': 'Estado Carabobo',\n",
       "  'Municipio': 'Valencia',\n",
       "  'Dirección': 'Urb. Bucaral. Flor Amarillo. Valencia',\n",
       "  'Personas afectadas': 'Entre 100.001 y 1.000.000',\n",
       "  'Ente responsable': 'Misión Barrio Adentro / Ministerio de Salud',\n",
       "  'Funcionario responsable': 'S/I',\n",
       "  'Empresa contratista': 'Ingenieria de Consultas y Servicios, C.A. (INCOSERCA)',\n",
       "  'Valor total de la obra USD (millones)': 0.036744,\n",
       "  'Obra financiada por FONDEN': 'S/I',\n",
       "  'Monto comprometido USD (millones)': 0.0,\n",
       "  'Fecha estimada de inicio': nan,\n",
       "  'Fecha real de inicio': 'S/I',\n",
       "  'Fecha culminación estimada de la obra': 2013,\n",
       "  'Fecha de paralización': 'S/I',\n",
       "  'Latitud': 10.170026,\n",
       "  'Longitud': -68.0003987},\n",
       " {'_id': ObjectId('6568743ff06d1f41b531595f'),\n",
       "  'Sector': 'Salud',\n",
       "  'Obra': 'HOSPITAL DE GUANTA',\n",
       "  'Status': 'Paralizada',\n",
       "  'Ejecución física %': 95.0,\n",
       "  'Ejecución financiera %': nan,\n",
       "  'Estado': 'Estado Anzoátegui',\n",
       "  'Municipio': 'Guanta',\n",
       "  'Dirección': 'Municipio Guanta, 6014',\n",
       "  'Personas afectadas': 'Entre 5.001 y 100.000',\n",
       "  'Ente responsable': 'Instituto Venezolano de Seguros Sociales (IVSS) / Alcaldía del Municipio de Guanta.',\n",
       "  'Funcionario responsable': 'Carlos Rotondaro / Jhonnatan Marin',\n",
       "  'Empresa contratista': 'S/I',\n",
       "  'Valor total de la obra USD (millones)': 0.001153,\n",
       "  'Obra financiada por FONDEN': 'S/I',\n",
       "  'Monto comprometido USD (millones)': 0.0,\n",
       "  'Fecha estimada de inicio': 2012.0,\n",
       "  'Fecha real de inicio': 2012,\n",
       "  'Fecha culminación estimada de la obra': 2018,\n",
       "  'Fecha de paralización': 'S/I',\n",
       "  'Latitud': 10.233772,\n",
       "  'Longitud': -64.5931668},\n",
       " {'_id': ObjectId('6568743ff06d1f41b5315960'),\n",
       "  'Sector': 'Salud',\n",
       "  'Obra': 'HOSPITAL DEL SEGURO SOCIAL SAN FELIPE',\n",
       "  'Status': 'Paralizada',\n",
       "  'Ejecución física %': 40.0,\n",
       "  'Ejecución financiera %': nan,\n",
       "  'Estado': 'Estado Yaracuy',\n",
       "  'Municipio': 'San Felipe',\n",
       "  'Dirección': 'Av Panamericana, sector Comunivare. Municipio San Felipe',\n",
       "  'Personas afectadas': 'Entre 0-5.000',\n",
       "  'Ente responsable': 'Instituto Venezolano de Seguros Sociales (IVSS)',\n",
       "  'Funcionario responsable': 'S/I',\n",
       "  'Empresa contratista': 'S/I',\n",
       "  'Valor total de la obra USD (millones)': 0.038095,\n",
       "  'Obra financiada por FONDEN': 'S/I',\n",
       "  'Monto comprometido USD (millones)': 0.0,\n",
       "  'Fecha estimada de inicio': nan,\n",
       "  'Fecha real de inicio': 2013,\n",
       "  'Fecha culminación estimada de la obra': 2015,\n",
       "  'Fecha de paralización': 'S/I',\n",
       "  'Latitud': 10.3394796,\n",
       "  'Longitud': -68.7417033},\n",
       " {'_id': ObjectId('6568743ff06d1f41b5315961'),\n",
       "  'Sector': 'Salud',\n",
       "  'Obra': 'HOSPITAL GENERAL DE GASTROENTEROLOGÍA Y ONCOLOGÍA',\n",
       "  'Status': 'Paralizada',\n",
       "  'Ejecución física %': 15.0,\n",
       "  'Ejecución financiera %': nan,\n",
       "  'Estado': 'Estado Mérida',\n",
       "  'Municipio': 'Alberto Adriani',\n",
       "  'Dirección': 'Los pozones, El Vigia',\n",
       "  'Personas afectadas': 'Entre 5.001 y 100.000',\n",
       "  'Ente responsable': 'Fundación de Edificaciones y Equipamiento Hospitalario (Fundeeh) / Ministerio de Salud',\n",
       "  'Funcionario responsable': 'Eugenia Sader',\n",
       "  'Empresa contratista': 'Consorcio Vialidad Sucre y Alba Bolivariana/ Constructora Pemegas / Builca Construcciones C.A.',\n",
       "  'Valor total de la obra USD (millones)': 0.013991,\n",
       "  'Obra financiada por FONDEN': 'S/I',\n",
       "  'Monto comprometido USD (millones)': 0.0,\n",
       "  'Fecha estimada de inicio': 2007.0,\n",
       "  'Fecha real de inicio': 'S/I',\n",
       "  'Fecha culminación estimada de la obra': 'Diciembre de 2008',\n",
       "  'Fecha de paralización': 2011,\n",
       "  'Latitud': 8.62999855,\n",
       "  'Longitud': -71.7285528944813},\n",
       " {'_id': ObjectId('6568743ff06d1f41b5315962'),\n",
       "  'Sector': 'Salud',\n",
       "  'Obra': 'HOSPITAL GENERAL DE ONCOLOGÍA Y TOXICOLOGÍA',\n",
       "  'Status': 'Paralizada con daños en su infraestructura',\n",
       "  'Ejecución física %': 60.0,\n",
       "  'Ejecución financiera %': 0.0,\n",
       "  'Estado': 'Estado Barinas',\n",
       "  'Municipio': 'Barinas',\n",
       "  'Dirección': 'Fundo Nakary, sector Tierra Blanca, Av. Intercomunal Barinas- Barinitas',\n",
       "  'Personas afectadas': 'Más de 1.000.001',\n",
       "  'Ente responsable': 'Ministerio de Salud',\n",
       "  'Funcionario responsable': 'Eugenia Sader',\n",
       "  'Empresa contratista': 'Consorcio de Vialidad Sucre y Alba Bolivariana (Convialba) / Consorcio Corpomed-Conmed (hasta 2014) / Constructora de la Fuerza Armada Nacional Bolivariana (CONSTRUFANB)',\n",
       "  'Valor total de la obra USD (millones)': 0.067295,\n",
       "  'Obra financiada por FONDEN': 'S/I',\n",
       "  'Monto comprometido USD (millones)': 0.0,\n",
       "  'Fecha estimada de inicio': 2007.0,\n",
       "  'Fecha real de inicio': 'S/I',\n",
       "  'Fecha culminación estimada de la obra': 2009,\n",
       "  'Fecha de paralización': 'S/I',\n",
       "  'Latitud': 8.6182737,\n",
       "  'Longitud': -70.2274065},\n",
       " {'_id': ObjectId('6568743ff06d1f41b5315963'),\n",
       "  'Sector': 'Salud',\n",
       "  'Obra': 'HOSPITAL GENERAL MATERNO INFANTIL',\n",
       "  'Status': 'Paralizada con daños en su infraestructura',\n",
       "  'Ejecución física %': 20.0,\n",
       "  'Ejecución financiera %': nan,\n",
       "  'Estado': 'Estado Apure',\n",
       "  'Municipio': 'San Fernando de Apure',\n",
       "  'Dirección': 'El Tocal, Av. Perimetral, San Fernando de Apure',\n",
       "  'Personas afectadas': 'Entre 100.001 y 1.000.000',\n",
       "  'Ente responsable': 'Ministerio de Salud',\n",
       "  'Funcionario responsable': 'Eugenia Sader',\n",
       "  'Empresa contratista': 'Corporación Conmed/ Consorcio Corpomed Corporation C.V',\n",
       "  'Valor total de la obra USD (millones)': 0.010435,\n",
       "  'Obra financiada por FONDEN': 'S/I',\n",
       "  'Monto comprometido USD (millones)': 0.0,\n",
       "  'Fecha estimada de inicio': 2007.0,\n",
       "  'Fecha real de inicio': 'S/I',\n",
       "  'Fecha culminación estimada de la obra': 2009,\n",
       "  'Fecha de paralización': datetime.datetime(2013, 9, 27, 0, 0),\n",
       "  'Latitud': 7.8785583,\n",
       "  'Longitud': -67.4681246},\n",
       " {'_id': ObjectId('6568743ff06d1f41b5315965'),\n",
       "  'Sector': 'Productivo',\n",
       "  'Obra': 'PLANTA PROCESADORA DE SISAL',\n",
       "  'Status': 'Paralizada',\n",
       "  'Ejecución física %': 10.0,\n",
       "  'Ejecución financiera %': 0.0,\n",
       "  'Estado': 'Estado Lara',\n",
       "  'Municipio': 'Urdaneta',\n",
       "  'Dirección': 'San Miguel',\n",
       "  'Personas afectadas': 'Entre 5.001 y 100.000',\n",
       "  'Ente responsable': 'Alcaldía del municipio Urdaneta / Gobernación del estado Lara',\n",
       "  'Funcionario responsable': 'S/I',\n",
       "  'Empresa contratista': 'Venchisa',\n",
       "  'Valor total de la obra USD (millones)': 2.0,\n",
       "  'Obra financiada por FONDEN': 'Si',\n",
       "  'Monto comprometido USD (millones)': 76.0,\n",
       "  'Fecha estimada de inicio': 1999.0,\n",
       "  'Fecha real de inicio': 2002,\n",
       "  'Fecha culminación estimada de la obra': 'S/I',\n",
       "  'Fecha de paralización': 'S/I',\n",
       "  'Latitud': 10.56938905,\n",
       "  'Longitud': -69.5850373844156},\n",
       " {'_id': ObjectId('6568743ff06d1f41b5315969'),\n",
       "  'Sector': 'Productivo',\n",
       "  'Obra': 'ZONA INDUSTRIAL DE CARORA',\n",
       "  'Status': 'Paralizada',\n",
       "  'Ejecución física %': 55.0,\n",
       "  'Ejecución financiera %': 55.0,\n",
       "  'Estado': 'Estado Lara',\n",
       "  'Municipio': 'Torres',\n",
       "  'Dirección': 'Carora',\n",
       "  'Personas afectadas': 'Entre 5.001 y 100.000',\n",
       "  'Ente responsable': 'Compañía Anónima para el Desarrollo Industrial de Torres (COMDITORRES)',\n",
       "  'Funcionario responsable': 'S/I',\n",
       "  'Empresa contratista': 'Constructora 421, C.A.',\n",
       "  'Valor total de la obra USD (millones)': 0.0,\n",
       "  'Obra financiada por FONDEN': 'S/I',\n",
       "  'Monto comprometido USD (millones)': 0.0,\n",
       "  'Fecha estimada de inicio': 2003.0,\n",
       "  'Fecha real de inicio': 'S/I',\n",
       "  'Fecha culminación estimada de la obra': 'S/I',\n",
       "  'Fecha de paralización': 'S/I',\n",
       "  'Latitud': 10.1894345,\n",
       "  'Longitud': -69.8931168},\n",
       " {'_id': ObjectId('6568743ff06d1f41b531596a'),\n",
       "  'Sector': 'Saneamiento ambiental',\n",
       "  'Obra': 'CONEXIÓN COLECTOR AGUAS SERVIDAS A RED PRINCIPAL',\n",
       "  'Status': 'Operativa sin concluir las obras',\n",
       "  'Ejecución física %': 70.0,\n",
       "  'Ejecución financiera %': 0.0,\n",
       "  'Estado': 'Estado Lara',\n",
       "  'Municipio': 'Iribarren',\n",
       "  'Dirección': 'Barrio Rómulo Gallegos, parroquía El Cují',\n",
       "  'Personas afectadas': 'Entre 5.001 y 100.000',\n",
       "  'Ente responsable': 'Hidrolara / Gobernación del estado Lara',\n",
       "  'Funcionario responsable': 'Henri Falcón',\n",
       "  'Empresa contratista': 'S/I',\n",
       "  'Valor total de la obra USD (millones)': 1.22,\n",
       "  'Obra financiada por FONDEN': 'S/I',\n",
       "  'Monto comprometido USD (millones)': 0.0,\n",
       "  'Fecha estimada de inicio': 2015.0,\n",
       "  'Fecha real de inicio': 2015,\n",
       "  'Fecha culminación estimada de la obra': 2018,\n",
       "  'Fecha de paralización': 2017,\n",
       "  'Latitud': 10.1232167,\n",
       "  'Longitud': -69.4087485932272},\n",
       " {'_id': ObjectId('6568743ff06d1f41b5315972'),\n",
       "  'Sector': 'Hidrocarburos',\n",
       "  'Obra': 'PLANTA FERTILIZANTES 4',\n",
       "  'Status': 'Paralizada',\n",
       "  'Ejecución física %': 70.8532,\n",
       "  'Ejecución financiera %': 0.0,\n",
       "  'Estado': 'Estado Carabobo',\n",
       "  'Municipio': 'Juan José Mora',\n",
       "  'Dirección': 'GRC2+M39, Troncal3, 2051, Carabobo',\n",
       "  'Personas afectadas': 'Entre 100.001 y 1.000.000',\n",
       "  'Ente responsable': 'Petroquímica de Venezuela (Pequiven) / Ministerio de Petróleo',\n",
       "  'Funcionario responsable': 'S/I',\n",
       "  'Empresa contratista': 'S/I',\n",
       "  'Valor total de la obra USD (millones)': 0.0,\n",
       "  'Obra financiada por FONDEN': 'Si',\n",
       "  'Monto comprometido USD (millones)': 1555.0,\n",
       "  'Fecha estimada de inicio': 2005.0,\n",
       "  'Fecha real de inicio': 'S/I',\n",
       "  'Fecha culminación estimada de la obra': 2017,\n",
       "  'Fecha de paralización': 'S/I',\n",
       "  'Latitud': 10.44197575,\n",
       "  'Longitud': -68.277612520776}]"
      ]
     },
     "execution_count": 35,
     "metadata": {},
     "output_type": "execute_result"
    }
   ],
   "source": [
    "query = {'Valor total de la obra USD (millones)': {'$lte': 10}}\n",
    "\n",
    "\n",
    "list(collection.find(query))"
   ]
  },
  {
   "cell_type": "code",
   "execution_count": null,
   "id": "118a95a0",
   "metadata": {},
   "outputs": [],
   "source": []
  }
 ],
 "metadata": {
  "kernelspec": {
   "display_name": "Python 3 (ipykernel)",
   "language": "python",
   "name": "python3"
  },
  "language_info": {
   "codemirror_mode": {
    "name": "ipython",
    "version": 3
   },
   "file_extension": ".py",
   "mimetype": "text/x-python",
   "name": "python",
   "nbconvert_exporter": "python",
   "pygments_lexer": "ipython3",
   "version": "3.11.4"
  }
 },
 "nbformat": 4,
 "nbformat_minor": 5
}
